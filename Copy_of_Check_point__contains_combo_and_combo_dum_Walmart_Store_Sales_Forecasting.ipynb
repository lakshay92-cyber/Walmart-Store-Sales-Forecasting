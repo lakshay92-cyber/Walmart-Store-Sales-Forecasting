{
 "cells": [
  {
   "cell_type": "markdown",
   "metadata": {
    "colab_type": "text",
    "id": "8OVH1GC9AaeC"
   },
   "source": [
    "  "
   ]
  },
  {
   "cell_type": "markdown",
   "metadata": {
    "colab_type": "text",
    "id": "6yzhl7kjF-RY"
   },
   "source": [
    "## WALMART STORE SALES PREDICTION - FORECASTING \n",
    "###### Definition of Target and Outcome Window\n",
    "        - The objective is predicting store sales using historical markdown data.One challenge of modelling retail data is the              need to make decisions based on limited history. \n",
    "        - If Christmas comes but once a year, so does the chance to see how strategic decisions impacted the bottom line.\n",
    "        - Our objective is to predict department-wide sales of each store.\n",
    " \n",
    "###### Data Pre-Processing - \n",
    "    - Merging datasets\n",
    "    - Missing Values Treatment (At Store and Department level)\n",
    "    - Univariate Analysis - Outlier analysis\n",
    "    \n",
    "###### Data Exploratory Analysis\n",
    "    - Detecting and converting zeros and negative to missing\n",
    "    - Analyzing 4 major given holidays and weekly sales trend with repect to week no.\n",
    "    - Bivariate Analysis - Correaltion with target variable\n",
    "    - Variable Reduction - VIF\n",
    "\n",
    "###### Model Build and Model Evaluation\n",
    "    - Train and Test split\n",
    "    - Model used :- Linear Regression, Random Forest Regressor, Gradient Boosting Regressor, Lasso Regressor,                                         K Neighbors Regressor, XGB Regressor, Extra Tree Regressor\n",
    "    - Testing Parameters:- MAE(Mean Absolute Error), MSE(Mean Square Error) \n",
    "    - Scoring:- R2\n",
    "\n",
    "###### Submission of final test predictions."
   ]
  },
  {
   "cell_type": "code",
   "execution_count": 1,
   "metadata": {
    "colab": {
     "base_uri": "https://localhost:8080/",
     "height": 88
    },
    "colab_type": "code",
    "id": "DK3i0T6gF-Ra",
    "outputId": "391afc18-1bc7-4e28-c14a-6976b6bf4ea3"
   },
   "outputs": [
    {
     "name": "stdout",
     "output_type": "stream",
     "text": [
      "Requirement already satisfied: ipython-autotime in c:\\users\\chord\\anaconda3\\lib\\site-packages (0.1)\n"
     ]
    }
   ],
   "source": [
    "import pandas as pd\n",
    "import numpy as np\n",
    "import seaborn as sb\n",
    "# import pandas_profiling as pp\n",
    "import matplotlib.pyplot as plt\n",
    "# import statsmodels.api as sm\n",
    "from sklearn import metrics\n",
    "from statsmodels.stats.outliers_influence import variance_inflation_factor\n",
    "import datetime as dt\n",
    "# from sklearn.preprocessing import MinMaxScaler\n",
    "# from sklearn.decomposition import PCA\n",
    "from sklearn.model_selection import cross_val_score, train_test_split, GridSearchCV\n",
    "%matplotlib inline\n",
    "\n",
    "#Models\n",
    "from sklearn.linear_model import LinearRegression,Lasso\n",
    "from sklearn.ensemble import RandomForestRegressor, GradientBoostingRegressor\n",
    "from sklearn.tree import ExtraTreeRegressor\n",
    "from sklearn.svm import SVR\n",
    "from sklearn.neighbors import KNeighborsRegressor\n",
    "from xgboost import XGBRegressor\n",
    "\n",
    "#To calculate time\n",
    "!pip install ipython-autotime\n",
    "%load_ext autotime"
   ]
  },
  {
   "cell_type": "markdown",
   "metadata": {
    "colab_type": "text",
    "id": "krAl1f_NF-Rf"
   },
   "source": [
    "## Importing data "
   ]
  },
  {
   "cell_type": "code",
   "execution_count": 2,
   "metadata": {
    "colab": {
     "base_uri": "https://localhost:8080/",
     "height": 34
    },
    "colab_type": "code",
    "id": "lHeuw7ZWY6F6",
    "outputId": "c2d80dc6-ba8d-408e-a8aa-1a4d72c42d08"
   },
   "outputs": [
    {
     "name": "stdout",
     "output_type": "stream",
     "text": [
      "time: 234 ms\n"
     ]
    }
   ],
   "source": [
    "train = pd.read_csv('train.csv')\n",
    "test = pd.read_csv('test.csv')\n",
    "feat = pd.read_csv('features.csv')\n",
    "store = pd.read_csv('stores.csv')"
   ]
  },
  {
   "cell_type": "code",
   "execution_count": 3,
   "metadata": {
    "colab": {
     "base_uri": "https://localhost:8080/",
     "height": 220
    },
    "colab_type": "code",
    "id": "8MG92_siF-Rn",
    "outputId": "ba14b15b-d7da-444a-a4cf-da327ddeef9f"
   },
   "outputs": [
    {
     "data": {
      "text/html": [
       "<div>\n",
       "<style scoped>\n",
       "    .dataframe tbody tr th:only-of-type {\n",
       "        vertical-align: middle;\n",
       "    }\n",
       "\n",
       "    .dataframe tbody tr th {\n",
       "        vertical-align: top;\n",
       "    }\n",
       "\n",
       "    .dataframe thead th {\n",
       "        text-align: right;\n",
       "    }\n",
       "</style>\n",
       "<table border=\"1\" class=\"dataframe\">\n",
       "  <thead>\n",
       "    <tr style=\"text-align: right;\">\n",
       "      <th></th>\n",
       "      <th>Store</th>\n",
       "      <th>Dept</th>\n",
       "      <th>Date</th>\n",
       "      <th>Weekly_Sales</th>\n",
       "      <th>IsHoliday</th>\n",
       "    </tr>\n",
       "  </thead>\n",
       "  <tbody>\n",
       "    <tr>\n",
       "      <th>1714</th>\n",
       "      <td>1</td>\n",
       "      <td>12</td>\n",
       "      <td>2012-10-19</td>\n",
       "      <td>10830.48</td>\n",
       "      <td>False</td>\n",
       "    </tr>\n",
       "    <tr>\n",
       "      <th>366911</th>\n",
       "      <td>39</td>\n",
       "      <td>49</td>\n",
       "      <td>2010-04-09</td>\n",
       "      <td>7056.36</td>\n",
       "      <td>False</td>\n",
       "    </tr>\n",
       "    <tr>\n",
       "      <th>345306</th>\n",
       "      <td>36</td>\n",
       "      <td>90</td>\n",
       "      <td>2011-09-23</td>\n",
       "      <td>31737.98</td>\n",
       "      <td>False</td>\n",
       "    </tr>\n",
       "    <tr>\n",
       "      <th>402797</th>\n",
       "      <td>43</td>\n",
       "      <td>80</td>\n",
       "      <td>2011-08-26</td>\n",
       "      <td>15737.70</td>\n",
       "      <td>False</td>\n",
       "    </tr>\n",
       "    <tr>\n",
       "      <th>421036</th>\n",
       "      <td>45</td>\n",
       "      <td>94</td>\n",
       "      <td>2010-09-17</td>\n",
       "      <td>5760.43</td>\n",
       "      <td>False</td>\n",
       "    </tr>\n",
       "  </tbody>\n",
       "</table>\n",
       "</div>"
      ],
      "text/plain": [
       "        Store  Dept        Date  Weekly_Sales  IsHoliday\n",
       "1714        1    12  2012-10-19      10830.48      False\n",
       "366911     39    49  2010-04-09       7056.36      False\n",
       "345306     36    90  2011-09-23      31737.98      False\n",
       "402797     43    80  2011-08-26      15737.70      False\n",
       "421036     45    94  2010-09-17       5760.43      False"
      ]
     },
     "execution_count": 3,
     "metadata": {},
     "output_type": "execute_result"
    },
    {
     "name": "stdout",
     "output_type": "stream",
     "text": [
      "time: 28.8 ms\n"
     ]
    }
   ],
   "source": [
    "train.sample(5)"
   ]
  },
  {
   "cell_type": "code",
   "execution_count": 4,
   "metadata": {
    "colab": {
     "base_uri": "https://localhost:8080/",
     "height": 220
    },
    "colab_type": "code",
    "id": "qgA1Y0HFF-Rt",
    "outputId": "f7506855-40fa-4f25-ec87-15c1020652f5"
   },
   "outputs": [
    {
     "data": {
      "text/html": [
       "<div>\n",
       "<style scoped>\n",
       "    .dataframe tbody tr th:only-of-type {\n",
       "        vertical-align: middle;\n",
       "    }\n",
       "\n",
       "    .dataframe tbody tr th {\n",
       "        vertical-align: top;\n",
       "    }\n",
       "\n",
       "    .dataframe thead th {\n",
       "        text-align: right;\n",
       "    }\n",
       "</style>\n",
       "<table border=\"1\" class=\"dataframe\">\n",
       "  <thead>\n",
       "    <tr style=\"text-align: right;\">\n",
       "      <th></th>\n",
       "      <th>Store</th>\n",
       "      <th>Dept</th>\n",
       "      <th>Date</th>\n",
       "      <th>IsHoliday</th>\n",
       "    </tr>\n",
       "  </thead>\n",
       "  <tbody>\n",
       "    <tr>\n",
       "      <th>114630</th>\n",
       "      <td>45</td>\n",
       "      <td>82</td>\n",
       "      <td>2013-06-28</td>\n",
       "      <td>False</td>\n",
       "    </tr>\n",
       "    <tr>\n",
       "      <th>79742</th>\n",
       "      <td>30</td>\n",
       "      <td>91</td>\n",
       "      <td>2013-06-28</td>\n",
       "      <td>False</td>\n",
       "    </tr>\n",
       "    <tr>\n",
       "      <th>14639</th>\n",
       "      <td>6</td>\n",
       "      <td>36</td>\n",
       "      <td>2013-03-15</td>\n",
       "      <td>False</td>\n",
       "    </tr>\n",
       "    <tr>\n",
       "      <th>74773</th>\n",
       "      <td>28</td>\n",
       "      <td>71</td>\n",
       "      <td>2013-04-26</td>\n",
       "      <td>False</td>\n",
       "    </tr>\n",
       "    <tr>\n",
       "      <th>96718</th>\n",
       "      <td>38</td>\n",
       "      <td>10</td>\n",
       "      <td>2013-02-08</td>\n",
       "      <td>True</td>\n",
       "    </tr>\n",
       "  </tbody>\n",
       "</table>\n",
       "</div>"
      ],
      "text/plain": [
       "        Store  Dept        Date  IsHoliday\n",
       "114630     45    82  2013-06-28      False\n",
       "79742      30    91  2013-06-28      False\n",
       "14639       6    36  2013-03-15      False\n",
       "74773      28    71  2013-04-26      False\n",
       "96718      38    10  2013-02-08       True"
      ]
     },
     "execution_count": 4,
     "metadata": {},
     "output_type": "execute_result"
    },
    {
     "name": "stdout",
     "output_type": "stream",
     "text": [
      "time: 14 ms\n"
     ]
    }
   ],
   "source": [
    "test.sample(5)"
   ]
  },
  {
   "cell_type": "code",
   "execution_count": 5,
   "metadata": {
    "colab": {
     "base_uri": "https://localhost:8080/",
     "height": 220
    },
    "colab_type": "code",
    "id": "aEh7PMOPF-Rx",
    "outputId": "33e9043a-934e-4aa4-f7a1-05b15c32ecb0"
   },
   "outputs": [
    {
     "data": {
      "text/html": [
       "<div>\n",
       "<style scoped>\n",
       "    .dataframe tbody tr th:only-of-type {\n",
       "        vertical-align: middle;\n",
       "    }\n",
       "\n",
       "    .dataframe tbody tr th {\n",
       "        vertical-align: top;\n",
       "    }\n",
       "\n",
       "    .dataframe thead th {\n",
       "        text-align: right;\n",
       "    }\n",
       "</style>\n",
       "<table border=\"1\" class=\"dataframe\">\n",
       "  <thead>\n",
       "    <tr style=\"text-align: right;\">\n",
       "      <th></th>\n",
       "      <th>Store</th>\n",
       "      <th>Type</th>\n",
       "      <th>Size</th>\n",
       "    </tr>\n",
       "  </thead>\n",
       "  <tbody>\n",
       "    <tr>\n",
       "      <th>17</th>\n",
       "      <td>18</td>\n",
       "      <td>B</td>\n",
       "      <td>120653</td>\n",
       "    </tr>\n",
       "    <tr>\n",
       "      <th>23</th>\n",
       "      <td>24</td>\n",
       "      <td>A</td>\n",
       "      <td>203819</td>\n",
       "    </tr>\n",
       "    <tr>\n",
       "      <th>13</th>\n",
       "      <td>14</td>\n",
       "      <td>A</td>\n",
       "      <td>200898</td>\n",
       "    </tr>\n",
       "    <tr>\n",
       "      <th>26</th>\n",
       "      <td>27</td>\n",
       "      <td>A</td>\n",
       "      <td>204184</td>\n",
       "    </tr>\n",
       "    <tr>\n",
       "      <th>7</th>\n",
       "      <td>8</td>\n",
       "      <td>A</td>\n",
       "      <td>155078</td>\n",
       "    </tr>\n",
       "  </tbody>\n",
       "</table>\n",
       "</div>"
      ],
      "text/plain": [
       "    Store Type    Size\n",
       "17     18    B  120653\n",
       "23     24    A  203819\n",
       "13     14    A  200898\n",
       "26     27    A  204184\n",
       "7       8    A  155078"
      ]
     },
     "execution_count": 5,
     "metadata": {},
     "output_type": "execute_result"
    },
    {
     "name": "stdout",
     "output_type": "stream",
     "text": [
      "time: 7.95 ms\n"
     ]
    }
   ],
   "source": [
    "store.sample(5)"
   ]
  },
  {
   "cell_type": "code",
   "execution_count": 6,
   "metadata": {
    "colab": {
     "base_uri": "https://localhost:8080/",
     "height": 306
    },
    "colab_type": "code",
    "id": "psw4ggXBF-R3",
    "outputId": "92d8d19e-e69a-4737-cde8-71f324ec1d25"
   },
   "outputs": [
    {
     "data": {
      "text/html": [
       "<div>\n",
       "<style scoped>\n",
       "    .dataframe tbody tr th:only-of-type {\n",
       "        vertical-align: middle;\n",
       "    }\n",
       "\n",
       "    .dataframe tbody tr th {\n",
       "        vertical-align: top;\n",
       "    }\n",
       "\n",
       "    .dataframe thead th {\n",
       "        text-align: right;\n",
       "    }\n",
       "</style>\n",
       "<table border=\"1\" class=\"dataframe\">\n",
       "  <thead>\n",
       "    <tr style=\"text-align: right;\">\n",
       "      <th></th>\n",
       "      <th>Store</th>\n",
       "      <th>Date</th>\n",
       "      <th>Temperature</th>\n",
       "      <th>Fuel_Price</th>\n",
       "      <th>MarkDown1</th>\n",
       "      <th>MarkDown2</th>\n",
       "      <th>MarkDown3</th>\n",
       "      <th>MarkDown4</th>\n",
       "      <th>MarkDown5</th>\n",
       "      <th>CPI</th>\n",
       "      <th>Unemployment</th>\n",
       "      <th>IsHoliday</th>\n",
       "    </tr>\n",
       "  </thead>\n",
       "  <tbody>\n",
       "    <tr>\n",
       "      <th>3538</th>\n",
       "      <td>20</td>\n",
       "      <td>2011-08-19</td>\n",
       "      <td>71.25</td>\n",
       "      <td>3.747</td>\n",
       "      <td>NaN</td>\n",
       "      <td>NaN</td>\n",
       "      <td>NaN</td>\n",
       "      <td>NaN</td>\n",
       "      <td>NaN</td>\n",
       "      <td>208.842436</td>\n",
       "      <td>7.274</td>\n",
       "      <td>False</td>\n",
       "    </tr>\n",
       "    <tr>\n",
       "      <th>4349</th>\n",
       "      <td>24</td>\n",
       "      <td>2013-03-22</td>\n",
       "      <td>31.29</td>\n",
       "      <td>3.999</td>\n",
       "      <td>3691.42</td>\n",
       "      <td>NaN</td>\n",
       "      <td>716.0</td>\n",
       "      <td>573.07</td>\n",
       "      <td>1693.38</td>\n",
       "      <td>138.925484</td>\n",
       "      <td>8.750</td>\n",
       "      <td>False</td>\n",
       "    </tr>\n",
       "    <tr>\n",
       "      <th>3167</th>\n",
       "      <td>18</td>\n",
       "      <td>2011-07-01</td>\n",
       "      <td>69.75</td>\n",
       "      <td>3.815</td>\n",
       "      <td>NaN</td>\n",
       "      <td>NaN</td>\n",
       "      <td>NaN</td>\n",
       "      <td>NaN</td>\n",
       "      <td>NaN</td>\n",
       "      <td>135.446800</td>\n",
       "      <td>8.890</td>\n",
       "      <td>False</td>\n",
       "    </tr>\n",
       "    <tr>\n",
       "      <th>5890</th>\n",
       "      <td>33</td>\n",
       "      <td>2011-05-13</td>\n",
       "      <td>78.24</td>\n",
       "      <td>4.202</td>\n",
       "      <td>NaN</td>\n",
       "      <td>NaN</td>\n",
       "      <td>NaN</td>\n",
       "      <td>NaN</td>\n",
       "      <td>NaN</td>\n",
       "      <td>129.089000</td>\n",
       "      <td>8.687</td>\n",
       "      <td>False</td>\n",
       "    </tr>\n",
       "    <tr>\n",
       "      <th>3840</th>\n",
       "      <td>22</td>\n",
       "      <td>2010-06-11</td>\n",
       "      <td>65.01</td>\n",
       "      <td>2.830</td>\n",
       "      <td>NaN</td>\n",
       "      <td>NaN</td>\n",
       "      <td>NaN</td>\n",
       "      <td>NaN</td>\n",
       "      <td>NaN</td>\n",
       "      <td>136.287426</td>\n",
       "      <td>8.348</td>\n",
       "      <td>False</td>\n",
       "    </tr>\n",
       "  </tbody>\n",
       "</table>\n",
       "</div>"
      ],
      "text/plain": [
       "      Store        Date  Temperature  Fuel_Price  MarkDown1  MarkDown2  \\\n",
       "3538     20  2011-08-19        71.25       3.747        NaN        NaN   \n",
       "4349     24  2013-03-22        31.29       3.999    3691.42        NaN   \n",
       "3167     18  2011-07-01        69.75       3.815        NaN        NaN   \n",
       "5890     33  2011-05-13        78.24       4.202        NaN        NaN   \n",
       "3840     22  2010-06-11        65.01       2.830        NaN        NaN   \n",
       "\n",
       "      MarkDown3  MarkDown4  MarkDown5         CPI  Unemployment  IsHoliday  \n",
       "3538        NaN        NaN        NaN  208.842436         7.274      False  \n",
       "4349      716.0     573.07    1693.38  138.925484         8.750      False  \n",
       "3167        NaN        NaN        NaN  135.446800         8.890      False  \n",
       "5890        NaN        NaN        NaN  129.089000         8.687      False  \n",
       "3840        NaN        NaN        NaN  136.287426         8.348      False  "
      ]
     },
     "execution_count": 6,
     "metadata": {},
     "output_type": "execute_result"
    },
    {
     "name": "stdout",
     "output_type": "stream",
     "text": [
      "time: 14 ms\n"
     ]
    }
   ],
   "source": [
    "feat.sample(5)"
   ]
  },
  {
   "cell_type": "markdown",
   "metadata": {
    "colab_type": "text",
    "id": "DecAl20tUT6N"
   },
   "source": [
    "## Data Pre-processing"
   ]
  },
  {
   "cell_type": "markdown",
   "metadata": {
    "colab_type": "text",
    "id": "wFgLPzAsF-R9"
   },
   "source": [
    "#### Merging train, test with store and feature "
   ]
  },
  {
   "cell_type": "code",
   "execution_count": 7,
   "metadata": {
    "colab": {
     "base_uri": "https://localhost:8080/",
     "height": 34
    },
    "colab_type": "code",
    "id": "asMKvecsF-R-",
    "outputId": "31238752-f534-4dd7-bbf8-a57870e5f223"
   },
   "outputs": [
    {
     "name": "stdout",
     "output_type": "stream",
     "text": [
      "time: 96.7 ms\n"
     ]
    }
   ],
   "source": [
    "train = pd.merge(train,store,how='inner',on =['Store'])"
   ]
  },
  {
   "cell_type": "code",
   "execution_count": 8,
   "metadata": {
    "colab": {
     "base_uri": "https://localhost:8080/",
     "height": 434
    },
    "colab_type": "code",
    "id": "qkAPyiYZF-SC",
    "outputId": "9d7c62db-428b-44f5-f149-dfd71bc73bef"
   },
   "outputs": [
    {
     "data": {
      "text/html": [
       "<div>\n",
       "<style scoped>\n",
       "    .dataframe tbody tr th:only-of-type {\n",
       "        vertical-align: middle;\n",
       "    }\n",
       "\n",
       "    .dataframe tbody tr th {\n",
       "        vertical-align: top;\n",
       "    }\n",
       "\n",
       "    .dataframe thead th {\n",
       "        text-align: right;\n",
       "    }\n",
       "</style>\n",
       "<table border=\"1\" class=\"dataframe\">\n",
       "  <thead>\n",
       "    <tr style=\"text-align: right;\">\n",
       "      <th></th>\n",
       "      <th>Store</th>\n",
       "      <th>Dept</th>\n",
       "      <th>Date</th>\n",
       "      <th>Weekly_Sales</th>\n",
       "      <th>IsHoliday</th>\n",
       "      <th>Type</th>\n",
       "      <th>Size</th>\n",
       "    </tr>\n",
       "  </thead>\n",
       "  <tbody>\n",
       "    <tr>\n",
       "      <th>0</th>\n",
       "      <td>1</td>\n",
       "      <td>1</td>\n",
       "      <td>2010-02-05</td>\n",
       "      <td>24924.50</td>\n",
       "      <td>False</td>\n",
       "      <td>A</td>\n",
       "      <td>151315</td>\n",
       "    </tr>\n",
       "    <tr>\n",
       "      <th>1</th>\n",
       "      <td>1</td>\n",
       "      <td>1</td>\n",
       "      <td>2010-02-12</td>\n",
       "      <td>46039.49</td>\n",
       "      <td>True</td>\n",
       "      <td>A</td>\n",
       "      <td>151315</td>\n",
       "    </tr>\n",
       "    <tr>\n",
       "      <th>2</th>\n",
       "      <td>1</td>\n",
       "      <td>1</td>\n",
       "      <td>2010-02-19</td>\n",
       "      <td>41595.55</td>\n",
       "      <td>False</td>\n",
       "      <td>A</td>\n",
       "      <td>151315</td>\n",
       "    </tr>\n",
       "    <tr>\n",
       "      <th>3</th>\n",
       "      <td>1</td>\n",
       "      <td>1</td>\n",
       "      <td>2010-02-26</td>\n",
       "      <td>19403.54</td>\n",
       "      <td>False</td>\n",
       "      <td>A</td>\n",
       "      <td>151315</td>\n",
       "    </tr>\n",
       "    <tr>\n",
       "      <th>4</th>\n",
       "      <td>1</td>\n",
       "      <td>1</td>\n",
       "      <td>2010-03-05</td>\n",
       "      <td>21827.90</td>\n",
       "      <td>False</td>\n",
       "      <td>A</td>\n",
       "      <td>151315</td>\n",
       "    </tr>\n",
       "    <tr>\n",
       "      <th>...</th>\n",
       "      <td>...</td>\n",
       "      <td>...</td>\n",
       "      <td>...</td>\n",
       "      <td>...</td>\n",
       "      <td>...</td>\n",
       "      <td>...</td>\n",
       "      <td>...</td>\n",
       "    </tr>\n",
       "    <tr>\n",
       "      <th>421565</th>\n",
       "      <td>45</td>\n",
       "      <td>98</td>\n",
       "      <td>2012-09-28</td>\n",
       "      <td>508.37</td>\n",
       "      <td>False</td>\n",
       "      <td>B</td>\n",
       "      <td>118221</td>\n",
       "    </tr>\n",
       "    <tr>\n",
       "      <th>421566</th>\n",
       "      <td>45</td>\n",
       "      <td>98</td>\n",
       "      <td>2012-10-05</td>\n",
       "      <td>628.10</td>\n",
       "      <td>False</td>\n",
       "      <td>B</td>\n",
       "      <td>118221</td>\n",
       "    </tr>\n",
       "    <tr>\n",
       "      <th>421567</th>\n",
       "      <td>45</td>\n",
       "      <td>98</td>\n",
       "      <td>2012-10-12</td>\n",
       "      <td>1061.02</td>\n",
       "      <td>False</td>\n",
       "      <td>B</td>\n",
       "      <td>118221</td>\n",
       "    </tr>\n",
       "    <tr>\n",
       "      <th>421568</th>\n",
       "      <td>45</td>\n",
       "      <td>98</td>\n",
       "      <td>2012-10-19</td>\n",
       "      <td>760.01</td>\n",
       "      <td>False</td>\n",
       "      <td>B</td>\n",
       "      <td>118221</td>\n",
       "    </tr>\n",
       "    <tr>\n",
       "      <th>421569</th>\n",
       "      <td>45</td>\n",
       "      <td>98</td>\n",
       "      <td>2012-10-26</td>\n",
       "      <td>1076.80</td>\n",
       "      <td>False</td>\n",
       "      <td>B</td>\n",
       "      <td>118221</td>\n",
       "    </tr>\n",
       "  </tbody>\n",
       "</table>\n",
       "<p>421570 rows × 7 columns</p>\n",
       "</div>"
      ],
      "text/plain": [
       "        Store  Dept        Date  Weekly_Sales  IsHoliday Type    Size\n",
       "0           1     1  2010-02-05      24924.50      False    A  151315\n",
       "1           1     1  2010-02-12      46039.49       True    A  151315\n",
       "2           1     1  2010-02-19      41595.55      False    A  151315\n",
       "3           1     1  2010-02-26      19403.54      False    A  151315\n",
       "4           1     1  2010-03-05      21827.90      False    A  151315\n",
       "...       ...   ...         ...           ...        ...  ...     ...\n",
       "421565     45    98  2012-09-28        508.37      False    B  118221\n",
       "421566     45    98  2012-10-05        628.10      False    B  118221\n",
       "421567     45    98  2012-10-12       1061.02      False    B  118221\n",
       "421568     45    98  2012-10-19        760.01      False    B  118221\n",
       "421569     45    98  2012-10-26       1076.80      False    B  118221\n",
       "\n",
       "[421570 rows x 7 columns]"
      ]
     },
     "execution_count": 8,
     "metadata": {},
     "output_type": "execute_result"
    },
    {
     "name": "stdout",
     "output_type": "stream",
     "text": [
      "time: 19 ms\n"
     ]
    }
   ],
   "source": [
    "train"
   ]
  },
  {
   "cell_type": "code",
   "execution_count": 9,
   "metadata": {
    "colab": {
     "base_uri": "https://localhost:8080/",
     "height": 34
    },
    "colab_type": "code",
    "id": "Mpp9hQ1YF-SH",
    "outputId": "7182a8af-d751-4359-ea0f-ec13c93c41e1"
   },
   "outputs": [
    {
     "name": "stdout",
     "output_type": "stream",
     "text": [
      "time: 17 ms\n"
     ]
    }
   ],
   "source": [
    "test = pd.merge(test,store,how='inner',on =['Store'])"
   ]
  },
  {
   "cell_type": "code",
   "execution_count": 10,
   "metadata": {
    "colab": {
     "base_uri": "https://localhost:8080/",
     "height": 434
    },
    "colab_type": "code",
    "id": "cu4yiAnKF-SL",
    "outputId": "bf083ae0-d4a2-4f7c-ffdc-cccfb6ca0dba"
   },
   "outputs": [
    {
     "data": {
      "text/html": [
       "<div>\n",
       "<style scoped>\n",
       "    .dataframe tbody tr th:only-of-type {\n",
       "        vertical-align: middle;\n",
       "    }\n",
       "\n",
       "    .dataframe tbody tr th {\n",
       "        vertical-align: top;\n",
       "    }\n",
       "\n",
       "    .dataframe thead th {\n",
       "        text-align: right;\n",
       "    }\n",
       "</style>\n",
       "<table border=\"1\" class=\"dataframe\">\n",
       "  <thead>\n",
       "    <tr style=\"text-align: right;\">\n",
       "      <th></th>\n",
       "      <th>Store</th>\n",
       "      <th>Dept</th>\n",
       "      <th>Date</th>\n",
       "      <th>IsHoliday</th>\n",
       "      <th>Type</th>\n",
       "      <th>Size</th>\n",
       "    </tr>\n",
       "  </thead>\n",
       "  <tbody>\n",
       "    <tr>\n",
       "      <th>0</th>\n",
       "      <td>1</td>\n",
       "      <td>1</td>\n",
       "      <td>2012-11-02</td>\n",
       "      <td>False</td>\n",
       "      <td>A</td>\n",
       "      <td>151315</td>\n",
       "    </tr>\n",
       "    <tr>\n",
       "      <th>1</th>\n",
       "      <td>1</td>\n",
       "      <td>1</td>\n",
       "      <td>2012-11-09</td>\n",
       "      <td>False</td>\n",
       "      <td>A</td>\n",
       "      <td>151315</td>\n",
       "    </tr>\n",
       "    <tr>\n",
       "      <th>2</th>\n",
       "      <td>1</td>\n",
       "      <td>1</td>\n",
       "      <td>2012-11-16</td>\n",
       "      <td>False</td>\n",
       "      <td>A</td>\n",
       "      <td>151315</td>\n",
       "    </tr>\n",
       "    <tr>\n",
       "      <th>3</th>\n",
       "      <td>1</td>\n",
       "      <td>1</td>\n",
       "      <td>2012-11-23</td>\n",
       "      <td>True</td>\n",
       "      <td>A</td>\n",
       "      <td>151315</td>\n",
       "    </tr>\n",
       "    <tr>\n",
       "      <th>4</th>\n",
       "      <td>1</td>\n",
       "      <td>1</td>\n",
       "      <td>2012-11-30</td>\n",
       "      <td>False</td>\n",
       "      <td>A</td>\n",
       "      <td>151315</td>\n",
       "    </tr>\n",
       "    <tr>\n",
       "      <th>...</th>\n",
       "      <td>...</td>\n",
       "      <td>...</td>\n",
       "      <td>...</td>\n",
       "      <td>...</td>\n",
       "      <td>...</td>\n",
       "      <td>...</td>\n",
       "    </tr>\n",
       "    <tr>\n",
       "      <th>115059</th>\n",
       "      <td>45</td>\n",
       "      <td>98</td>\n",
       "      <td>2013-06-28</td>\n",
       "      <td>False</td>\n",
       "      <td>B</td>\n",
       "      <td>118221</td>\n",
       "    </tr>\n",
       "    <tr>\n",
       "      <th>115060</th>\n",
       "      <td>45</td>\n",
       "      <td>98</td>\n",
       "      <td>2013-07-05</td>\n",
       "      <td>False</td>\n",
       "      <td>B</td>\n",
       "      <td>118221</td>\n",
       "    </tr>\n",
       "    <tr>\n",
       "      <th>115061</th>\n",
       "      <td>45</td>\n",
       "      <td>98</td>\n",
       "      <td>2013-07-12</td>\n",
       "      <td>False</td>\n",
       "      <td>B</td>\n",
       "      <td>118221</td>\n",
       "    </tr>\n",
       "    <tr>\n",
       "      <th>115062</th>\n",
       "      <td>45</td>\n",
       "      <td>98</td>\n",
       "      <td>2013-07-19</td>\n",
       "      <td>False</td>\n",
       "      <td>B</td>\n",
       "      <td>118221</td>\n",
       "    </tr>\n",
       "    <tr>\n",
       "      <th>115063</th>\n",
       "      <td>45</td>\n",
       "      <td>98</td>\n",
       "      <td>2013-07-26</td>\n",
       "      <td>False</td>\n",
       "      <td>B</td>\n",
       "      <td>118221</td>\n",
       "    </tr>\n",
       "  </tbody>\n",
       "</table>\n",
       "<p>115064 rows × 6 columns</p>\n",
       "</div>"
      ],
      "text/plain": [
       "        Store  Dept        Date  IsHoliday Type    Size\n",
       "0           1     1  2012-11-02      False    A  151315\n",
       "1           1     1  2012-11-09      False    A  151315\n",
       "2           1     1  2012-11-16      False    A  151315\n",
       "3           1     1  2012-11-23       True    A  151315\n",
       "4           1     1  2012-11-30      False    A  151315\n",
       "...       ...   ...         ...        ...  ...     ...\n",
       "115059     45    98  2013-06-28      False    B  118221\n",
       "115060     45    98  2013-07-05      False    B  118221\n",
       "115061     45    98  2013-07-12      False    B  118221\n",
       "115062     45    98  2013-07-19      False    B  118221\n",
       "115063     45    98  2013-07-26      False    B  118221\n",
       "\n",
       "[115064 rows x 6 columns]"
      ]
     },
     "execution_count": 10,
     "metadata": {},
     "output_type": "execute_result"
    },
    {
     "name": "stdout",
     "output_type": "stream",
     "text": [
      "time: 18.9 ms\n"
     ]
    }
   ],
   "source": [
    "test"
   ]
  },
  {
   "cell_type": "code",
   "execution_count": 11,
   "metadata": {
    "colab": {
     "base_uri": "https://localhost:8080/",
     "height": 34
    },
    "colab_type": "code",
    "id": "GXV2lxmIF-SQ",
    "outputId": "4f54d35a-d07d-4488-9949-78e2c0754b25"
   },
   "outputs": [
    {
     "name": "stdout",
     "output_type": "stream",
     "text": [
      "time: 159 ms\n"
     ]
    }
   ],
   "source": [
    "train = pd.merge(train,feat,how='inner',on =['Store','Date','IsHoliday'])"
   ]
  },
  {
   "cell_type": "code",
   "execution_count": 12,
   "metadata": {
    "colab": {
     "base_uri": "https://localhost:8080/",
     "height": 626
    },
    "colab_type": "code",
    "id": "-1yPtAARF-SV",
    "outputId": "49a561cf-a606-405d-cf5d-6b8ef57c3f7e"
   },
   "outputs": [
    {
     "data": {
      "text/html": [
       "<div>\n",
       "<style scoped>\n",
       "    .dataframe tbody tr th:only-of-type {\n",
       "        vertical-align: middle;\n",
       "    }\n",
       "\n",
       "    .dataframe tbody tr th {\n",
       "        vertical-align: top;\n",
       "    }\n",
       "\n",
       "    .dataframe thead th {\n",
       "        text-align: right;\n",
       "    }\n",
       "</style>\n",
       "<table border=\"1\" class=\"dataframe\">\n",
       "  <thead>\n",
       "    <tr style=\"text-align: right;\">\n",
       "      <th></th>\n",
       "      <th>Store</th>\n",
       "      <th>Dept</th>\n",
       "      <th>Date</th>\n",
       "      <th>Weekly_Sales</th>\n",
       "      <th>IsHoliday</th>\n",
       "      <th>Type</th>\n",
       "      <th>Size</th>\n",
       "      <th>Temperature</th>\n",
       "      <th>Fuel_Price</th>\n",
       "      <th>MarkDown1</th>\n",
       "      <th>MarkDown2</th>\n",
       "      <th>MarkDown3</th>\n",
       "      <th>MarkDown4</th>\n",
       "      <th>MarkDown5</th>\n",
       "      <th>CPI</th>\n",
       "      <th>Unemployment</th>\n",
       "    </tr>\n",
       "  </thead>\n",
       "  <tbody>\n",
       "    <tr>\n",
       "      <th>0</th>\n",
       "      <td>1</td>\n",
       "      <td>1</td>\n",
       "      <td>2010-02-05</td>\n",
       "      <td>24924.50</td>\n",
       "      <td>False</td>\n",
       "      <td>A</td>\n",
       "      <td>151315</td>\n",
       "      <td>42.31</td>\n",
       "      <td>2.572</td>\n",
       "      <td>NaN</td>\n",
       "      <td>NaN</td>\n",
       "      <td>NaN</td>\n",
       "      <td>NaN</td>\n",
       "      <td>NaN</td>\n",
       "      <td>211.096358</td>\n",
       "      <td>8.106</td>\n",
       "    </tr>\n",
       "    <tr>\n",
       "      <th>1</th>\n",
       "      <td>1</td>\n",
       "      <td>2</td>\n",
       "      <td>2010-02-05</td>\n",
       "      <td>50605.27</td>\n",
       "      <td>False</td>\n",
       "      <td>A</td>\n",
       "      <td>151315</td>\n",
       "      <td>42.31</td>\n",
       "      <td>2.572</td>\n",
       "      <td>NaN</td>\n",
       "      <td>NaN</td>\n",
       "      <td>NaN</td>\n",
       "      <td>NaN</td>\n",
       "      <td>NaN</td>\n",
       "      <td>211.096358</td>\n",
       "      <td>8.106</td>\n",
       "    </tr>\n",
       "    <tr>\n",
       "      <th>2</th>\n",
       "      <td>1</td>\n",
       "      <td>3</td>\n",
       "      <td>2010-02-05</td>\n",
       "      <td>13740.12</td>\n",
       "      <td>False</td>\n",
       "      <td>A</td>\n",
       "      <td>151315</td>\n",
       "      <td>42.31</td>\n",
       "      <td>2.572</td>\n",
       "      <td>NaN</td>\n",
       "      <td>NaN</td>\n",
       "      <td>NaN</td>\n",
       "      <td>NaN</td>\n",
       "      <td>NaN</td>\n",
       "      <td>211.096358</td>\n",
       "      <td>8.106</td>\n",
       "    </tr>\n",
       "    <tr>\n",
       "      <th>3</th>\n",
       "      <td>1</td>\n",
       "      <td>4</td>\n",
       "      <td>2010-02-05</td>\n",
       "      <td>39954.04</td>\n",
       "      <td>False</td>\n",
       "      <td>A</td>\n",
       "      <td>151315</td>\n",
       "      <td>42.31</td>\n",
       "      <td>2.572</td>\n",
       "      <td>NaN</td>\n",
       "      <td>NaN</td>\n",
       "      <td>NaN</td>\n",
       "      <td>NaN</td>\n",
       "      <td>NaN</td>\n",
       "      <td>211.096358</td>\n",
       "      <td>8.106</td>\n",
       "    </tr>\n",
       "    <tr>\n",
       "      <th>4</th>\n",
       "      <td>1</td>\n",
       "      <td>5</td>\n",
       "      <td>2010-02-05</td>\n",
       "      <td>32229.38</td>\n",
       "      <td>False</td>\n",
       "      <td>A</td>\n",
       "      <td>151315</td>\n",
       "      <td>42.31</td>\n",
       "      <td>2.572</td>\n",
       "      <td>NaN</td>\n",
       "      <td>NaN</td>\n",
       "      <td>NaN</td>\n",
       "      <td>NaN</td>\n",
       "      <td>NaN</td>\n",
       "      <td>211.096358</td>\n",
       "      <td>8.106</td>\n",
       "    </tr>\n",
       "    <tr>\n",
       "      <th>...</th>\n",
       "      <td>...</td>\n",
       "      <td>...</td>\n",
       "      <td>...</td>\n",
       "      <td>...</td>\n",
       "      <td>...</td>\n",
       "      <td>...</td>\n",
       "      <td>...</td>\n",
       "      <td>...</td>\n",
       "      <td>...</td>\n",
       "      <td>...</td>\n",
       "      <td>...</td>\n",
       "      <td>...</td>\n",
       "      <td>...</td>\n",
       "      <td>...</td>\n",
       "      <td>...</td>\n",
       "      <td>...</td>\n",
       "    </tr>\n",
       "    <tr>\n",
       "      <th>421565</th>\n",
       "      <td>45</td>\n",
       "      <td>93</td>\n",
       "      <td>2012-10-26</td>\n",
       "      <td>2487.80</td>\n",
       "      <td>False</td>\n",
       "      <td>B</td>\n",
       "      <td>118221</td>\n",
       "      <td>58.85</td>\n",
       "      <td>3.882</td>\n",
       "      <td>4018.91</td>\n",
       "      <td>58.08</td>\n",
       "      <td>100.0</td>\n",
       "      <td>211.94</td>\n",
       "      <td>858.33</td>\n",
       "      <td>192.308899</td>\n",
       "      <td>8.667</td>\n",
       "    </tr>\n",
       "    <tr>\n",
       "      <th>421566</th>\n",
       "      <td>45</td>\n",
       "      <td>94</td>\n",
       "      <td>2012-10-26</td>\n",
       "      <td>5203.31</td>\n",
       "      <td>False</td>\n",
       "      <td>B</td>\n",
       "      <td>118221</td>\n",
       "      <td>58.85</td>\n",
       "      <td>3.882</td>\n",
       "      <td>4018.91</td>\n",
       "      <td>58.08</td>\n",
       "      <td>100.0</td>\n",
       "      <td>211.94</td>\n",
       "      <td>858.33</td>\n",
       "      <td>192.308899</td>\n",
       "      <td>8.667</td>\n",
       "    </tr>\n",
       "    <tr>\n",
       "      <th>421567</th>\n",
       "      <td>45</td>\n",
       "      <td>95</td>\n",
       "      <td>2012-10-26</td>\n",
       "      <td>56017.47</td>\n",
       "      <td>False</td>\n",
       "      <td>B</td>\n",
       "      <td>118221</td>\n",
       "      <td>58.85</td>\n",
       "      <td>3.882</td>\n",
       "      <td>4018.91</td>\n",
       "      <td>58.08</td>\n",
       "      <td>100.0</td>\n",
       "      <td>211.94</td>\n",
       "      <td>858.33</td>\n",
       "      <td>192.308899</td>\n",
       "      <td>8.667</td>\n",
       "    </tr>\n",
       "    <tr>\n",
       "      <th>421568</th>\n",
       "      <td>45</td>\n",
       "      <td>97</td>\n",
       "      <td>2012-10-26</td>\n",
       "      <td>6817.48</td>\n",
       "      <td>False</td>\n",
       "      <td>B</td>\n",
       "      <td>118221</td>\n",
       "      <td>58.85</td>\n",
       "      <td>3.882</td>\n",
       "      <td>4018.91</td>\n",
       "      <td>58.08</td>\n",
       "      <td>100.0</td>\n",
       "      <td>211.94</td>\n",
       "      <td>858.33</td>\n",
       "      <td>192.308899</td>\n",
       "      <td>8.667</td>\n",
       "    </tr>\n",
       "    <tr>\n",
       "      <th>421569</th>\n",
       "      <td>45</td>\n",
       "      <td>98</td>\n",
       "      <td>2012-10-26</td>\n",
       "      <td>1076.80</td>\n",
       "      <td>False</td>\n",
       "      <td>B</td>\n",
       "      <td>118221</td>\n",
       "      <td>58.85</td>\n",
       "      <td>3.882</td>\n",
       "      <td>4018.91</td>\n",
       "      <td>58.08</td>\n",
       "      <td>100.0</td>\n",
       "      <td>211.94</td>\n",
       "      <td>858.33</td>\n",
       "      <td>192.308899</td>\n",
       "      <td>8.667</td>\n",
       "    </tr>\n",
       "  </tbody>\n",
       "</table>\n",
       "<p>421570 rows × 16 columns</p>\n",
       "</div>"
      ],
      "text/plain": [
       "        Store  Dept        Date  Weekly_Sales  IsHoliday Type    Size  \\\n",
       "0           1     1  2010-02-05      24924.50      False    A  151315   \n",
       "1           1     2  2010-02-05      50605.27      False    A  151315   \n",
       "2           1     3  2010-02-05      13740.12      False    A  151315   \n",
       "3           1     4  2010-02-05      39954.04      False    A  151315   \n",
       "4           1     5  2010-02-05      32229.38      False    A  151315   \n",
       "...       ...   ...         ...           ...        ...  ...     ...   \n",
       "421565     45    93  2012-10-26       2487.80      False    B  118221   \n",
       "421566     45    94  2012-10-26       5203.31      False    B  118221   \n",
       "421567     45    95  2012-10-26      56017.47      False    B  118221   \n",
       "421568     45    97  2012-10-26       6817.48      False    B  118221   \n",
       "421569     45    98  2012-10-26       1076.80      False    B  118221   \n",
       "\n",
       "        Temperature  Fuel_Price  MarkDown1  MarkDown2  MarkDown3  MarkDown4  \\\n",
       "0             42.31       2.572        NaN        NaN        NaN        NaN   \n",
       "1             42.31       2.572        NaN        NaN        NaN        NaN   \n",
       "2             42.31       2.572        NaN        NaN        NaN        NaN   \n",
       "3             42.31       2.572        NaN        NaN        NaN        NaN   \n",
       "4             42.31       2.572        NaN        NaN        NaN        NaN   \n",
       "...             ...         ...        ...        ...        ...        ...   \n",
       "421565        58.85       3.882    4018.91      58.08      100.0     211.94   \n",
       "421566        58.85       3.882    4018.91      58.08      100.0     211.94   \n",
       "421567        58.85       3.882    4018.91      58.08      100.0     211.94   \n",
       "421568        58.85       3.882    4018.91      58.08      100.0     211.94   \n",
       "421569        58.85       3.882    4018.91      58.08      100.0     211.94   \n",
       "\n",
       "        MarkDown5         CPI  Unemployment  \n",
       "0             NaN  211.096358         8.106  \n",
       "1             NaN  211.096358         8.106  \n",
       "2             NaN  211.096358         8.106  \n",
       "3             NaN  211.096358         8.106  \n",
       "4             NaN  211.096358         8.106  \n",
       "...           ...         ...           ...  \n",
       "421565     858.33  192.308899         8.667  \n",
       "421566     858.33  192.308899         8.667  \n",
       "421567     858.33  192.308899         8.667  \n",
       "421568     858.33  192.308899         8.667  \n",
       "421569     858.33  192.308899         8.667  \n",
       "\n",
       "[421570 rows x 16 columns]"
      ]
     },
     "execution_count": 12,
     "metadata": {},
     "output_type": "execute_result"
    },
    {
     "name": "stdout",
     "output_type": "stream",
     "text": [
      "time: 26 ms\n"
     ]
    }
   ],
   "source": [
    "train"
   ]
  },
  {
   "cell_type": "code",
   "execution_count": 13,
   "metadata": {
    "colab": {
     "base_uri": "https://localhost:8080/",
     "height": 34
    },
    "colab_type": "code",
    "id": "OeBDd5qKF-Sa",
    "outputId": "620859fa-b170-47f8-cea9-bcdb593bc20a"
   },
   "outputs": [
    {
     "name": "stdout",
     "output_type": "stream",
     "text": [
      "time: 32.9 ms\n"
     ]
    }
   ],
   "source": [
    "test = pd.merge(test,feat,how='inner',on =['Store','Date','IsHoliday'])"
   ]
  },
  {
   "cell_type": "code",
   "execution_count": 14,
   "metadata": {
    "colab": {
     "base_uri": "https://localhost:8080/",
     "height": 626
    },
    "colab_type": "code",
    "id": "6UicLnkiF-Sg",
    "outputId": "4ebb7231-2aa2-431e-c0da-3be57bda623c"
   },
   "outputs": [
    {
     "data": {
      "text/html": [
       "<div>\n",
       "<style scoped>\n",
       "    .dataframe tbody tr th:only-of-type {\n",
       "        vertical-align: middle;\n",
       "    }\n",
       "\n",
       "    .dataframe tbody tr th {\n",
       "        vertical-align: top;\n",
       "    }\n",
       "\n",
       "    .dataframe thead th {\n",
       "        text-align: right;\n",
       "    }\n",
       "</style>\n",
       "<table border=\"1\" class=\"dataframe\">\n",
       "  <thead>\n",
       "    <tr style=\"text-align: right;\">\n",
       "      <th></th>\n",
       "      <th>Store</th>\n",
       "      <th>Dept</th>\n",
       "      <th>Date</th>\n",
       "      <th>IsHoliday</th>\n",
       "      <th>Type</th>\n",
       "      <th>Size</th>\n",
       "      <th>Temperature</th>\n",
       "      <th>Fuel_Price</th>\n",
       "      <th>MarkDown1</th>\n",
       "      <th>MarkDown2</th>\n",
       "      <th>MarkDown3</th>\n",
       "      <th>MarkDown4</th>\n",
       "      <th>MarkDown5</th>\n",
       "      <th>CPI</th>\n",
       "      <th>Unemployment</th>\n",
       "    </tr>\n",
       "  </thead>\n",
       "  <tbody>\n",
       "    <tr>\n",
       "      <th>0</th>\n",
       "      <td>1</td>\n",
       "      <td>1</td>\n",
       "      <td>2012-11-02</td>\n",
       "      <td>False</td>\n",
       "      <td>A</td>\n",
       "      <td>151315</td>\n",
       "      <td>55.32</td>\n",
       "      <td>3.386</td>\n",
       "      <td>6766.44</td>\n",
       "      <td>5147.70</td>\n",
       "      <td>50.82</td>\n",
       "      <td>3639.90</td>\n",
       "      <td>2737.42</td>\n",
       "      <td>223.462779</td>\n",
       "      <td>6.573</td>\n",
       "    </tr>\n",
       "    <tr>\n",
       "      <th>1</th>\n",
       "      <td>1</td>\n",
       "      <td>2</td>\n",
       "      <td>2012-11-02</td>\n",
       "      <td>False</td>\n",
       "      <td>A</td>\n",
       "      <td>151315</td>\n",
       "      <td>55.32</td>\n",
       "      <td>3.386</td>\n",
       "      <td>6766.44</td>\n",
       "      <td>5147.70</td>\n",
       "      <td>50.82</td>\n",
       "      <td>3639.90</td>\n",
       "      <td>2737.42</td>\n",
       "      <td>223.462779</td>\n",
       "      <td>6.573</td>\n",
       "    </tr>\n",
       "    <tr>\n",
       "      <th>2</th>\n",
       "      <td>1</td>\n",
       "      <td>3</td>\n",
       "      <td>2012-11-02</td>\n",
       "      <td>False</td>\n",
       "      <td>A</td>\n",
       "      <td>151315</td>\n",
       "      <td>55.32</td>\n",
       "      <td>3.386</td>\n",
       "      <td>6766.44</td>\n",
       "      <td>5147.70</td>\n",
       "      <td>50.82</td>\n",
       "      <td>3639.90</td>\n",
       "      <td>2737.42</td>\n",
       "      <td>223.462779</td>\n",
       "      <td>6.573</td>\n",
       "    </tr>\n",
       "    <tr>\n",
       "      <th>3</th>\n",
       "      <td>1</td>\n",
       "      <td>4</td>\n",
       "      <td>2012-11-02</td>\n",
       "      <td>False</td>\n",
       "      <td>A</td>\n",
       "      <td>151315</td>\n",
       "      <td>55.32</td>\n",
       "      <td>3.386</td>\n",
       "      <td>6766.44</td>\n",
       "      <td>5147.70</td>\n",
       "      <td>50.82</td>\n",
       "      <td>3639.90</td>\n",
       "      <td>2737.42</td>\n",
       "      <td>223.462779</td>\n",
       "      <td>6.573</td>\n",
       "    </tr>\n",
       "    <tr>\n",
       "      <th>4</th>\n",
       "      <td>1</td>\n",
       "      <td>5</td>\n",
       "      <td>2012-11-02</td>\n",
       "      <td>False</td>\n",
       "      <td>A</td>\n",
       "      <td>151315</td>\n",
       "      <td>55.32</td>\n",
       "      <td>3.386</td>\n",
       "      <td>6766.44</td>\n",
       "      <td>5147.70</td>\n",
       "      <td>50.82</td>\n",
       "      <td>3639.90</td>\n",
       "      <td>2737.42</td>\n",
       "      <td>223.462779</td>\n",
       "      <td>6.573</td>\n",
       "    </tr>\n",
       "    <tr>\n",
       "      <th>...</th>\n",
       "      <td>...</td>\n",
       "      <td>...</td>\n",
       "      <td>...</td>\n",
       "      <td>...</td>\n",
       "      <td>...</td>\n",
       "      <td>...</td>\n",
       "      <td>...</td>\n",
       "      <td>...</td>\n",
       "      <td>...</td>\n",
       "      <td>...</td>\n",
       "      <td>...</td>\n",
       "      <td>...</td>\n",
       "      <td>...</td>\n",
       "      <td>...</td>\n",
       "      <td>...</td>\n",
       "    </tr>\n",
       "    <tr>\n",
       "      <th>115059</th>\n",
       "      <td>45</td>\n",
       "      <td>93</td>\n",
       "      <td>2013-07-26</td>\n",
       "      <td>False</td>\n",
       "      <td>B</td>\n",
       "      <td>118221</td>\n",
       "      <td>76.06</td>\n",
       "      <td>3.804</td>\n",
       "      <td>212.02</td>\n",
       "      <td>851.73</td>\n",
       "      <td>2.06</td>\n",
       "      <td>10.88</td>\n",
       "      <td>1864.57</td>\n",
       "      <td>NaN</td>\n",
       "      <td>NaN</td>\n",
       "    </tr>\n",
       "    <tr>\n",
       "      <th>115060</th>\n",
       "      <td>45</td>\n",
       "      <td>94</td>\n",
       "      <td>2013-07-26</td>\n",
       "      <td>False</td>\n",
       "      <td>B</td>\n",
       "      <td>118221</td>\n",
       "      <td>76.06</td>\n",
       "      <td>3.804</td>\n",
       "      <td>212.02</td>\n",
       "      <td>851.73</td>\n",
       "      <td>2.06</td>\n",
       "      <td>10.88</td>\n",
       "      <td>1864.57</td>\n",
       "      <td>NaN</td>\n",
       "      <td>NaN</td>\n",
       "    </tr>\n",
       "    <tr>\n",
       "      <th>115061</th>\n",
       "      <td>45</td>\n",
       "      <td>95</td>\n",
       "      <td>2013-07-26</td>\n",
       "      <td>False</td>\n",
       "      <td>B</td>\n",
       "      <td>118221</td>\n",
       "      <td>76.06</td>\n",
       "      <td>3.804</td>\n",
       "      <td>212.02</td>\n",
       "      <td>851.73</td>\n",
       "      <td>2.06</td>\n",
       "      <td>10.88</td>\n",
       "      <td>1864.57</td>\n",
       "      <td>NaN</td>\n",
       "      <td>NaN</td>\n",
       "    </tr>\n",
       "    <tr>\n",
       "      <th>115062</th>\n",
       "      <td>45</td>\n",
       "      <td>97</td>\n",
       "      <td>2013-07-26</td>\n",
       "      <td>False</td>\n",
       "      <td>B</td>\n",
       "      <td>118221</td>\n",
       "      <td>76.06</td>\n",
       "      <td>3.804</td>\n",
       "      <td>212.02</td>\n",
       "      <td>851.73</td>\n",
       "      <td>2.06</td>\n",
       "      <td>10.88</td>\n",
       "      <td>1864.57</td>\n",
       "      <td>NaN</td>\n",
       "      <td>NaN</td>\n",
       "    </tr>\n",
       "    <tr>\n",
       "      <th>115063</th>\n",
       "      <td>45</td>\n",
       "      <td>98</td>\n",
       "      <td>2013-07-26</td>\n",
       "      <td>False</td>\n",
       "      <td>B</td>\n",
       "      <td>118221</td>\n",
       "      <td>76.06</td>\n",
       "      <td>3.804</td>\n",
       "      <td>212.02</td>\n",
       "      <td>851.73</td>\n",
       "      <td>2.06</td>\n",
       "      <td>10.88</td>\n",
       "      <td>1864.57</td>\n",
       "      <td>NaN</td>\n",
       "      <td>NaN</td>\n",
       "    </tr>\n",
       "  </tbody>\n",
       "</table>\n",
       "<p>115064 rows × 15 columns</p>\n",
       "</div>"
      ],
      "text/plain": [
       "        Store  Dept        Date  IsHoliday Type    Size  Temperature  \\\n",
       "0           1     1  2012-11-02      False    A  151315        55.32   \n",
       "1           1     2  2012-11-02      False    A  151315        55.32   \n",
       "2           1     3  2012-11-02      False    A  151315        55.32   \n",
       "3           1     4  2012-11-02      False    A  151315        55.32   \n",
       "4           1     5  2012-11-02      False    A  151315        55.32   \n",
       "...       ...   ...         ...        ...  ...     ...          ...   \n",
       "115059     45    93  2013-07-26      False    B  118221        76.06   \n",
       "115060     45    94  2013-07-26      False    B  118221        76.06   \n",
       "115061     45    95  2013-07-26      False    B  118221        76.06   \n",
       "115062     45    97  2013-07-26      False    B  118221        76.06   \n",
       "115063     45    98  2013-07-26      False    B  118221        76.06   \n",
       "\n",
       "        Fuel_Price  MarkDown1  MarkDown2  MarkDown3  MarkDown4  MarkDown5  \\\n",
       "0            3.386    6766.44    5147.70      50.82    3639.90    2737.42   \n",
       "1            3.386    6766.44    5147.70      50.82    3639.90    2737.42   \n",
       "2            3.386    6766.44    5147.70      50.82    3639.90    2737.42   \n",
       "3            3.386    6766.44    5147.70      50.82    3639.90    2737.42   \n",
       "4            3.386    6766.44    5147.70      50.82    3639.90    2737.42   \n",
       "...            ...        ...        ...        ...        ...        ...   \n",
       "115059       3.804     212.02     851.73       2.06      10.88    1864.57   \n",
       "115060       3.804     212.02     851.73       2.06      10.88    1864.57   \n",
       "115061       3.804     212.02     851.73       2.06      10.88    1864.57   \n",
       "115062       3.804     212.02     851.73       2.06      10.88    1864.57   \n",
       "115063       3.804     212.02     851.73       2.06      10.88    1864.57   \n",
       "\n",
       "               CPI  Unemployment  \n",
       "0       223.462779         6.573  \n",
       "1       223.462779         6.573  \n",
       "2       223.462779         6.573  \n",
       "3       223.462779         6.573  \n",
       "4       223.462779         6.573  \n",
       "...            ...           ...  \n",
       "115059         NaN           NaN  \n",
       "115060         NaN           NaN  \n",
       "115061         NaN           NaN  \n",
       "115062         NaN           NaN  \n",
       "115063         NaN           NaN  \n",
       "\n",
       "[115064 rows x 15 columns]"
      ]
     },
     "execution_count": 14,
     "metadata": {},
     "output_type": "execute_result"
    },
    {
     "name": "stdout",
     "output_type": "stream",
     "text": [
      "time: 23.9 ms\n"
     ]
    }
   ],
   "source": [
    "test"
   ]
  },
  {
   "cell_type": "code",
   "execution_count": 15,
   "metadata": {
    "colab": {
     "base_uri": "https://localhost:8080/",
     "height": 428
    },
    "colab_type": "code",
    "id": "ff9BgSbNgaoI",
    "outputId": "96a651db-8004-4043-90ec-85de97d07ca1"
   },
   "outputs": [
    {
     "name": "stdout",
     "output_type": "stream",
     "text": [
      "<class 'pandas.core.frame.DataFrame'>\n",
      "Int64Index: 421570 entries, 0 to 421569\n",
      "Data columns (total 16 columns):\n",
      "Store           421570 non-null int64\n",
      "Dept            421570 non-null int64\n",
      "Date            421570 non-null object\n",
      "Weekly_Sales    421570 non-null float64\n",
      "IsHoliday       421570 non-null bool\n",
      "Type            421570 non-null object\n",
      "Size            421570 non-null int64\n",
      "Temperature     421570 non-null float64\n",
      "Fuel_Price      421570 non-null float64\n",
      "MarkDown1       150681 non-null float64\n",
      "MarkDown2       111248 non-null float64\n",
      "MarkDown3       137091 non-null float64\n",
      "MarkDown4       134967 non-null float64\n",
      "MarkDown5       151432 non-null float64\n",
      "CPI             421570 non-null float64\n",
      "Unemployment    421570 non-null float64\n",
      "dtypes: bool(1), float64(10), int64(3), object(2)\n",
      "memory usage: 51.9+ MB\n",
      "time: 139 ms\n"
     ]
    }
   ],
   "source": [
    "train.info()"
   ]
  },
  {
   "cell_type": "markdown",
   "metadata": {
    "colab_type": "text",
    "id": "9dpSkm1wy0Pr"
   },
   "source": [
    "#### Missing value Treatment (Exception - Markdown 1-5)"
   ]
  },
  {
   "cell_type": "code",
   "execution_count": 16,
   "metadata": {
    "colab": {
     "base_uri": "https://localhost:8080/",
     "height": 308
    },
    "colab_type": "code",
    "id": "c_LP01aax1MN",
    "outputId": "dfc1e518-029c-43dc-dd6a-e172ea8fa923"
   },
   "outputs": [
    {
     "data": {
      "text/plain": [
       "Store                0\n",
       "Dept                 0\n",
       "Date                 0\n",
       "Weekly_Sales         0\n",
       "IsHoliday            0\n",
       "Type                 0\n",
       "Size                 0\n",
       "Temperature          0\n",
       "Fuel_Price           0\n",
       "MarkDown1       270889\n",
       "MarkDown2       310322\n",
       "MarkDown3       284479\n",
       "MarkDown4       286603\n",
       "MarkDown5       270138\n",
       "CPI                  0\n",
       "Unemployment         0\n",
       "dtype: int64"
      ]
     },
     "execution_count": 16,
     "metadata": {},
     "output_type": "execute_result"
    },
    {
     "name": "stdout",
     "output_type": "stream",
     "text": [
      "time: 52.9 ms\n"
     ]
    }
   ],
   "source": [
    "train.isna().sum()"
   ]
  },
  {
   "cell_type": "code",
   "execution_count": 17,
   "metadata": {
    "colab": {
     "base_uri": "https://localhost:8080/",
     "height": 291
    },
    "colab_type": "code",
    "id": "ipSHSeJeyo0D",
    "outputId": "b4078ef9-6b7a-4adb-e724-9cbc1e999647"
   },
   "outputs": [
    {
     "data": {
      "text/plain": [
       "Store               0\n",
       "Dept                0\n",
       "Date                0\n",
       "IsHoliday           0\n",
       "Type                0\n",
       "Size                0\n",
       "Temperature         0\n",
       "Fuel_Price          0\n",
       "MarkDown1         149\n",
       "MarkDown2       28627\n",
       "MarkDown3        9829\n",
       "MarkDown4       12888\n",
       "MarkDown5           0\n",
       "CPI             38162\n",
       "Unemployment    38162\n",
       "dtype: int64"
      ]
     },
     "execution_count": 17,
     "metadata": {},
     "output_type": "execute_result"
    },
    {
     "name": "stdout",
     "output_type": "stream",
     "text": [
      "time: 22.9 ms\n"
     ]
    }
   ],
   "source": [
    "test.isna().sum()"
   ]
  },
  {
   "cell_type": "code",
   "execution_count": 18,
   "metadata": {
    "colab": {
     "base_uri": "https://localhost:8080/",
     "height": 291
    },
    "colab_type": "code",
    "id": "vXMZGbm_2oMH",
    "outputId": "b8cdb781-64d4-4763-a581-10b8ce3d9003"
   },
   "outputs": [
    {
     "data": {
      "text/plain": [
       "Store               0\n",
       "Dept                0\n",
       "Date                0\n",
       "IsHoliday           0\n",
       "Type                0\n",
       "Size                0\n",
       "Temperature         0\n",
       "Fuel_Price          0\n",
       "MarkDown1         149\n",
       "MarkDown2       28627\n",
       "MarkDown3        9829\n",
       "MarkDown4       12888\n",
       "MarkDown5           0\n",
       "CPI                53\n",
       "Unemployment       53\n",
       "dtype: int64"
      ]
     },
     "execution_count": 18,
     "metadata": {},
     "output_type": "execute_result"
    },
    {
     "name": "stdout",
     "output_type": "stream",
     "text": [
      "time: 2.22 s\n"
     ]
    }
   ],
   "source": [
    "test.CPI = test.groupby(['Store','Dept'])['CPI'].transform(lambda x: x.fillna(x.mean()))\n",
    "test.Unemployment = test.groupby(['Store','Dept'])['Unemployment'].transform(lambda x: x.fillna(x.mean()))\n",
    "test.isna().sum()"
   ]
  },
  {
   "cell_type": "markdown",
   "metadata": {
    "colab_type": "text",
    "id": "hXFg0Rc9wGwj"
   },
   "source": [
    "    A few rows are still null because all the rows in particular store dept combination have null values in CPI feature. Hence taking a mean at store level to fix the missing values."
   ]
  },
  {
   "cell_type": "code",
   "execution_count": 19,
   "metadata": {
    "colab": {
     "base_uri": "https://localhost:8080/",
     "height": 291
    },
    "colab_type": "code",
    "id": "JCTNpDINwhix",
    "outputId": "d75dcc5b-f562-4d68-8f16-5a163000f6b5"
   },
   "outputs": [
    {
     "data": {
      "text/plain": [
       "Store               0\n",
       "Dept                0\n",
       "Date                0\n",
       "IsHoliday           0\n",
       "Type                0\n",
       "Size                0\n",
       "Temperature         0\n",
       "Fuel_Price          0\n",
       "MarkDown1         149\n",
       "MarkDown2       28627\n",
       "MarkDown3        9829\n",
       "MarkDown4       12888\n",
       "MarkDown5           0\n",
       "CPI                 0\n",
       "Unemployment        0\n",
       "dtype: int64"
      ]
     },
     "execution_count": 19,
     "metadata": {},
     "output_type": "execute_result"
    },
    {
     "name": "stdout",
     "output_type": "stream",
     "text": [
      "time: 67.8 ms\n"
     ]
    }
   ],
   "source": [
    "test.CPI = test.groupby('Store')['CPI'].transform(lambda x: x.fillna(x.mean()))\n",
    "test.Unemployment = test.groupby('Store')['Unemployment'].transform(lambda x: x.fillna(x.mean()))\n",
    "test.isna().sum()"
   ]
  },
  {
   "cell_type": "markdown",
   "metadata": {
    "colab_type": "text",
    "id": "FZZCw274Ui3s"
   },
   "source": [
    "## Exploratory data analysis"
   ]
  },
  {
   "cell_type": "markdown",
   "metadata": {
    "colab_type": "text",
    "id": "2S9yUI_WF-S8"
   },
   "source": [
    "#### Extracting Year, Month, Week and Quarter from Date"
   ]
  },
  {
   "cell_type": "code",
   "execution_count": 20,
   "metadata": {
    "colab": {
     "base_uri": "https://localhost:8080/",
     "height": 34
    },
    "colab_type": "code",
    "id": "-2H6EF5IF-TG",
    "outputId": "44a8d13e-3a3d-42f5-a401-81fa03243feb"
   },
   "outputs": [
    {
     "name": "stdout",
     "output_type": "stream",
     "text": [
      "time: 98.7 ms\n"
     ]
    }
   ],
   "source": [
    "train['Date'] = pd.to_datetime(train['Date'])\n",
    "test['Date'] = pd.to_datetime(test['Date'])"
   ]
  },
  {
   "cell_type": "code",
   "execution_count": 21,
   "metadata": {
    "colab": {
     "base_uri": "https://localhost:8080/",
     "height": 34
    },
    "colab_type": "code",
    "id": "RpmTl1S-F-TM",
    "outputId": "1ba25d13-a4a9-4109-8645-6c9b92d802e7"
   },
   "outputs": [
    {
     "name": "stdout",
     "output_type": "stream",
     "text": [
      "time: 187 ms\n"
     ]
    }
   ],
   "source": [
    "train['month'] = pd.to_datetime(train['Date']).dt.month\n",
    "train['year'] = pd.to_datetime(train['Date']).dt.year\n",
    "train['week'] = pd.to_datetime(train['Date']).dt.week\n",
    "train['quarter'] = pd.to_datetime(train['Date']).dt.quarter"
   ]
  },
  {
   "cell_type": "code",
   "execution_count": 22,
   "metadata": {
    "colab": {
     "base_uri": "https://localhost:8080/",
     "height": 626
    },
    "colab_type": "code",
    "id": "Ze0aCTWMF-TQ",
    "outputId": "8590f4f3-f770-4fd8-bf11-97fb28efbaed"
   },
   "outputs": [
    {
     "data": {
      "text/html": [
       "<div>\n",
       "<style scoped>\n",
       "    .dataframe tbody tr th:only-of-type {\n",
       "        vertical-align: middle;\n",
       "    }\n",
       "\n",
       "    .dataframe tbody tr th {\n",
       "        vertical-align: top;\n",
       "    }\n",
       "\n",
       "    .dataframe thead th {\n",
       "        text-align: right;\n",
       "    }\n",
       "</style>\n",
       "<table border=\"1\" class=\"dataframe\">\n",
       "  <thead>\n",
       "    <tr style=\"text-align: right;\">\n",
       "      <th></th>\n",
       "      <th>Store</th>\n",
       "      <th>Dept</th>\n",
       "      <th>Date</th>\n",
       "      <th>Weekly_Sales</th>\n",
       "      <th>IsHoliday</th>\n",
       "      <th>Type</th>\n",
       "      <th>Size</th>\n",
       "      <th>Temperature</th>\n",
       "      <th>Fuel_Price</th>\n",
       "      <th>MarkDown1</th>\n",
       "      <th>MarkDown2</th>\n",
       "      <th>MarkDown3</th>\n",
       "      <th>MarkDown4</th>\n",
       "      <th>MarkDown5</th>\n",
       "      <th>CPI</th>\n",
       "      <th>Unemployment</th>\n",
       "      <th>month</th>\n",
       "      <th>year</th>\n",
       "      <th>week</th>\n",
       "      <th>quarter</th>\n",
       "    </tr>\n",
       "  </thead>\n",
       "  <tbody>\n",
       "    <tr>\n",
       "      <th>0</th>\n",
       "      <td>1</td>\n",
       "      <td>1</td>\n",
       "      <td>2010-02-05</td>\n",
       "      <td>24924.50</td>\n",
       "      <td>False</td>\n",
       "      <td>A</td>\n",
       "      <td>151315</td>\n",
       "      <td>42.31</td>\n",
       "      <td>2.572</td>\n",
       "      <td>NaN</td>\n",
       "      <td>NaN</td>\n",
       "      <td>NaN</td>\n",
       "      <td>NaN</td>\n",
       "      <td>NaN</td>\n",
       "      <td>211.096358</td>\n",
       "      <td>8.106</td>\n",
       "      <td>2</td>\n",
       "      <td>2010</td>\n",
       "      <td>5</td>\n",
       "      <td>1</td>\n",
       "    </tr>\n",
       "    <tr>\n",
       "      <th>1</th>\n",
       "      <td>1</td>\n",
       "      <td>2</td>\n",
       "      <td>2010-02-05</td>\n",
       "      <td>50605.27</td>\n",
       "      <td>False</td>\n",
       "      <td>A</td>\n",
       "      <td>151315</td>\n",
       "      <td>42.31</td>\n",
       "      <td>2.572</td>\n",
       "      <td>NaN</td>\n",
       "      <td>NaN</td>\n",
       "      <td>NaN</td>\n",
       "      <td>NaN</td>\n",
       "      <td>NaN</td>\n",
       "      <td>211.096358</td>\n",
       "      <td>8.106</td>\n",
       "      <td>2</td>\n",
       "      <td>2010</td>\n",
       "      <td>5</td>\n",
       "      <td>1</td>\n",
       "    </tr>\n",
       "    <tr>\n",
       "      <th>2</th>\n",
       "      <td>1</td>\n",
       "      <td>3</td>\n",
       "      <td>2010-02-05</td>\n",
       "      <td>13740.12</td>\n",
       "      <td>False</td>\n",
       "      <td>A</td>\n",
       "      <td>151315</td>\n",
       "      <td>42.31</td>\n",
       "      <td>2.572</td>\n",
       "      <td>NaN</td>\n",
       "      <td>NaN</td>\n",
       "      <td>NaN</td>\n",
       "      <td>NaN</td>\n",
       "      <td>NaN</td>\n",
       "      <td>211.096358</td>\n",
       "      <td>8.106</td>\n",
       "      <td>2</td>\n",
       "      <td>2010</td>\n",
       "      <td>5</td>\n",
       "      <td>1</td>\n",
       "    </tr>\n",
       "    <tr>\n",
       "      <th>3</th>\n",
       "      <td>1</td>\n",
       "      <td>4</td>\n",
       "      <td>2010-02-05</td>\n",
       "      <td>39954.04</td>\n",
       "      <td>False</td>\n",
       "      <td>A</td>\n",
       "      <td>151315</td>\n",
       "      <td>42.31</td>\n",
       "      <td>2.572</td>\n",
       "      <td>NaN</td>\n",
       "      <td>NaN</td>\n",
       "      <td>NaN</td>\n",
       "      <td>NaN</td>\n",
       "      <td>NaN</td>\n",
       "      <td>211.096358</td>\n",
       "      <td>8.106</td>\n",
       "      <td>2</td>\n",
       "      <td>2010</td>\n",
       "      <td>5</td>\n",
       "      <td>1</td>\n",
       "    </tr>\n",
       "    <tr>\n",
       "      <th>4</th>\n",
       "      <td>1</td>\n",
       "      <td>5</td>\n",
       "      <td>2010-02-05</td>\n",
       "      <td>32229.38</td>\n",
       "      <td>False</td>\n",
       "      <td>A</td>\n",
       "      <td>151315</td>\n",
       "      <td>42.31</td>\n",
       "      <td>2.572</td>\n",
       "      <td>NaN</td>\n",
       "      <td>NaN</td>\n",
       "      <td>NaN</td>\n",
       "      <td>NaN</td>\n",
       "      <td>NaN</td>\n",
       "      <td>211.096358</td>\n",
       "      <td>8.106</td>\n",
       "      <td>2</td>\n",
       "      <td>2010</td>\n",
       "      <td>5</td>\n",
       "      <td>1</td>\n",
       "    </tr>\n",
       "    <tr>\n",
       "      <th>...</th>\n",
       "      <td>...</td>\n",
       "      <td>...</td>\n",
       "      <td>...</td>\n",
       "      <td>...</td>\n",
       "      <td>...</td>\n",
       "      <td>...</td>\n",
       "      <td>...</td>\n",
       "      <td>...</td>\n",
       "      <td>...</td>\n",
       "      <td>...</td>\n",
       "      <td>...</td>\n",
       "      <td>...</td>\n",
       "      <td>...</td>\n",
       "      <td>...</td>\n",
       "      <td>...</td>\n",
       "      <td>...</td>\n",
       "      <td>...</td>\n",
       "      <td>...</td>\n",
       "      <td>...</td>\n",
       "      <td>...</td>\n",
       "    </tr>\n",
       "    <tr>\n",
       "      <th>421565</th>\n",
       "      <td>45</td>\n",
       "      <td>93</td>\n",
       "      <td>2012-10-26</td>\n",
       "      <td>2487.80</td>\n",
       "      <td>False</td>\n",
       "      <td>B</td>\n",
       "      <td>118221</td>\n",
       "      <td>58.85</td>\n",
       "      <td>3.882</td>\n",
       "      <td>4018.91</td>\n",
       "      <td>58.08</td>\n",
       "      <td>100.0</td>\n",
       "      <td>211.94</td>\n",
       "      <td>858.33</td>\n",
       "      <td>192.308899</td>\n",
       "      <td>8.667</td>\n",
       "      <td>10</td>\n",
       "      <td>2012</td>\n",
       "      <td>43</td>\n",
       "      <td>4</td>\n",
       "    </tr>\n",
       "    <tr>\n",
       "      <th>421566</th>\n",
       "      <td>45</td>\n",
       "      <td>94</td>\n",
       "      <td>2012-10-26</td>\n",
       "      <td>5203.31</td>\n",
       "      <td>False</td>\n",
       "      <td>B</td>\n",
       "      <td>118221</td>\n",
       "      <td>58.85</td>\n",
       "      <td>3.882</td>\n",
       "      <td>4018.91</td>\n",
       "      <td>58.08</td>\n",
       "      <td>100.0</td>\n",
       "      <td>211.94</td>\n",
       "      <td>858.33</td>\n",
       "      <td>192.308899</td>\n",
       "      <td>8.667</td>\n",
       "      <td>10</td>\n",
       "      <td>2012</td>\n",
       "      <td>43</td>\n",
       "      <td>4</td>\n",
       "    </tr>\n",
       "    <tr>\n",
       "      <th>421567</th>\n",
       "      <td>45</td>\n",
       "      <td>95</td>\n",
       "      <td>2012-10-26</td>\n",
       "      <td>56017.47</td>\n",
       "      <td>False</td>\n",
       "      <td>B</td>\n",
       "      <td>118221</td>\n",
       "      <td>58.85</td>\n",
       "      <td>3.882</td>\n",
       "      <td>4018.91</td>\n",
       "      <td>58.08</td>\n",
       "      <td>100.0</td>\n",
       "      <td>211.94</td>\n",
       "      <td>858.33</td>\n",
       "      <td>192.308899</td>\n",
       "      <td>8.667</td>\n",
       "      <td>10</td>\n",
       "      <td>2012</td>\n",
       "      <td>43</td>\n",
       "      <td>4</td>\n",
       "    </tr>\n",
       "    <tr>\n",
       "      <th>421568</th>\n",
       "      <td>45</td>\n",
       "      <td>97</td>\n",
       "      <td>2012-10-26</td>\n",
       "      <td>6817.48</td>\n",
       "      <td>False</td>\n",
       "      <td>B</td>\n",
       "      <td>118221</td>\n",
       "      <td>58.85</td>\n",
       "      <td>3.882</td>\n",
       "      <td>4018.91</td>\n",
       "      <td>58.08</td>\n",
       "      <td>100.0</td>\n",
       "      <td>211.94</td>\n",
       "      <td>858.33</td>\n",
       "      <td>192.308899</td>\n",
       "      <td>8.667</td>\n",
       "      <td>10</td>\n",
       "      <td>2012</td>\n",
       "      <td>43</td>\n",
       "      <td>4</td>\n",
       "    </tr>\n",
       "    <tr>\n",
       "      <th>421569</th>\n",
       "      <td>45</td>\n",
       "      <td>98</td>\n",
       "      <td>2012-10-26</td>\n",
       "      <td>1076.80</td>\n",
       "      <td>False</td>\n",
       "      <td>B</td>\n",
       "      <td>118221</td>\n",
       "      <td>58.85</td>\n",
       "      <td>3.882</td>\n",
       "      <td>4018.91</td>\n",
       "      <td>58.08</td>\n",
       "      <td>100.0</td>\n",
       "      <td>211.94</td>\n",
       "      <td>858.33</td>\n",
       "      <td>192.308899</td>\n",
       "      <td>8.667</td>\n",
       "      <td>10</td>\n",
       "      <td>2012</td>\n",
       "      <td>43</td>\n",
       "      <td>4</td>\n",
       "    </tr>\n",
       "  </tbody>\n",
       "</table>\n",
       "<p>421570 rows × 20 columns</p>\n",
       "</div>"
      ],
      "text/plain": [
       "        Store  Dept       Date  Weekly_Sales  IsHoliday Type    Size  \\\n",
       "0           1     1 2010-02-05      24924.50      False    A  151315   \n",
       "1           1     2 2010-02-05      50605.27      False    A  151315   \n",
       "2           1     3 2010-02-05      13740.12      False    A  151315   \n",
       "3           1     4 2010-02-05      39954.04      False    A  151315   \n",
       "4           1     5 2010-02-05      32229.38      False    A  151315   \n",
       "...       ...   ...        ...           ...        ...  ...     ...   \n",
       "421565     45    93 2012-10-26       2487.80      False    B  118221   \n",
       "421566     45    94 2012-10-26       5203.31      False    B  118221   \n",
       "421567     45    95 2012-10-26      56017.47      False    B  118221   \n",
       "421568     45    97 2012-10-26       6817.48      False    B  118221   \n",
       "421569     45    98 2012-10-26       1076.80      False    B  118221   \n",
       "\n",
       "        Temperature  Fuel_Price  MarkDown1  MarkDown2  MarkDown3  MarkDown4  \\\n",
       "0             42.31       2.572        NaN        NaN        NaN        NaN   \n",
       "1             42.31       2.572        NaN        NaN        NaN        NaN   \n",
       "2             42.31       2.572        NaN        NaN        NaN        NaN   \n",
       "3             42.31       2.572        NaN        NaN        NaN        NaN   \n",
       "4             42.31       2.572        NaN        NaN        NaN        NaN   \n",
       "...             ...         ...        ...        ...        ...        ...   \n",
       "421565        58.85       3.882    4018.91      58.08      100.0     211.94   \n",
       "421566        58.85       3.882    4018.91      58.08      100.0     211.94   \n",
       "421567        58.85       3.882    4018.91      58.08      100.0     211.94   \n",
       "421568        58.85       3.882    4018.91      58.08      100.0     211.94   \n",
       "421569        58.85       3.882    4018.91      58.08      100.0     211.94   \n",
       "\n",
       "        MarkDown5         CPI  Unemployment  month  year  week  quarter  \n",
       "0             NaN  211.096358         8.106      2  2010     5        1  \n",
       "1             NaN  211.096358         8.106      2  2010     5        1  \n",
       "2             NaN  211.096358         8.106      2  2010     5        1  \n",
       "3             NaN  211.096358         8.106      2  2010     5        1  \n",
       "4             NaN  211.096358         8.106      2  2010     5        1  \n",
       "...           ...         ...           ...    ...   ...   ...      ...  \n",
       "421565     858.33  192.308899         8.667     10  2012    43        4  \n",
       "421566     858.33  192.308899         8.667     10  2012    43        4  \n",
       "421567     858.33  192.308899         8.667     10  2012    43        4  \n",
       "421568     858.33  192.308899         8.667     10  2012    43        4  \n",
       "421569     858.33  192.308899         8.667     10  2012    43        4  \n",
       "\n",
       "[421570 rows x 20 columns]"
      ]
     },
     "execution_count": 22,
     "metadata": {},
     "output_type": "execute_result"
    },
    {
     "name": "stdout",
     "output_type": "stream",
     "text": [
      "time: 39.9 ms\n"
     ]
    }
   ],
   "source": [
    "train"
   ]
  },
  {
   "cell_type": "code",
   "execution_count": 23,
   "metadata": {
    "colab": {
     "base_uri": "https://localhost:8080/",
     "height": 34
    },
    "colab_type": "code",
    "id": "NtAW5AaCF-TU",
    "outputId": "6b6c2c30-6e29-46f2-fc54-cb2c60247488"
   },
   "outputs": [
    {
     "name": "stdout",
     "output_type": "stream",
     "text": [
      "time: 54.9 ms\n"
     ]
    }
   ],
   "source": [
    "test['month'] = pd.to_datetime(test['Date']).dt.month\n",
    "test['year'] = pd.to_datetime(test['Date']).dt.year\n",
    "test['week'] = pd.to_datetime(test['Date']).dt.week\n",
    "test['quarter'] = pd.to_datetime(test['Date']).dt.quarter"
   ]
  },
  {
   "cell_type": "code",
   "execution_count": 24,
   "metadata": {
    "colab": {
     "base_uri": "https://localhost:8080/",
     "height": 626
    },
    "colab_type": "code",
    "id": "H6RT2gB5F-TZ",
    "outputId": "51988fa7-e842-4f04-de38-b58f22fdd277"
   },
   "outputs": [
    {
     "data": {
      "text/html": [
       "<div>\n",
       "<style scoped>\n",
       "    .dataframe tbody tr th:only-of-type {\n",
       "        vertical-align: middle;\n",
       "    }\n",
       "\n",
       "    .dataframe tbody tr th {\n",
       "        vertical-align: top;\n",
       "    }\n",
       "\n",
       "    .dataframe thead th {\n",
       "        text-align: right;\n",
       "    }\n",
       "</style>\n",
       "<table border=\"1\" class=\"dataframe\">\n",
       "  <thead>\n",
       "    <tr style=\"text-align: right;\">\n",
       "      <th></th>\n",
       "      <th>Store</th>\n",
       "      <th>Dept</th>\n",
       "      <th>Date</th>\n",
       "      <th>IsHoliday</th>\n",
       "      <th>Type</th>\n",
       "      <th>Size</th>\n",
       "      <th>Temperature</th>\n",
       "      <th>Fuel_Price</th>\n",
       "      <th>MarkDown1</th>\n",
       "      <th>MarkDown2</th>\n",
       "      <th>MarkDown3</th>\n",
       "      <th>MarkDown4</th>\n",
       "      <th>MarkDown5</th>\n",
       "      <th>CPI</th>\n",
       "      <th>Unemployment</th>\n",
       "      <th>month</th>\n",
       "      <th>year</th>\n",
       "      <th>week</th>\n",
       "      <th>quarter</th>\n",
       "    </tr>\n",
       "  </thead>\n",
       "  <tbody>\n",
       "    <tr>\n",
       "      <th>0</th>\n",
       "      <td>1</td>\n",
       "      <td>1</td>\n",
       "      <td>2012-11-02</td>\n",
       "      <td>False</td>\n",
       "      <td>A</td>\n",
       "      <td>151315</td>\n",
       "      <td>55.32</td>\n",
       "      <td>3.386</td>\n",
       "      <td>6766.44</td>\n",
       "      <td>5147.70</td>\n",
       "      <td>50.82</td>\n",
       "      <td>3639.90</td>\n",
       "      <td>2737.42</td>\n",
       "      <td>223.462779</td>\n",
       "      <td>6.573000</td>\n",
       "      <td>11</td>\n",
       "      <td>2012</td>\n",
       "      <td>44</td>\n",
       "      <td>4</td>\n",
       "    </tr>\n",
       "    <tr>\n",
       "      <th>1</th>\n",
       "      <td>1</td>\n",
       "      <td>2</td>\n",
       "      <td>2012-11-02</td>\n",
       "      <td>False</td>\n",
       "      <td>A</td>\n",
       "      <td>151315</td>\n",
       "      <td>55.32</td>\n",
       "      <td>3.386</td>\n",
       "      <td>6766.44</td>\n",
       "      <td>5147.70</td>\n",
       "      <td>50.82</td>\n",
       "      <td>3639.90</td>\n",
       "      <td>2737.42</td>\n",
       "      <td>223.462779</td>\n",
       "      <td>6.573000</td>\n",
       "      <td>11</td>\n",
       "      <td>2012</td>\n",
       "      <td>44</td>\n",
       "      <td>4</td>\n",
       "    </tr>\n",
       "    <tr>\n",
       "      <th>2</th>\n",
       "      <td>1</td>\n",
       "      <td>3</td>\n",
       "      <td>2012-11-02</td>\n",
       "      <td>False</td>\n",
       "      <td>A</td>\n",
       "      <td>151315</td>\n",
       "      <td>55.32</td>\n",
       "      <td>3.386</td>\n",
       "      <td>6766.44</td>\n",
       "      <td>5147.70</td>\n",
       "      <td>50.82</td>\n",
       "      <td>3639.90</td>\n",
       "      <td>2737.42</td>\n",
       "      <td>223.462779</td>\n",
       "      <td>6.573000</td>\n",
       "      <td>11</td>\n",
       "      <td>2012</td>\n",
       "      <td>44</td>\n",
       "      <td>4</td>\n",
       "    </tr>\n",
       "    <tr>\n",
       "      <th>3</th>\n",
       "      <td>1</td>\n",
       "      <td>4</td>\n",
       "      <td>2012-11-02</td>\n",
       "      <td>False</td>\n",
       "      <td>A</td>\n",
       "      <td>151315</td>\n",
       "      <td>55.32</td>\n",
       "      <td>3.386</td>\n",
       "      <td>6766.44</td>\n",
       "      <td>5147.70</td>\n",
       "      <td>50.82</td>\n",
       "      <td>3639.90</td>\n",
       "      <td>2737.42</td>\n",
       "      <td>223.462779</td>\n",
       "      <td>6.573000</td>\n",
       "      <td>11</td>\n",
       "      <td>2012</td>\n",
       "      <td>44</td>\n",
       "      <td>4</td>\n",
       "    </tr>\n",
       "    <tr>\n",
       "      <th>4</th>\n",
       "      <td>1</td>\n",
       "      <td>5</td>\n",
       "      <td>2012-11-02</td>\n",
       "      <td>False</td>\n",
       "      <td>A</td>\n",
       "      <td>151315</td>\n",
       "      <td>55.32</td>\n",
       "      <td>3.386</td>\n",
       "      <td>6766.44</td>\n",
       "      <td>5147.70</td>\n",
       "      <td>50.82</td>\n",
       "      <td>3639.90</td>\n",
       "      <td>2737.42</td>\n",
       "      <td>223.462779</td>\n",
       "      <td>6.573000</td>\n",
       "      <td>11</td>\n",
       "      <td>2012</td>\n",
       "      <td>44</td>\n",
       "      <td>4</td>\n",
       "    </tr>\n",
       "    <tr>\n",
       "      <th>...</th>\n",
       "      <td>...</td>\n",
       "      <td>...</td>\n",
       "      <td>...</td>\n",
       "      <td>...</td>\n",
       "      <td>...</td>\n",
       "      <td>...</td>\n",
       "      <td>...</td>\n",
       "      <td>...</td>\n",
       "      <td>...</td>\n",
       "      <td>...</td>\n",
       "      <td>...</td>\n",
       "      <td>...</td>\n",
       "      <td>...</td>\n",
       "      <td>...</td>\n",
       "      <td>...</td>\n",
       "      <td>...</td>\n",
       "      <td>...</td>\n",
       "      <td>...</td>\n",
       "      <td>...</td>\n",
       "    </tr>\n",
       "    <tr>\n",
       "      <th>115059</th>\n",
       "      <td>45</td>\n",
       "      <td>93</td>\n",
       "      <td>2013-07-26</td>\n",
       "      <td>False</td>\n",
       "      <td>B</td>\n",
       "      <td>118221</td>\n",
       "      <td>76.06</td>\n",
       "      <td>3.804</td>\n",
       "      <td>212.02</td>\n",
       "      <td>851.73</td>\n",
       "      <td>2.06</td>\n",
       "      <td>10.88</td>\n",
       "      <td>1864.57</td>\n",
       "      <td>192.870729</td>\n",
       "      <td>8.594923</td>\n",
       "      <td>7</td>\n",
       "      <td>2013</td>\n",
       "      <td>30</td>\n",
       "      <td>3</td>\n",
       "    </tr>\n",
       "    <tr>\n",
       "      <th>115060</th>\n",
       "      <td>45</td>\n",
       "      <td>94</td>\n",
       "      <td>2013-07-26</td>\n",
       "      <td>False</td>\n",
       "      <td>B</td>\n",
       "      <td>118221</td>\n",
       "      <td>76.06</td>\n",
       "      <td>3.804</td>\n",
       "      <td>212.02</td>\n",
       "      <td>851.73</td>\n",
       "      <td>2.06</td>\n",
       "      <td>10.88</td>\n",
       "      <td>1864.57</td>\n",
       "      <td>192.870729</td>\n",
       "      <td>8.594923</td>\n",
       "      <td>7</td>\n",
       "      <td>2013</td>\n",
       "      <td>30</td>\n",
       "      <td>3</td>\n",
       "    </tr>\n",
       "    <tr>\n",
       "      <th>115061</th>\n",
       "      <td>45</td>\n",
       "      <td>95</td>\n",
       "      <td>2013-07-26</td>\n",
       "      <td>False</td>\n",
       "      <td>B</td>\n",
       "      <td>118221</td>\n",
       "      <td>76.06</td>\n",
       "      <td>3.804</td>\n",
       "      <td>212.02</td>\n",
       "      <td>851.73</td>\n",
       "      <td>2.06</td>\n",
       "      <td>10.88</td>\n",
       "      <td>1864.57</td>\n",
       "      <td>192.870729</td>\n",
       "      <td>8.594923</td>\n",
       "      <td>7</td>\n",
       "      <td>2013</td>\n",
       "      <td>30</td>\n",
       "      <td>3</td>\n",
       "    </tr>\n",
       "    <tr>\n",
       "      <th>115062</th>\n",
       "      <td>45</td>\n",
       "      <td>97</td>\n",
       "      <td>2013-07-26</td>\n",
       "      <td>False</td>\n",
       "      <td>B</td>\n",
       "      <td>118221</td>\n",
       "      <td>76.06</td>\n",
       "      <td>3.804</td>\n",
       "      <td>212.02</td>\n",
       "      <td>851.73</td>\n",
       "      <td>2.06</td>\n",
       "      <td>10.88</td>\n",
       "      <td>1864.57</td>\n",
       "      <td>192.870729</td>\n",
       "      <td>8.594923</td>\n",
       "      <td>7</td>\n",
       "      <td>2013</td>\n",
       "      <td>30</td>\n",
       "      <td>3</td>\n",
       "    </tr>\n",
       "    <tr>\n",
       "      <th>115063</th>\n",
       "      <td>45</td>\n",
       "      <td>98</td>\n",
       "      <td>2013-07-26</td>\n",
       "      <td>False</td>\n",
       "      <td>B</td>\n",
       "      <td>118221</td>\n",
       "      <td>76.06</td>\n",
       "      <td>3.804</td>\n",
       "      <td>212.02</td>\n",
       "      <td>851.73</td>\n",
       "      <td>2.06</td>\n",
       "      <td>10.88</td>\n",
       "      <td>1864.57</td>\n",
       "      <td>192.870729</td>\n",
       "      <td>8.594923</td>\n",
       "      <td>7</td>\n",
       "      <td>2013</td>\n",
       "      <td>30</td>\n",
       "      <td>3</td>\n",
       "    </tr>\n",
       "  </tbody>\n",
       "</table>\n",
       "<p>115064 rows × 19 columns</p>\n",
       "</div>"
      ],
      "text/plain": [
       "        Store  Dept       Date  IsHoliday Type    Size  Temperature  \\\n",
       "0           1     1 2012-11-02      False    A  151315        55.32   \n",
       "1           1     2 2012-11-02      False    A  151315        55.32   \n",
       "2           1     3 2012-11-02      False    A  151315        55.32   \n",
       "3           1     4 2012-11-02      False    A  151315        55.32   \n",
       "4           1     5 2012-11-02      False    A  151315        55.32   \n",
       "...       ...   ...        ...        ...  ...     ...          ...   \n",
       "115059     45    93 2013-07-26      False    B  118221        76.06   \n",
       "115060     45    94 2013-07-26      False    B  118221        76.06   \n",
       "115061     45    95 2013-07-26      False    B  118221        76.06   \n",
       "115062     45    97 2013-07-26      False    B  118221        76.06   \n",
       "115063     45    98 2013-07-26      False    B  118221        76.06   \n",
       "\n",
       "        Fuel_Price  MarkDown1  MarkDown2  MarkDown3  MarkDown4  MarkDown5  \\\n",
       "0            3.386    6766.44    5147.70      50.82    3639.90    2737.42   \n",
       "1            3.386    6766.44    5147.70      50.82    3639.90    2737.42   \n",
       "2            3.386    6766.44    5147.70      50.82    3639.90    2737.42   \n",
       "3            3.386    6766.44    5147.70      50.82    3639.90    2737.42   \n",
       "4            3.386    6766.44    5147.70      50.82    3639.90    2737.42   \n",
       "...            ...        ...        ...        ...        ...        ...   \n",
       "115059       3.804     212.02     851.73       2.06      10.88    1864.57   \n",
       "115060       3.804     212.02     851.73       2.06      10.88    1864.57   \n",
       "115061       3.804     212.02     851.73       2.06      10.88    1864.57   \n",
       "115062       3.804     212.02     851.73       2.06      10.88    1864.57   \n",
       "115063       3.804     212.02     851.73       2.06      10.88    1864.57   \n",
       "\n",
       "               CPI  Unemployment  month  year  week  quarter  \n",
       "0       223.462779      6.573000     11  2012    44        4  \n",
       "1       223.462779      6.573000     11  2012    44        4  \n",
       "2       223.462779      6.573000     11  2012    44        4  \n",
       "3       223.462779      6.573000     11  2012    44        4  \n",
       "4       223.462779      6.573000     11  2012    44        4  \n",
       "...            ...           ...    ...   ...   ...      ...  \n",
       "115059  192.870729      8.594923      7  2013    30        3  \n",
       "115060  192.870729      8.594923      7  2013    30        3  \n",
       "115061  192.870729      8.594923      7  2013    30        3  \n",
       "115062  192.870729      8.594923      7  2013    30        3  \n",
       "115063  192.870729      8.594923      7  2013    30        3  \n",
       "\n",
       "[115064 rows x 19 columns]"
      ]
     },
     "execution_count": 24,
     "metadata": {},
     "output_type": "execute_result"
    },
    {
     "name": "stdout",
     "output_type": "stream",
     "text": [
      "time: 22 ms\n"
     ]
    }
   ],
   "source": [
    "test"
   ]
  },
  {
   "cell_type": "markdown",
   "metadata": {
    "colab_type": "text",
    "id": "LBEsHf34F-Te",
    "toc-hr-collapsed": false
   },
   "source": [
    "#### Extracting given 4 major holidays"
   ]
  },
  {
   "cell_type": "code",
   "execution_count": 25,
   "metadata": {
    "colab": {
     "base_uri": "https://localhost:8080/",
     "height": 34
    },
    "colab_type": "code",
    "id": "F0UopwHaF-Tf",
    "outputId": "375c9d14-58be-43b1-cb67-f38c55d33c76"
   },
   "outputs": [
    {
     "name": "stdout",
     "output_type": "stream",
     "text": [
      "time: 997 µs\n"
     ]
    }
   ],
   "source": [
    "Super_Bowl= ['2010-02-12', '2011-02-11', '2012-02-10','2013-02-08']\n",
    "Labor_Day= ['2010-09-10', '2011-09-9', '2012-09-07', '2013-09-06']\n",
    "Thanksgiving= ['2010-11-26', '2011-11-25', '2012-11-23', '2013-11-29']\n",
    "Christmas=['2010-12-31', '2011-12-30', '2012-12-28', '2013-12-27']"
   ]
  },
  {
   "cell_type": "markdown",
   "metadata": {
    "colab_type": "text",
    "id": "RX-U81VlF-Tj"
   },
   "source": [
    "##### Train "
   ]
  },
  {
   "cell_type": "code",
   "execution_count": 26,
   "metadata": {
    "colab": {
     "base_uri": "https://localhost:8080/",
     "height": 68
    },
    "colab_type": "code",
    "id": "J2hLcFgiF-Tk",
    "outputId": "290847c9-c75a-4033-ea23-745652c7daaf"
   },
   "outputs": [
    {
     "data": {
      "text/plain": [
       "False    391909\n",
       "True      29661\n",
       "Name: IsHoliday, dtype: int64"
      ]
     },
     "execution_count": 26,
     "metadata": {},
     "output_type": "execute_result"
    },
    {
     "name": "stdout",
     "output_type": "stream",
     "text": [
      "time: 19.9 ms\n"
     ]
    }
   ],
   "source": [
    "train.IsHoliday.value_counts()"
   ]
  },
  {
   "cell_type": "code",
   "execution_count": 27,
   "metadata": {
    "colab": {
     "base_uri": "https://localhost:8080/",
     "height": 68
    },
    "colab_type": "code",
    "id": "MpKVKFV3F-Tp",
    "outputId": "e3b87675-4ef4-413c-8dbf-649cf3c93b03"
   },
   "outputs": [
    {
     "data": {
      "text/plain": [
       "0    412675\n",
       "1      8895\n",
       "Name: Super_Bowl, dtype: int64"
      ]
     },
     "execution_count": 27,
     "metadata": {},
     "output_type": "execute_result"
    },
    {
     "name": "stdout",
     "output_type": "stream",
     "text": [
      "time: 332 ms\n"
     ]
    }
   ],
   "source": [
    "train['Super_Bowl']=train[(train.Date == Super_Bowl[0]) | (train.Date == Super_Bowl[1]) | (train.Date == Super_Bowl[2]) | (train.Date == Super_Bowl[3]) ].IsHoliday\n",
    "train['Super_Bowl'].fillna(0,inplace=True)\n",
    "train['Super_Bowl'].replace(to_replace=True,value=1,inplace=True)\n",
    "train['Super_Bowl'].value_counts()"
   ]
  },
  {
   "cell_type": "code",
   "execution_count": 28,
   "metadata": {
    "colab": {
     "base_uri": "https://localhost:8080/",
     "height": 68
    },
    "colab_type": "code",
    "id": "0TtUWK1JF-T_",
    "outputId": "fd09efcc-af20-444c-85c8-f69ef62ded93"
   },
   "outputs": [
    {
     "data": {
      "text/plain": [
       "0    412709\n",
       "1      8861\n",
       "Name: Labor_Day, dtype: int64"
      ]
     },
     "execution_count": 28,
     "metadata": {},
     "output_type": "execute_result"
    },
    {
     "name": "stdout",
     "output_type": "stream",
     "text": [
      "time: 311 ms\n"
     ]
    }
   ],
   "source": [
    "train['Labor_Day']=train[(train.Date == Labor_Day[0]) | (train.Date == Labor_Day[1]) | (train.Date == Labor_Day[2]) | (train.Date == Labor_Day[3]) ].IsHoliday\n",
    "train['Labor_Day'].fillna(0,inplace=True)\n",
    "train['Labor_Day'].replace(to_replace=True,value=1,inplace=True)\n",
    "train['Labor_Day'].value_counts()"
   ]
  },
  {
   "cell_type": "code",
   "execution_count": 29,
   "metadata": {
    "colab": {
     "base_uri": "https://localhost:8080/",
     "height": 68
    },
    "colab_type": "code",
    "id": "prZdnz7iF-UM",
    "outputId": "366ea05c-bb00-424e-b4f5-76091c408ba6"
   },
   "outputs": [
    {
     "data": {
      "text/plain": [
       "0    415611\n",
       "1      5959\n",
       "Name: Thanksgiving, dtype: int64"
      ]
     },
     "execution_count": 29,
     "metadata": {},
     "output_type": "execute_result"
    },
    {
     "name": "stdout",
     "output_type": "stream",
     "text": [
      "time: 289 ms\n"
     ]
    }
   ],
   "source": [
    "train['Thanksgiving']=train[(train.Date == Thanksgiving[0]) | (train.Date == Thanksgiving[1]) | (train.Date == Thanksgiving[2]) | (train.Date == Thanksgiving[3]) ].IsHoliday\n",
    "train['Thanksgiving'].fillna(0,inplace=True)\n",
    "train['Thanksgiving'].replace(to_replace=True,value=1,inplace=True)\n",
    "train['Thanksgiving'].value_counts()"
   ]
  },
  {
   "cell_type": "code",
   "execution_count": 30,
   "metadata": {
    "colab": {
     "base_uri": "https://localhost:8080/",
     "height": 68
    },
    "colab_type": "code",
    "id": "eOo_h991F-Ue",
    "outputId": "36ac377c-a8c6-4e74-e14c-6f03b1d49112"
   },
   "outputs": [
    {
     "data": {
      "text/plain": [
       "0    415624\n",
       "1      5946\n",
       "Name: Christmas, dtype: int64"
      ]
     },
     "execution_count": 30,
     "metadata": {},
     "output_type": "execute_result"
    },
    {
     "name": "stdout",
     "output_type": "stream",
     "text": [
      "time: 328 ms\n"
     ]
    }
   ],
   "source": [
    "train['Christmas']=train[(train.Date == Christmas[0]) | (train.Date == Christmas[1]) | (train.Date == Christmas[2]) | (train.Date == Christmas[3]) ].IsHoliday\n",
    "train['Christmas'].fillna(0,inplace=True)\n",
    "train['Christmas'].replace(to_replace=True,value=1,inplace=True)\n",
    "train['Christmas'].value_counts()"
   ]
  },
  {
   "cell_type": "code",
   "execution_count": 31,
   "metadata": {
    "colab": {
     "base_uri": "https://localhost:8080/",
     "height": 137
    },
    "colab_type": "code",
    "id": "t-q43ZviF-Uu",
    "outputId": "4050e55b-d9f6-444b-e679-9c82e9b5373d"
   },
   "outputs": [
    {
     "data": {
      "text/plain": [
       "Super_Bowl  Labor_Day  Thanksgiving  Christmas  IsHoliday\n",
       "0           0          0             0          False        391909\n",
       "                                     1          True           5946\n",
       "                       1             0          True           5959\n",
       "            1          0             0          True           8861\n",
       "1           0          0             0          True           8895\n",
       "Name: IsHoliday, dtype: int64"
      ]
     },
     "execution_count": 31,
     "metadata": {},
     "output_type": "execute_result"
    },
    {
     "name": "stdout",
     "output_type": "stream",
     "text": [
      "time: 173 ms\n"
     ]
    }
   ],
   "source": [
    "train.groupby(['Super_Bowl','Labor_Day','Thanksgiving','Christmas']).IsHoliday.value_counts()"
   ]
  },
  {
   "cell_type": "markdown",
   "metadata": {
    "colab_type": "text",
    "id": "1LE3rb_zF-VA"
   },
   "source": [
    "##### Test "
   ]
  },
  {
   "cell_type": "code",
   "execution_count": 32,
   "metadata": {
    "colab": {
     "base_uri": "https://localhost:8080/",
     "height": 68
    },
    "colab_type": "code",
    "id": "-hmEnYO5F-VB",
    "outputId": "9a5b1a83-45aa-45a6-80f8-78e214f4b382"
   },
   "outputs": [
    {
     "data": {
      "text/plain": [
       "False    106136\n",
       "True       8928\n",
       "Name: IsHoliday, dtype: int64"
      ]
     },
     "execution_count": 32,
     "metadata": {},
     "output_type": "execute_result"
    },
    {
     "name": "stdout",
     "output_type": "stream",
     "text": [
      "time: 6.98 ms\n"
     ]
    }
   ],
   "source": [
    "test.IsHoliday.value_counts()"
   ]
  },
  {
   "cell_type": "code",
   "execution_count": 33,
   "metadata": {
    "colab": {
     "base_uri": "https://localhost:8080/",
     "height": 68
    },
    "colab_type": "code",
    "id": "szKgeHDhF-VE",
    "outputId": "01666352-8858-49dc-ff83-1c7f21a24a60"
   },
   "outputs": [
    {
     "data": {
      "text/plain": [
       "0    112100\n",
       "1      2964\n",
       "Name: Super_Bowl, dtype: int64"
      ]
     },
     "execution_count": 33,
     "metadata": {},
     "output_type": "execute_result"
    },
    {
     "name": "stdout",
     "output_type": "stream",
     "text": [
      "time: 116 ms\n"
     ]
    }
   ],
   "source": [
    "test['Super_Bowl']=test[(test.Date == Super_Bowl[0]) | (test.Date == Super_Bowl[1]) | (test.Date == Super_Bowl[2]) | (test.Date == Super_Bowl[3]) ].IsHoliday\n",
    "test['Super_Bowl'].fillna(0,inplace=True)\n",
    "test['Super_Bowl'].replace(to_replace=True,value=1,inplace=True)\n",
    "test['Super_Bowl'].value_counts()"
   ]
  },
  {
   "cell_type": "code",
   "execution_count": 34,
   "metadata": {
    "colab": {
     "base_uri": "https://localhost:8080/",
     "height": 51
    },
    "colab_type": "code",
    "id": "bheoj1kIF-VV",
    "outputId": "e4b587b5-0919-45b3-daaa-023d0009d088"
   },
   "outputs": [
    {
     "data": {
      "text/plain": [
       "0    115064\n",
       "Name: Labor_Day, dtype: int64"
      ]
     },
     "execution_count": 34,
     "metadata": {},
     "output_type": "execute_result"
    },
    {
     "name": "stdout",
     "output_type": "stream",
     "text": [
      "time: 69.8 ms\n"
     ]
    }
   ],
   "source": [
    "test['Labor_Day']=test[(test.Date == Labor_Day[0]) | (test.Date == Labor_Day[1]) | (test.Date == Labor_Day[2]) | (test.Date == Labor_Day[3]) ].IsHoliday\n",
    "test['Labor_Day'].fillna(0,inplace=True)\n",
    "test['Labor_Day'].replace(to_replace=True,value=1,inplace=True)\n",
    "test['Labor_Day'].value_counts()"
   ]
  },
  {
   "cell_type": "code",
   "execution_count": 35,
   "metadata": {
    "colab": {
     "base_uri": "https://localhost:8080/",
     "height": 68
    },
    "colab_type": "code",
    "id": "nNdrOr4iF-Vi",
    "outputId": "05d0268a-ca63-4342-98a1-24ba46dbe6fa"
   },
   "outputs": [
    {
     "data": {
      "text/plain": [
       "0    112088\n",
       "1      2976\n",
       "Name: Thanksgiving, dtype: int64"
      ]
     },
     "execution_count": 35,
     "metadata": {},
     "output_type": "execute_result"
    },
    {
     "name": "stdout",
     "output_type": "stream",
     "text": [
      "time: 102 ms\n"
     ]
    }
   ],
   "source": [
    "test['Thanksgiving']=test[(test.Date == Thanksgiving[0]) | (test.Date == Thanksgiving[1]) | (test.Date == Thanksgiving[2]) | (test.Date == Thanksgiving[3]) ].IsHoliday\n",
    "test['Thanksgiving'].fillna(0,inplace=True)\n",
    "test['Thanksgiving'].replace(to_replace=True,value=1,inplace=True)\n",
    "test['Thanksgiving'].value_counts()"
   ]
  },
  {
   "cell_type": "code",
   "execution_count": 36,
   "metadata": {
    "colab": {
     "base_uri": "https://localhost:8080/",
     "height": 68
    },
    "colab_type": "code",
    "id": "uN2vaV4pF-V3",
    "outputId": "7a4e1311-4cda-4c60-dc98-c597dbfc94df"
   },
   "outputs": [
    {
     "data": {
      "text/plain": [
       "0    112076\n",
       "1      2988\n",
       "Name: Christmas, dtype: int64"
      ]
     },
     "execution_count": 36,
     "metadata": {},
     "output_type": "execute_result"
    },
    {
     "name": "stdout",
     "output_type": "stream",
     "text": [
      "time: 101 ms\n"
     ]
    }
   ],
   "source": [
    "test['Christmas']=test[(test.Date == Christmas[0]) | (test.Date == Christmas[1]) | (test.Date == Christmas[2]) | (test.Date == Christmas[3]) ].IsHoliday\n",
    "test['Christmas'].fillna(0,inplace=True)\n",
    "test['Christmas'].replace(to_replace=True,value=1,inplace=True)\n",
    "test['Christmas'].value_counts()"
   ]
  },
  {
   "cell_type": "code",
   "execution_count": 37,
   "metadata": {
    "colab": {
     "base_uri": "https://localhost:8080/",
     "height": 120
    },
    "colab_type": "code",
    "id": "COXAyJE3F-Wo",
    "outputId": "21119dd1-979d-4402-80dc-6637bfe564c1"
   },
   "outputs": [
    {
     "data": {
      "text/plain": [
       "Super_Bowl  Labor_Day  Thanksgiving  Christmas  IsHoliday\n",
       "0           0          0             0          False        106136\n",
       "                                     1          True           2988\n",
       "                       1             0          True           2976\n",
       "1           0          0             0          True           2964\n",
       "Name: IsHoliday, dtype: int64"
      ]
     },
     "execution_count": 37,
     "metadata": {},
     "output_type": "execute_result"
    },
    {
     "name": "stdout",
     "output_type": "stream",
     "text": [
      "time: 48.9 ms\n"
     ]
    }
   ],
   "source": [
    "test.groupby(['Super_Bowl','Labor_Day','Thanksgiving','Christmas']).IsHoliday.value_counts()"
   ]
  },
  {
   "cell_type": "markdown",
   "metadata": {
    "colab_type": "text",
    "id": "6DJxnjL7F-Ww"
   },
   "source": [
    "    From above we can conclude that IsHoliday contains all the holidays including the 4 major holidays."
   ]
  },
  {
   "cell_type": "code",
   "execution_count": 38,
   "metadata": {
    "colab": {
     "base_uri": "https://localhost:8080/",
     "height": 34
    },
    "colab_type": "code",
    "id": "5zLayYcLF-Xt",
    "outputId": "91c7bb1a-829e-4521-de27-48da34ad383b"
   },
   "outputs": [
    {
     "name": "stdout",
     "output_type": "stream",
     "text": [
      "time: 152 ms\n"
     ]
    }
   ],
   "source": [
    "#Replacing True and False 1 and 0 for train and test\n",
    "train.IsHoliday.replace(to_replace=True,value=1,inplace=True)\n",
    "train.IsHoliday.replace(to_replace=False,value=0,inplace=True)\n",
    "\n",
    "test.IsHoliday.replace(to_replace=True,value=1,inplace=True)\n",
    "test.IsHoliday.replace(to_replace=False,value=0,inplace=True)\n",
    "\n",
    "train.IsHoliday = train.IsHoliday.astype('int32')\n",
    "test.IsHoliday = test.IsHoliday.astype('int32')"
   ]
  },
  {
   "cell_type": "markdown",
   "metadata": {
    "colab_type": "text",
    "id": "xaPfIvybndIh"
   },
   "source": [
    "### Exploring the weekly sales trend with respect to week number"
   ]
  },
  {
   "cell_type": "code",
   "execution_count": 39,
   "metadata": {},
   "outputs": [
    {
     "data": {
      "text/plain": [
       "Index(['Store', 'Dept', 'Date', 'Weekly_Sales', 'IsHoliday', 'Type', 'Size',\n",
       "       'Temperature', 'Fuel_Price', 'MarkDown1', 'MarkDown2', 'MarkDown3',\n",
       "       'MarkDown4', 'MarkDown5', 'CPI', 'Unemployment', 'month', 'year',\n",
       "       'week', 'quarter', 'Super_Bowl', 'Labor_Day', 'Thanksgiving',\n",
       "       'Christmas'],\n",
       "      dtype='object')"
      ]
     },
     "execution_count": 39,
     "metadata": {},
     "output_type": "execute_result"
    },
    {
     "name": "stdout",
     "output_type": "stream",
     "text": [
      "time: 4.98 ms\n"
     ]
    }
   ],
   "source": [
    "train.columns"
   ]
  },
  {
   "cell_type": "code",
   "execution_count": 40,
   "metadata": {
    "colab": {
     "base_uri": "https://localhost:8080/",
     "height": 494
    },
    "colab_type": "code",
    "id": "URQnrGTIX16Y",
    "outputId": "f0202eaa-68ce-44e2-aa90-30000b4f85ec"
   },
   "outputs": [
    {
     "data": {
      "text/plain": [
       "Text(0.5, 0, 'Week')"
      ]
     },
     "execution_count": 40,
     "metadata": {},
     "output_type": "execute_result"
    },
    {
     "data": {
      "image/png": "[encoded data removed]",
      "text/plain": [
       "<Figure size 1440x576 with 1 Axes>"
      ]
     },
     "metadata": {
      "needs_background": "light"
     },
     "output_type": "display_data"
    },
    {
     "name": "stdout",
     "output_type": "stream",
     "text": [
      "time: 732 ms\n"
     ]
    }
   ],
   "source": [
    "weekly_sales_2010 = train[train.year==2010]['Weekly_Sales'].groupby(train['week']).mean()\n",
    "weekly_sales_2011 = train[train.year==2011]['Weekly_Sales'].groupby(train['week']).mean()\n",
    "weekly_sales_2012 = train[train.year==2012]['Weekly_Sales'].groupby(train['week']).mean()\n",
    "weekly_sales_2012\n",
    "plt.figure(figsize=(20,8))\n",
    "sb.lineplot(weekly_sales_2010.index, weekly_sales_2010.values)\n",
    "sb.lineplot(weekly_sales_2011.index, weekly_sales_2011.values)\n",
    "sb.lineplot(weekly_sales_2012.index, weekly_sales_2012.values)\n",
    "plt.grid()\n",
    "plt.xticks(np.arange(1, 53, step=1))\n",
    "plt.legend(['2010', '2011', '2012'], loc='best', fontsize=16)\n",
    "plt.title('Average Weekly Sales - Per Year', fontsize=18)\n",
    "plt.ylabel('Sales', fontsize=16)\n",
    "plt.xlabel('Week', fontsize=16)"
   ]
  },
  {
   "cell_type": "code",
   "execution_count": 41,
   "metadata": {
    "colab": {
     "base_uri": "https://localhost:8080/",
     "height": 188
    },
    "colab_type": "code",
    "id": "EshlShWJdCJj",
    "outputId": "c743405b-a7e0-49e2-ec4e-0cf9131a6ab1"
   },
   "outputs": [
    {
     "data": {
      "text/plain": [
       "2012-04-06    2983\n",
       "2012-04-20    2975\n",
       "2012-03-30    2961\n",
       "2011-04-22    2955\n",
       "2010-04-09    2951\n",
       "2011-04-01    2951\n",
       "2010-04-02    2949\n",
       "2011-04-08    2935\n",
       "2010-04-23    2933\n",
       "Name: Date, dtype: int64"
      ]
     },
     "execution_count": 41,
     "metadata": {},
     "output_type": "execute_result"
    },
    {
     "name": "stdout",
     "output_type": "stream",
     "text": [
      "time: 17 ms\n"
     ]
    }
   ],
   "source": [
    "train[(train.week==13) | (train.week==14) | (train.week==16)].Date.value_counts()"
   ]
  },
  {
   "cell_type": "code",
   "execution_count": 42,
   "metadata": {
    "colab": {
     "base_uri": "https://localhost:8080/",
     "height": 86
    },
    "colab_type": "code",
    "id": "6h6p2XA-g9Te",
    "outputId": "183bc072-7af5-43a6-cb23-49f737e7d35a"
   },
   "outputs": [
    {
     "data": {
      "text/plain": [
       "2013-04-19    2948\n",
       "2013-04-05    2946\n",
       "2013-03-29    2940\n",
       "Name: Date, dtype: int64"
      ]
     },
     "execution_count": 42,
     "metadata": {},
     "output_type": "execute_result"
    },
    {
     "name": "stdout",
     "output_type": "stream",
     "text": [
      "time: 9.97 ms\n"
     ]
    }
   ],
   "source": [
    "test[(test.week==13) | (test.week==14) | (test.week==16)].Date.value_counts()"
   ]
  },
  {
   "cell_type": "markdown",
   "metadata": {
    "colab_type": "text",
    "id": "WjN-z1aFd-67"
   },
   "source": [
    "    A little spike in sales can be observed during week 14 of year 2012. This week another Holiday is observed i.e. Easter. \n",
    "    This Holiday is not present in our Holiday list. Thus, will use it to find modify IsHoliday attribute."
   ]
  },
  {
   "cell_type": "code",
   "execution_count": 43,
   "metadata": {
    "colab": {
     "base_uri": "https://localhost:8080/",
     "height": 137
    },
    "colab_type": "code",
    "id": "XTOBxxd9i8Rs",
    "outputId": "6b17ae3b-93e7-4616-c45a-3d94f977fb9b"
   },
   "outputs": [
    {
     "name": "stdout",
     "output_type": "stream",
     "text": [
      "0    391909\n",
      "1     29661\n",
      "Name: IsHoliday, dtype: int64\n",
      "0    106136\n",
      "1      8928\n",
      "Name: IsHoliday, dtype: int64\n",
      "time: 12 ms\n"
     ]
    }
   ],
   "source": [
    "print(train.IsHoliday.value_counts())\n",
    "print(test.IsHoliday.value_counts())"
   ]
  },
  {
   "cell_type": "code",
   "execution_count": 44,
   "metadata": {
    "colab": {
     "base_uri": "https://localhost:8080/",
     "height": 34
    },
    "colab_type": "code",
    "id": "yjWQxjh-iAwR",
    "outputId": "1702fe0e-a28d-48d9-d6ec-4d3a64b44a25"
   },
   "outputs": [
    {
     "name": "stdout",
     "output_type": "stream",
     "text": [
      "time: 62.8 ms\n"
     ]
    }
   ],
   "source": [
    "train.loc[(train.year==2010) & (train.week==13), 'IsHoliday'] = 1\n",
    "train.loc[(train.year==2011) & (train.week==16), 'IsHoliday'] = 1\n",
    "train.loc[(train.year==2012) & (train.week==14), 'IsHoliday'] = 1\n",
    "test.loc[(test.year==2013) & (test.week==13), 'IsHoliday'] = 1"
   ]
  },
  {
   "cell_type": "code",
   "execution_count": 45,
   "metadata": {
    "colab": {
     "base_uri": "https://localhost:8080/",
     "height": 137
    },
    "colab_type": "code",
    "id": "itk9jLTdl15R",
    "outputId": "d020d11f-3274-4a87-ba1a-07b09f64cb31"
   },
   "outputs": [
    {
     "name": "stdout",
     "output_type": "stream",
     "text": [
      "0    383022\n",
      "1     38548\n",
      "Name: IsHoliday, dtype: int64\n",
      "0    103196\n",
      "1     11868\n",
      "Name: IsHoliday, dtype: int64\n",
      "time: 18 ms\n"
     ]
    }
   ],
   "source": [
    "print(train.IsHoliday.value_counts())\n",
    "print(test.IsHoliday.value_counts())"
   ]
  },
  {
   "cell_type": "code",
   "execution_count": 46,
   "metadata": {},
   "outputs": [
    {
     "name": "stdout",
     "output_type": "stream",
     "text": [
      "<class 'pandas.core.frame.DataFrame'>\n",
      "Int64Index: 421570 entries, 0 to 421569\n",
      "Data columns (total 24 columns):\n",
      "Store           421570 non-null int64\n",
      "Dept            421570 non-null int64\n",
      "Date            421570 non-null datetime64[ns]\n",
      "Weekly_Sales    421570 non-null float64\n",
      "IsHoliday       421570 non-null int32\n",
      "Type            421570 non-null object\n",
      "Size            421570 non-null int64\n",
      "Temperature     421570 non-null float64\n",
      "Fuel_Price      421570 non-null float64\n",
      "MarkDown1       150681 non-null float64\n",
      "MarkDown2       111248 non-null float64\n",
      "MarkDown3       137091 non-null float64\n",
      "MarkDown4       134967 non-null float64\n",
      "MarkDown5       151432 non-null float64\n",
      "CPI             421570 non-null float64\n",
      "Unemployment    421570 non-null float64\n",
      "month           421570 non-null int64\n",
      "year            421570 non-null int64\n",
      "week            421570 non-null int64\n",
      "quarter         421570 non-null int64\n",
      "Super_Bowl      421570 non-null int64\n",
      "Labor_Day       421570 non-null int64\n",
      "Thanksgiving    421570 non-null int64\n",
      "Christmas       421570 non-null int64\n",
      "dtypes: datetime64[ns](1), float64(10), int32(1), int64(11), object(1)\n",
      "memory usage: 98.8+ MB\n",
      "time: 68.8 ms\n"
     ]
    }
   ],
   "source": [
    "train.info()"
   ]
  },
  {
   "cell_type": "code",
   "execution_count": 47,
   "metadata": {},
   "outputs": [
    {
     "name": "stdout",
     "output_type": "stream",
     "text": [
      "<class 'pandas.core.frame.DataFrame'>\n",
      "Int64Index: 115064 entries, 0 to 115063\n",
      "Data columns (total 23 columns):\n",
      "Store           115064 non-null int64\n",
      "Dept            115064 non-null int64\n",
      "Date            115064 non-null datetime64[ns]\n",
      "IsHoliday       115064 non-null int32\n",
      "Type            115064 non-null object\n",
      "Size            115064 non-null int64\n",
      "Temperature     115064 non-null float64\n",
      "Fuel_Price      115064 non-null float64\n",
      "MarkDown1       114915 non-null float64\n",
      "MarkDown2       86437 non-null float64\n",
      "MarkDown3       105235 non-null float64\n",
      "MarkDown4       102176 non-null float64\n",
      "MarkDown5       115064 non-null float64\n",
      "CPI             115064 non-null float64\n",
      "Unemployment    115064 non-null float64\n",
      "month           115064 non-null int64\n",
      "year            115064 non-null int64\n",
      "week            115064 non-null int64\n",
      "quarter         115064 non-null int64\n",
      "Super_Bowl      115064 non-null int64\n",
      "Labor_Day       115064 non-null int64\n",
      "Thanksgiving    115064 non-null int64\n",
      "Christmas       115064 non-null int64\n",
      "dtypes: datetime64[ns](1), float64(9), int32(1), int64(11), object(1)\n",
      "memory usage: 20.6+ MB\n",
      "time: 18 ms\n"
     ]
    }
   ],
   "source": [
    "test.info()"
   ]
  },
  {
   "cell_type": "code",
   "execution_count": 48,
   "metadata": {},
   "outputs": [
    {
     "name": "stdout",
     "output_type": "stream",
     "text": [
      "time: 64.8 ms\n"
     ]
    }
   ],
   "source": [
    "train_org = train.copy(deep=True)\n",
    "test_org = test.copy(deep=True)"
   ]
  },
  {
   "cell_type": "markdown",
   "metadata": {
    "colab_type": "text",
    "id": "g67R3lzWzACY"
   },
   "source": [
    "### Dropping columns that are not needed further"
   ]
  },
  {
   "cell_type": "code",
   "execution_count": 49,
   "metadata": {
    "colab": {
     "base_uri": "https://localhost:8080/",
     "height": 34
    },
    "colab_type": "code",
    "id": "1e2cw8qnzHsq",
    "outputId": "80384b74-3e90-419c-8557-0ec78660c271"
   },
   "outputs": [
    {
     "name": "stdout",
     "output_type": "stream",
     "text": [
      "time: 43.9 ms\n"
     ]
    }
   ],
   "source": [
    "train.drop(columns=['Date','Super_Bowl','Labor_Day','Thanksgiving','Christmas','MarkDown1','MarkDown2','MarkDown3','MarkDown4','MarkDown5'],inplace=True)\n",
    "test.drop(columns=['Date','Super_Bowl','Labor_Day','Thanksgiving','Christmas','MarkDown1','MarkDown2','MarkDown3','MarkDown4','MarkDown5'],inplace=True)"
   ]
  },
  {
   "cell_type": "markdown",
   "metadata": {
    "colab_type": "text",
    "id": "JXRGu9doF-Xs",
    "toc-hr-collapsed": false
   },
   "source": [
    "## Splitting data into numeric and categorical"
   ]
  },
  {
   "cell_type": "code",
   "execution_count": 50,
   "metadata": {
    "colab": {
     "base_uri": "https://localhost:8080/",
     "height": 394
    },
    "colab_type": "code",
    "id": "4ketc8dNF-X0",
    "outputId": "365e24b4-7493-417e-fa15-d37f36b44455"
   },
   "outputs": [
    {
     "name": "stdout",
     "output_type": "stream",
     "text": [
      "<class 'pandas.core.frame.DataFrame'>\n",
      "Int64Index: 421570 entries, 0 to 421569\n",
      "Data columns (total 14 columns):\n",
      "Store           421570 non-null int64\n",
      "Dept            421570 non-null int64\n",
      "Weekly_Sales    421570 non-null float64\n",
      "IsHoliday       421570 non-null int32\n",
      "Type            421570 non-null object\n",
      "Size            421570 non-null int64\n",
      "Temperature     421570 non-null float64\n",
      "Fuel_Price      421570 non-null float64\n",
      "CPI             421570 non-null float64\n",
      "Unemployment    421570 non-null float64\n",
      "month           421570 non-null int64\n",
      "year            421570 non-null int64\n",
      "week            421570 non-null int64\n",
      "quarter         421570 non-null int64\n",
      "dtypes: float64(5), int32(1), int64(7), object(1)\n",
      "memory usage: 66.6+ MB\n",
      "time: 53.9 ms\n"
     ]
    }
   ],
   "source": [
    "train.info()"
   ]
  },
  {
   "cell_type": "code",
   "execution_count": 51,
   "metadata": {
    "colab": {
     "base_uri": "https://localhost:8080/",
     "height": 377
    },
    "colab_type": "code",
    "id": "AEcf8UwDF-X2",
    "outputId": "7b888db9-8bbe-4adc-9cbe-b428e2cd78d9"
   },
   "outputs": [
    {
     "name": "stdout",
     "output_type": "stream",
     "text": [
      "<class 'pandas.core.frame.DataFrame'>\n",
      "Int64Index: 115064 entries, 0 to 115063\n",
      "Data columns (total 13 columns):\n",
      "Store           115064 non-null int64\n",
      "Dept            115064 non-null int64\n",
      "IsHoliday       115064 non-null int32\n",
      "Type            115064 non-null object\n",
      "Size            115064 non-null int64\n",
      "Temperature     115064 non-null float64\n",
      "Fuel_Price      115064 non-null float64\n",
      "CPI             115064 non-null float64\n",
      "Unemployment    115064 non-null float64\n",
      "month           115064 non-null int64\n",
      "year            115064 non-null int64\n",
      "week            115064 non-null int64\n",
      "quarter         115064 non-null int64\n",
      "dtypes: float64(4), int32(1), int64(7), object(1)\n",
      "memory usage: 11.9+ MB\n",
      "time: 16 ms\n"
     ]
    }
   ],
   "source": [
    "test.info()"
   ]
  },
  {
   "cell_type": "code",
   "execution_count": 52,
   "metadata": {
    "colab": {
     "base_uri": "https://localhost:8080/",
     "height": 34
    },
    "colab_type": "code",
    "id": "SCeh_oVPF-X5",
    "outputId": "8e5cdec3-e071-4edb-94f3-fa4c1780bcfb"
   },
   "outputs": [
    {
     "name": "stdout",
     "output_type": "stream",
     "text": [
      "time: 41.9 ms\n"
     ]
    }
   ],
   "source": [
    "cat_list = ['Type','Store','Dept','month','week','quarter','year','IsHoliday']\n",
    "\n",
    "train_cat = train[cat_list] \n",
    "train_num = train[train.columns.difference(cat_list)]\n",
    "\n",
    "test_cat = test[cat_list]\n",
    "test_num = test[test.columns.difference(cat_list)]"
   ]
  },
  {
   "cell_type": "code",
   "execution_count": 53,
   "metadata": {
    "colab": {
     "base_uri": "https://localhost:8080/",
     "height": 291
    },
    "colab_type": "code",
    "id": "Qeywjk4PF-X7",
    "outputId": "84a7f283-fd87-4df1-dd18-396104d17887"
   },
   "outputs": [
    {
     "name": "stdout",
     "output_type": "stream",
     "text": [
      "<class 'pandas.core.frame.DataFrame'>\n",
      "Int64Index: 421570 entries, 0 to 421569\n",
      "Data columns (total 8 columns):\n",
      "Type         421570 non-null object\n",
      "Store        421570 non-null int64\n",
      "Dept         421570 non-null int64\n",
      "month        421570 non-null int64\n",
      "week         421570 non-null int64\n",
      "quarter      421570 non-null int64\n",
      "year         421570 non-null int64\n",
      "IsHoliday    421570 non-null int32\n",
      "dtypes: int32(1), int64(6), object(1)\n",
      "memory usage: 47.3+ MB\n",
      "time: 27.9 ms\n"
     ]
    }
   ],
   "source": [
    "train_cat.info()"
   ]
  },
  {
   "cell_type": "code",
   "execution_count": 54,
   "metadata": {
    "colab": {
     "base_uri": "https://localhost:8080/",
     "height": 257
    },
    "colab_type": "code",
    "id": "5XrWm3uSF-X9",
    "outputId": "d10e10b2-dbea-4144-9d67-682d7ab22475"
   },
   "outputs": [
    {
     "name": "stdout",
     "output_type": "stream",
     "text": [
      "<class 'pandas.core.frame.DataFrame'>\n",
      "Int64Index: 421570 entries, 0 to 421569\n",
      "Data columns (total 6 columns):\n",
      "CPI             421570 non-null float64\n",
      "Fuel_Price      421570 non-null float64\n",
      "Size            421570 non-null int64\n",
      "Temperature     421570 non-null float64\n",
      "Unemployment    421570 non-null float64\n",
      "Weekly_Sales    421570 non-null float64\n",
      "dtypes: float64(5), int64(1)\n",
      "memory usage: 42.5 MB\n",
      "time: 15 ms\n"
     ]
    }
   ],
   "source": [
    "train_num.info()"
   ]
  },
  {
   "cell_type": "code",
   "execution_count": 55,
   "metadata": {
    "colab": {
     "base_uri": "https://localhost:8080/",
     "height": 291
    },
    "colab_type": "code",
    "id": "xQQglafvF-YA",
    "outputId": "0dfa2afe-b1ab-4db1-96dd-87e7ab9df1cf"
   },
   "outputs": [
    {
     "name": "stdout",
     "output_type": "stream",
     "text": [
      "<class 'pandas.core.frame.DataFrame'>\n",
      "Int64Index: 115064 entries, 0 to 115063\n",
      "Data columns (total 8 columns):\n",
      "Type         115064 non-null object\n",
      "Store        115064 non-null int64\n",
      "Dept         115064 non-null int64\n",
      "month        115064 non-null int64\n",
      "week         115064 non-null int64\n",
      "quarter      115064 non-null int64\n",
      "year         115064 non-null int64\n",
      "IsHoliday    115064 non-null int32\n",
      "dtypes: int32(1), int64(6), object(1)\n",
      "memory usage: 7.5+ MB\n",
      "time: 9.97 ms\n"
     ]
    }
   ],
   "source": [
    "test_cat.info()"
   ]
  },
  {
   "cell_type": "code",
   "execution_count": 56,
   "metadata": {
    "colab": {
     "base_uri": "https://localhost:8080/",
     "height": 240
    },
    "colab_type": "code",
    "id": "WbIroFSgF-YD",
    "outputId": "8b2514f1-ae54-48b4-f297-a3fa0c7b90c3"
   },
   "outputs": [
    {
     "name": "stdout",
     "output_type": "stream",
     "text": [
      "<class 'pandas.core.frame.DataFrame'>\n",
      "Int64Index: 115064 entries, 0 to 115063\n",
      "Data columns (total 5 columns):\n",
      "CPI             115064 non-null float64\n",
      "Fuel_Price      115064 non-null float64\n",
      "Size            115064 non-null int64\n",
      "Temperature     115064 non-null float64\n",
      "Unemployment    115064 non-null float64\n",
      "dtypes: float64(4), int64(1)\n",
      "memory usage: 5.3 MB\n",
      "time: 8.98 ms\n"
     ]
    }
   ],
   "source": [
    "test_num.info()"
   ]
  },
  {
   "cell_type": "markdown",
   "metadata": {
    "colab_type": "text",
    "id": "h7DLztnnF-YF"
   },
   "source": [
    "### Numerical"
   ]
  },
  {
   "cell_type": "markdown",
   "metadata": {
    "colab_type": "text",
    "id": "_5SGRdUJF-YF"
   },
   "source": [
    "#### Data Audit report"
   ]
  },
  {
   "cell_type": "code",
   "execution_count": 57,
   "metadata": {
    "colab": {
     "base_uri": "https://localhost:8080/",
     "height": 34
    },
    "colab_type": "code",
    "id": "Ds6pjV7OF-YG",
    "outputId": "94e39b99-cd22-494f-c4d2-978cc1f17008"
   },
   "outputs": [
    {
     "name": "stdout",
     "output_type": "stream",
     "text": [
      "time: 8.98 ms\n"
     ]
    }
   ],
   "source": [
    "def var_summary(x):\n",
    "    return pd.Series([x.count(), x.isnull().sum(), x.sum(), x.mean(), x.median(),  x.std(), x.var(), x.min(), x.dropna().quantile(0.01), x.dropna().quantile(0.05),x.dropna().quantile(0.10),x.dropna().quantile(0.25),x.dropna().quantile(0.50),x.dropna().quantile(0.75), x.dropna().quantile(0.90),x.dropna().quantile(0.95), x.dropna().quantile(0.99),x.max()], \n",
    "                  index=['N', 'NMISS', 'SUM', 'MEAN','MEDIAN', 'STD', 'VAR', 'MIN', 'P1' , 'P5' ,'P10' ,'P25' ,'P50' ,'P75' ,'P90' ,'P95' ,'P99' ,'MAX'])"
   ]
  },
  {
   "cell_type": "code",
   "execution_count": 58,
   "metadata": {
    "colab": {
     "base_uri": "https://localhost:8080/",
     "height": 271
    },
    "colab_type": "code",
    "id": "UCvGKnGvF-YI",
    "outputId": "4fab4bfd-46b1-4cd3-8090-fa8e8e71d804"
   },
   "outputs": [
    {
     "data": {
      "text/html": [
       "<div>\n",
       "<style scoped>\n",
       "    .dataframe tbody tr th:only-of-type {\n",
       "        vertical-align: middle;\n",
       "    }\n",
       "\n",
       "    .dataframe tbody tr th {\n",
       "        vertical-align: top;\n",
       "    }\n",
       "\n",
       "    .dataframe thead th {\n",
       "        text-align: right;\n",
       "    }\n",
       "</style>\n",
       "<table border=\"1\" class=\"dataframe\">\n",
       "  <thead>\n",
       "    <tr style=\"text-align: right;\">\n",
       "      <th></th>\n",
       "      <th>N</th>\n",
       "      <th>NMISS</th>\n",
       "      <th>SUM</th>\n",
       "      <th>MEAN</th>\n",
       "      <th>MEDIAN</th>\n",
       "      <th>STD</th>\n",
       "      <th>VAR</th>\n",
       "      <th>MIN</th>\n",
       "      <th>P1</th>\n",
       "      <th>P5</th>\n",
       "      <th>P10</th>\n",
       "      <th>P25</th>\n",
       "      <th>P50</th>\n",
       "      <th>P75</th>\n",
       "      <th>P90</th>\n",
       "      <th>P95</th>\n",
       "      <th>P99</th>\n",
       "      <th>MAX</th>\n",
       "    </tr>\n",
       "  </thead>\n",
       "  <tbody>\n",
       "    <tr>\n",
       "      <th>CPI</th>\n",
       "      <td>421570.0</td>\n",
       "      <td>0.0</td>\n",
       "      <td>7.217360e+07</td>\n",
       "      <td>171.201947</td>\n",
       "      <td>182.31878</td>\n",
       "      <td>39.159276</td>\n",
       "      <td>1.533449e+03</td>\n",
       "      <td>126.064</td>\n",
       "      <td>126.111903</td>\n",
       "      <td>126.496258</td>\n",
       "      <td>128.823806</td>\n",
       "      <td>132.022667</td>\n",
       "      <td>182.31878</td>\n",
       "      <td>212.416993</td>\n",
       "      <td>219.444244</td>\n",
       "      <td>221.941558</td>\n",
       "      <td>225.473509</td>\n",
       "      <td>227.232807</td>\n",
       "    </tr>\n",
       "    <tr>\n",
       "      <th>Fuel_Price</th>\n",
       "      <td>421570.0</td>\n",
       "      <td>0.0</td>\n",
       "      <td>1.416908e+06</td>\n",
       "      <td>3.361027</td>\n",
       "      <td>3.45200</td>\n",
       "      <td>0.458515</td>\n",
       "      <td>2.102356e-01</td>\n",
       "      <td>2.472</td>\n",
       "      <td>2.565000</td>\n",
       "      <td>2.653000</td>\n",
       "      <td>2.720000</td>\n",
       "      <td>2.933000</td>\n",
       "      <td>3.45200</td>\n",
       "      <td>3.738000</td>\n",
       "      <td>3.917000</td>\n",
       "      <td>4.029000</td>\n",
       "      <td>4.202000</td>\n",
       "      <td>4.468000</td>\n",
       "    </tr>\n",
       "    <tr>\n",
       "      <th>Size</th>\n",
       "      <td>421570.0</td>\n",
       "      <td>0.0</td>\n",
       "      <td>5.764039e+10</td>\n",
       "      <td>136727.915739</td>\n",
       "      <td>140167.00000</td>\n",
       "      <td>60980.583328</td>\n",
       "      <td>3.718632e+09</td>\n",
       "      <td>34875.000</td>\n",
       "      <td>34875.000000</td>\n",
       "      <td>39690.000000</td>\n",
       "      <td>39910.000000</td>\n",
       "      <td>93638.000000</td>\n",
       "      <td>140167.00000</td>\n",
       "      <td>202505.000000</td>\n",
       "      <td>204184.000000</td>\n",
       "      <td>206302.000000</td>\n",
       "      <td>219622.000000</td>\n",
       "      <td>219622.000000</td>\n",
       "    </tr>\n",
       "    <tr>\n",
       "      <th>Temperature</th>\n",
       "      <td>421570.0</td>\n",
       "      <td>0.0</td>\n",
       "      <td>2.533217e+07</td>\n",
       "      <td>60.090059</td>\n",
       "      <td>62.09000</td>\n",
       "      <td>18.447931</td>\n",
       "      <td>3.403262e+02</td>\n",
       "      <td>-2.060</td>\n",
       "      <td>18.300000</td>\n",
       "      <td>27.310000</td>\n",
       "      <td>33.980000</td>\n",
       "      <td>46.680000</td>\n",
       "      <td>62.09000</td>\n",
       "      <td>74.280000</td>\n",
       "      <td>83.580000</td>\n",
       "      <td>87.270000</td>\n",
       "      <td>92.810000</td>\n",
       "      <td>100.140000</td>\n",
       "    </tr>\n",
       "    <tr>\n",
       "      <th>Unemployment</th>\n",
       "      <td>421570.0</td>\n",
       "      <td>0.0</td>\n",
       "      <td>3.355819e+06</td>\n",
       "      <td>7.960289</td>\n",
       "      <td>7.86600</td>\n",
       "      <td>1.863296</td>\n",
       "      <td>3.471872e+00</td>\n",
       "      <td>3.879</td>\n",
       "      <td>4.156000</td>\n",
       "      <td>5.326000</td>\n",
       "      <td>5.965000</td>\n",
       "      <td>6.891000</td>\n",
       "      <td>7.86600</td>\n",
       "      <td>8.572000</td>\n",
       "      <td>9.816000</td>\n",
       "      <td>12.187000</td>\n",
       "      <td>14.180000</td>\n",
       "      <td>14.313000</td>\n",
       "    </tr>\n",
       "    <tr>\n",
       "      <th>Weekly_Sales</th>\n",
       "      <td>421570.0</td>\n",
       "      <td>0.0</td>\n",
       "      <td>6.737219e+09</td>\n",
       "      <td>15981.258123</td>\n",
       "      <td>7612.03000</td>\n",
       "      <td>22711.183519</td>\n",
       "      <td>5.157979e+08</td>\n",
       "      <td>-4988.940</td>\n",
       "      <td>5.000000</td>\n",
       "      <td>59.974500</td>\n",
       "      <td>291.097000</td>\n",
       "      <td>2079.650000</td>\n",
       "      <td>7612.03000</td>\n",
       "      <td>20205.852500</td>\n",
       "      <td>42845.673000</td>\n",
       "      <td>61201.951000</td>\n",
       "      <td>106479.586000</td>\n",
       "      <td>693099.360000</td>\n",
       "    </tr>\n",
       "  </tbody>\n",
       "</table>\n",
       "</div>"
      ],
      "text/plain": [
       "                     N  NMISS           SUM           MEAN        MEDIAN  \\\n",
       "CPI           421570.0    0.0  7.217360e+07     171.201947     182.31878   \n",
       "Fuel_Price    421570.0    0.0  1.416908e+06       3.361027       3.45200   \n",
       "Size          421570.0    0.0  5.764039e+10  136727.915739  140167.00000   \n",
       "Temperature   421570.0    0.0  2.533217e+07      60.090059      62.09000   \n",
       "Unemployment  421570.0    0.0  3.355819e+06       7.960289       7.86600   \n",
       "Weekly_Sales  421570.0    0.0  6.737219e+09   15981.258123    7612.03000   \n",
       "\n",
       "                       STD           VAR        MIN            P1  \\\n",
       "CPI              39.159276  1.533449e+03    126.064    126.111903   \n",
       "Fuel_Price        0.458515  2.102356e-01      2.472      2.565000   \n",
       "Size          60980.583328  3.718632e+09  34875.000  34875.000000   \n",
       "Temperature      18.447931  3.403262e+02     -2.060     18.300000   \n",
       "Unemployment      1.863296  3.471872e+00      3.879      4.156000   \n",
       "Weekly_Sales  22711.183519  5.157979e+08  -4988.940      5.000000   \n",
       "\n",
       "                        P5           P10           P25           P50  \\\n",
       "CPI             126.496258    128.823806    132.022667     182.31878   \n",
       "Fuel_Price        2.653000      2.720000      2.933000       3.45200   \n",
       "Size          39690.000000  39910.000000  93638.000000  140167.00000   \n",
       "Temperature      27.310000     33.980000     46.680000      62.09000   \n",
       "Unemployment      5.326000      5.965000      6.891000       7.86600   \n",
       "Weekly_Sales     59.974500    291.097000   2079.650000    7612.03000   \n",
       "\n",
       "                        P75            P90            P95            P99  \\\n",
       "CPI              212.416993     219.444244     221.941558     225.473509   \n",
       "Fuel_Price         3.738000       3.917000       4.029000       4.202000   \n",
       "Size          202505.000000  204184.000000  206302.000000  219622.000000   \n",
       "Temperature       74.280000      83.580000      87.270000      92.810000   \n",
       "Unemployment       8.572000       9.816000      12.187000      14.180000   \n",
       "Weekly_Sales   20205.852500   42845.673000   61201.951000  106479.586000   \n",
       "\n",
       "                        MAX  \n",
       "CPI              227.232807  \n",
       "Fuel_Price         4.468000  \n",
       "Size          219622.000000  \n",
       "Temperature      100.140000  \n",
       "Unemployment      14.313000  \n",
       "Weekly_Sales  693099.360000  "
      ]
     },
     "execution_count": 58,
     "metadata": {},
     "output_type": "execute_result"
    },
    {
     "name": "stdout",
     "output_type": "stream",
     "text": [
      "time: 713 ms\n"
     ]
    }
   ],
   "source": [
    "train_num.apply(lambda x: var_summary(x)).T"
   ]
  },
  {
   "cell_type": "code",
   "execution_count": 59,
   "metadata": {
    "colab": {
     "base_uri": "https://localhost:8080/",
     "height": 240
    },
    "colab_type": "code",
    "id": "T6_UYvKrF-YL",
    "outputId": "5e8efd3b-eca7-4ddb-dd8a-55f94264c377"
   },
   "outputs": [
    {
     "data": {
      "text/html": [
       "<div>\n",
       "<style scoped>\n",
       "    .dataframe tbody tr th:only-of-type {\n",
       "        vertical-align: middle;\n",
       "    }\n",
       "\n",
       "    .dataframe tbody tr th {\n",
       "        vertical-align: top;\n",
       "    }\n",
       "\n",
       "    .dataframe thead th {\n",
       "        text-align: right;\n",
       "    }\n",
       "</style>\n",
       "<table border=\"1\" class=\"dataframe\">\n",
       "  <thead>\n",
       "    <tr style=\"text-align: right;\">\n",
       "      <th></th>\n",
       "      <th>N</th>\n",
       "      <th>NMISS</th>\n",
       "      <th>SUM</th>\n",
       "      <th>MEAN</th>\n",
       "      <th>MEDIAN</th>\n",
       "      <th>STD</th>\n",
       "      <th>VAR</th>\n",
       "      <th>MIN</th>\n",
       "      <th>P1</th>\n",
       "      <th>P5</th>\n",
       "      <th>P10</th>\n",
       "      <th>P25</th>\n",
       "      <th>P50</th>\n",
       "      <th>P75</th>\n",
       "      <th>P90</th>\n",
       "      <th>P95</th>\n",
       "      <th>P99</th>\n",
       "      <th>MAX</th>\n",
       "    </tr>\n",
       "  </thead>\n",
       "  <tbody>\n",
       "    <tr>\n",
       "      <th>CPI</th>\n",
       "      <td>115064.0</td>\n",
       "      <td>0.0</td>\n",
       "      <td>2.036046e+07</td>\n",
       "      <td>176.948975</td>\n",
       "      <td>192.358548</td>\n",
       "      <td>41.240627</td>\n",
       "      <td>1.700789e+03</td>\n",
       "      <td>131.236226</td>\n",
       "      <td>131.279355</td>\n",
       "      <td>131.747000</td>\n",
       "      <td>132.042912</td>\n",
       "      <td>138.424667</td>\n",
       "      <td>192.358548</td>\n",
       "      <td>223.244532</td>\n",
       "      <td>225.910250</td>\n",
       "      <td>227.832373</td>\n",
       "      <td>228.642888</td>\n",
       "      <td>228.976456</td>\n",
       "    </tr>\n",
       "    <tr>\n",
       "      <th>Fuel_Price</th>\n",
       "      <td>115064.0</td>\n",
       "      <td>0.0</td>\n",
       "      <td>4.121070e+05</td>\n",
       "      <td>3.581546</td>\n",
       "      <td>3.606000</td>\n",
       "      <td>0.239442</td>\n",
       "      <td>5.733244e-02</td>\n",
       "      <td>2.872000</td>\n",
       "      <td>2.957000</td>\n",
       "      <td>3.161000</td>\n",
       "      <td>3.227000</td>\n",
       "      <td>3.431000</td>\n",
       "      <td>3.606000</td>\n",
       "      <td>3.766000</td>\n",
       "      <td>3.866000</td>\n",
       "      <td>3.951000</td>\n",
       "      <td>4.079000</td>\n",
       "      <td>4.125000</td>\n",
       "    </tr>\n",
       "    <tr>\n",
       "      <th>Size</th>\n",
       "      <td>115064.0</td>\n",
       "      <td>0.0</td>\n",
       "      <td>1.570597e+10</td>\n",
       "      <td>136497.688921</td>\n",
       "      <td>140167.000000</td>\n",
       "      <td>61106.926438</td>\n",
       "      <td>3.734056e+09</td>\n",
       "      <td>34875.000000</td>\n",
       "      <td>34875.000000</td>\n",
       "      <td>39690.000000</td>\n",
       "      <td>39910.000000</td>\n",
       "      <td>93638.000000</td>\n",
       "      <td>140167.000000</td>\n",
       "      <td>202505.000000</td>\n",
       "      <td>204184.000000</td>\n",
       "      <td>206302.000000</td>\n",
       "      <td>219622.000000</td>\n",
       "      <td>219622.000000</td>\n",
       "    </tr>\n",
       "    <tr>\n",
       "      <th>Temperature</th>\n",
       "      <td>115064.0</td>\n",
       "      <td>0.0</td>\n",
       "      <td>6.206760e+06</td>\n",
       "      <td>53.941804</td>\n",
       "      <td>54.470000</td>\n",
       "      <td>18.724153</td>\n",
       "      <td>3.505939e+02</td>\n",
       "      <td>-7.290000</td>\n",
       "      <td>11.440000</td>\n",
       "      <td>23.980000</td>\n",
       "      <td>29.970000</td>\n",
       "      <td>39.820000</td>\n",
       "      <td>54.470000</td>\n",
       "      <td>67.350000</td>\n",
       "      <td>79.480000</td>\n",
       "      <td>83.820000</td>\n",
       "      <td>92.140000</td>\n",
       "      <td>101.950000</td>\n",
       "    </tr>\n",
       "    <tr>\n",
       "      <th>Unemployment</th>\n",
       "      <td>115064.0</td>\n",
       "      <td>0.0</td>\n",
       "      <td>7.904467e+05</td>\n",
       "      <td>6.869627</td>\n",
       "      <td>6.820192</td>\n",
       "      <td>1.581820</td>\n",
       "      <td>2.502155e+00</td>\n",
       "      <td>3.684000</td>\n",
       "      <td>3.879000</td>\n",
       "      <td>3.967577</td>\n",
       "      <td>5.046923</td>\n",
       "      <td>5.771000</td>\n",
       "      <td>6.820192</td>\n",
       "      <td>8.000000</td>\n",
       "      <td>8.879885</td>\n",
       "      <td>9.910000</td>\n",
       "      <td>10.199000</td>\n",
       "      <td>10.199000</td>\n",
       "    </tr>\n",
       "  </tbody>\n",
       "</table>\n",
       "</div>"
      ],
      "text/plain": [
       "                     N  NMISS           SUM           MEAN         MEDIAN  \\\n",
       "CPI           115064.0    0.0  2.036046e+07     176.948975     192.358548   \n",
       "Fuel_Price    115064.0    0.0  4.121070e+05       3.581546       3.606000   \n",
       "Size          115064.0    0.0  1.570597e+10  136497.688921  140167.000000   \n",
       "Temperature   115064.0    0.0  6.206760e+06      53.941804      54.470000   \n",
       "Unemployment  115064.0    0.0  7.904467e+05       6.869627       6.820192   \n",
       "\n",
       "                       STD           VAR           MIN            P1  \\\n",
       "CPI              41.240627  1.700789e+03    131.236226    131.279355   \n",
       "Fuel_Price        0.239442  5.733244e-02      2.872000      2.957000   \n",
       "Size          61106.926438  3.734056e+09  34875.000000  34875.000000   \n",
       "Temperature      18.724153  3.505939e+02     -7.290000     11.440000   \n",
       "Unemployment      1.581820  2.502155e+00      3.684000      3.879000   \n",
       "\n",
       "                        P5           P10           P25            P50  \\\n",
       "CPI             131.747000    132.042912    138.424667     192.358548   \n",
       "Fuel_Price        3.161000      3.227000      3.431000       3.606000   \n",
       "Size          39690.000000  39910.000000  93638.000000  140167.000000   \n",
       "Temperature      23.980000     29.970000     39.820000      54.470000   \n",
       "Unemployment      3.967577      5.046923      5.771000       6.820192   \n",
       "\n",
       "                        P75            P90            P95            P99  \\\n",
       "CPI              223.244532     225.910250     227.832373     228.642888   \n",
       "Fuel_Price         3.766000       3.866000       3.951000       4.079000   \n",
       "Size          202505.000000  204184.000000  206302.000000  219622.000000   \n",
       "Temperature       67.350000      79.480000      83.820000      92.140000   \n",
       "Unemployment       8.000000       8.879885       9.910000      10.199000   \n",
       "\n",
       "                        MAX  \n",
       "CPI              228.976456  \n",
       "Fuel_Price         4.125000  \n",
       "Size          219622.000000  \n",
       "Temperature      101.950000  \n",
       "Unemployment      10.199000  "
      ]
     },
     "execution_count": 59,
     "metadata": {},
     "output_type": "execute_result"
    },
    {
     "name": "stdout",
     "output_type": "stream",
     "text": [
      "time: 217 ms\n"
     ]
    }
   ],
   "source": [
    "test_num.apply(lambda x : var_summary(x)).T"
   ]
  },
  {
   "cell_type": "markdown",
   "metadata": {
    "colab_type": "text",
    "id": "Knm81SpKF-YS"
   },
   "source": [
    "##### Detecting and converting -ve and zeros to missing "
   ]
  },
  {
   "cell_type": "code",
   "execution_count": 60,
   "metadata": {
    "colab": {
     "base_uri": "https://localhost:8080/",
     "height": 631
    },
    "colab_type": "code",
    "id": "RodeLiqQF-YT",
    "outputId": "0a8521cd-a7d4-4852-ae2b-5cd5ed6e62a6"
   },
   "outputs": [
    {
     "name": "stdout",
     "output_type": "stream",
     "text": [
      "Before\n",
      "CPI 0\n",
      "Fuel_Price 0\n",
      "Size 0\n",
      "Temperature 69\n",
      "Unemployment 0\n",
      "Weekly_Sales 1358\n",
      "\n",
      "After\n",
      "CPI 0\n",
      "Fuel_Price 0\n",
      "Size 0\n",
      "Temperature 0\n",
      "Unemployment 0\n",
      "Weekly_Sales 0\n"
     ]
    },
    {
     "name": "stderr",
     "output_type": "stream",
     "text": [
      "C:\\Users\\chord\\Anaconda3\\lib\\site-packages\\pandas\\core\\indexing.py:494: SettingWithCopyWarning: \n",
      "A value is trying to be set on a copy of a slice from a DataFrame.\n",
      "Try using .loc[row_indexer,col_indexer] = value instead\n",
      "\n",
      "See the caveats in the documentation: http://pandas.pydata.org/pandas-docs/stable/user_guide/indexing.html#returning-a-view-versus-a-copy\n",
      "  self.obj[item] = s\n"
     ]
    },
    {
     "data": {
      "text/html": [
       "<div>\n",
       "<style scoped>\n",
       "    .dataframe tbody tr th:only-of-type {\n",
       "        vertical-align: middle;\n",
       "    }\n",
       "\n",
       "    .dataframe tbody tr th {\n",
       "        vertical-align: top;\n",
       "    }\n",
       "\n",
       "    .dataframe thead th {\n",
       "        text-align: right;\n",
       "    }\n",
       "</style>\n",
       "<table border=\"1\" class=\"dataframe\">\n",
       "  <thead>\n",
       "    <tr style=\"text-align: right;\">\n",
       "      <th></th>\n",
       "      <th>N</th>\n",
       "      <th>NMISS</th>\n",
       "      <th>SUM</th>\n",
       "      <th>MEAN</th>\n",
       "      <th>MEDIAN</th>\n",
       "      <th>STD</th>\n",
       "      <th>VAR</th>\n",
       "      <th>MIN</th>\n",
       "      <th>P1</th>\n",
       "      <th>P5</th>\n",
       "      <th>P10</th>\n",
       "      <th>P25</th>\n",
       "      <th>P50</th>\n",
       "      <th>P75</th>\n",
       "      <th>P90</th>\n",
       "      <th>P95</th>\n",
       "      <th>P99</th>\n",
       "      <th>MAX</th>\n",
       "    </tr>\n",
       "  </thead>\n",
       "  <tbody>\n",
       "    <tr>\n",
       "      <th>CPI</th>\n",
       "      <td>421570.0</td>\n",
       "      <td>0.0</td>\n",
       "      <td>7.217360e+07</td>\n",
       "      <td>171.201947</td>\n",
       "      <td>182.31878</td>\n",
       "      <td>39.159276</td>\n",
       "      <td>1.533449e+03</td>\n",
       "      <td>126.064</td>\n",
       "      <td>126.111903</td>\n",
       "      <td>126.496258</td>\n",
       "      <td>128.823806</td>\n",
       "      <td>132.022667</td>\n",
       "      <td>182.31878</td>\n",
       "      <td>212.416993</td>\n",
       "      <td>219.444244</td>\n",
       "      <td>221.941558</td>\n",
       "      <td>225.473509</td>\n",
       "      <td>227.232807</td>\n",
       "    </tr>\n",
       "    <tr>\n",
       "      <th>Fuel_Price</th>\n",
       "      <td>421570.0</td>\n",
       "      <td>0.0</td>\n",
       "      <td>1.416908e+06</td>\n",
       "      <td>3.361027</td>\n",
       "      <td>3.45200</td>\n",
       "      <td>0.458515</td>\n",
       "      <td>2.102356e-01</td>\n",
       "      <td>2.472</td>\n",
       "      <td>2.565000</td>\n",
       "      <td>2.653000</td>\n",
       "      <td>2.720000</td>\n",
       "      <td>2.933000</td>\n",
       "      <td>3.45200</td>\n",
       "      <td>3.738000</td>\n",
       "      <td>3.917000</td>\n",
       "      <td>4.029000</td>\n",
       "      <td>4.202000</td>\n",
       "      <td>4.468000</td>\n",
       "    </tr>\n",
       "    <tr>\n",
       "      <th>Size</th>\n",
       "      <td>421570.0</td>\n",
       "      <td>0.0</td>\n",
       "      <td>5.764039e+10</td>\n",
       "      <td>136727.915739</td>\n",
       "      <td>140167.00000</td>\n",
       "      <td>60980.583328</td>\n",
       "      <td>3.718632e+09</td>\n",
       "      <td>34875.000</td>\n",
       "      <td>34875.000000</td>\n",
       "      <td>39690.000000</td>\n",
       "      <td>39910.000000</td>\n",
       "      <td>93638.000000</td>\n",
       "      <td>140167.00000</td>\n",
       "      <td>202505.000000</td>\n",
       "      <td>204184.000000</td>\n",
       "      <td>206302.000000</td>\n",
       "      <td>219622.000000</td>\n",
       "      <td>219622.000000</td>\n",
       "    </tr>\n",
       "    <tr>\n",
       "      <th>Temperature</th>\n",
       "      <td>421501.0</td>\n",
       "      <td>69.0</td>\n",
       "      <td>2.533231e+07</td>\n",
       "      <td>60.100233</td>\n",
       "      <td>62.09000</td>\n",
       "      <td>18.432294</td>\n",
       "      <td>3.397495e+02</td>\n",
       "      <td>5.540</td>\n",
       "      <td>18.360000</td>\n",
       "      <td>27.310000</td>\n",
       "      <td>33.990000</td>\n",
       "      <td>46.700000</td>\n",
       "      <td>62.09000</td>\n",
       "      <td>74.280000</td>\n",
       "      <td>83.580000</td>\n",
       "      <td>87.270000</td>\n",
       "      <td>92.810000</td>\n",
       "      <td>100.140000</td>\n",
       "    </tr>\n",
       "    <tr>\n",
       "      <th>Unemployment</th>\n",
       "      <td>421570.0</td>\n",
       "      <td>0.0</td>\n",
       "      <td>3.355819e+06</td>\n",
       "      <td>7.960289</td>\n",
       "      <td>7.86600</td>\n",
       "      <td>1.863296</td>\n",
       "      <td>3.471872e+00</td>\n",
       "      <td>3.879</td>\n",
       "      <td>4.156000</td>\n",
       "      <td>5.326000</td>\n",
       "      <td>5.965000</td>\n",
       "      <td>6.891000</td>\n",
       "      <td>7.86600</td>\n",
       "      <td>8.572000</td>\n",
       "      <td>9.816000</td>\n",
       "      <td>12.187000</td>\n",
       "      <td>14.180000</td>\n",
       "      <td>14.313000</td>\n",
       "    </tr>\n",
       "    <tr>\n",
       "      <th>Weekly_Sales</th>\n",
       "      <td>420212.0</td>\n",
       "      <td>1358.0</td>\n",
       "      <td>6.737307e+09</td>\n",
       "      <td>16033.114591</td>\n",
       "      <td>7661.70000</td>\n",
       "      <td>22729.492116</td>\n",
       "      <td>5.166298e+08</td>\n",
       "      <td>0.010</td>\n",
       "      <td>7.440000</td>\n",
       "      <td>67.551000</td>\n",
       "      <td>311.186000</td>\n",
       "      <td>2120.130000</td>\n",
       "      <td>7661.70000</td>\n",
       "      <td>20271.265000</td>\n",
       "      <td>42922.748000</td>\n",
       "      <td>61275.522000</td>\n",
       "      <td>106566.351400</td>\n",
       "      <td>693099.360000</td>\n",
       "    </tr>\n",
       "  </tbody>\n",
       "</table>\n",
       "</div>"
      ],
      "text/plain": [
       "                     N   NMISS           SUM           MEAN        MEDIAN  \\\n",
       "CPI           421570.0     0.0  7.217360e+07     171.201947     182.31878   \n",
       "Fuel_Price    421570.0     0.0  1.416908e+06       3.361027       3.45200   \n",
       "Size          421570.0     0.0  5.764039e+10  136727.915739  140167.00000   \n",
       "Temperature   421501.0    69.0  2.533231e+07      60.100233      62.09000   \n",
       "Unemployment  421570.0     0.0  3.355819e+06       7.960289       7.86600   \n",
       "Weekly_Sales  420212.0  1358.0  6.737307e+09   16033.114591    7661.70000   \n",
       "\n",
       "                       STD           VAR        MIN            P1  \\\n",
       "CPI              39.159276  1.533449e+03    126.064    126.111903   \n",
       "Fuel_Price        0.458515  2.102356e-01      2.472      2.565000   \n",
       "Size          60980.583328  3.718632e+09  34875.000  34875.000000   \n",
       "Temperature      18.432294  3.397495e+02      5.540     18.360000   \n",
       "Unemployment      1.863296  3.471872e+00      3.879      4.156000   \n",
       "Weekly_Sales  22729.492116  5.166298e+08      0.010      7.440000   \n",
       "\n",
       "                        P5           P10           P25           P50  \\\n",
       "CPI             126.496258    128.823806    132.022667     182.31878   \n",
       "Fuel_Price        2.653000      2.720000      2.933000       3.45200   \n",
       "Size          39690.000000  39910.000000  93638.000000  140167.00000   \n",
       "Temperature      27.310000     33.990000     46.700000      62.09000   \n",
       "Unemployment      5.326000      5.965000      6.891000       7.86600   \n",
       "Weekly_Sales     67.551000    311.186000   2120.130000    7661.70000   \n",
       "\n",
       "                        P75            P90            P95            P99  \\\n",
       "CPI              212.416993     219.444244     221.941558     225.473509   \n",
       "Fuel_Price         3.738000       3.917000       4.029000       4.202000   \n",
       "Size          202505.000000  204184.000000  206302.000000  219622.000000   \n",
       "Temperature       74.280000      83.580000      87.270000      92.810000   \n",
       "Unemployment       8.572000       9.816000      12.187000      14.180000   \n",
       "Weekly_Sales   20271.265000   42922.748000   61275.522000  106566.351400   \n",
       "\n",
       "                        MAX  \n",
       "CPI              227.232807  \n",
       "Fuel_Price         4.468000  \n",
       "Size          219622.000000  \n",
       "Temperature      100.140000  \n",
       "Unemployment      14.313000  \n",
       "Weekly_Sales  693099.360000  "
      ]
     },
     "execution_count": 60,
     "metadata": {},
     "output_type": "execute_result"
    },
    {
     "name": "stdout",
     "output_type": "stream",
     "text": [
      "time: 768 ms\n"
     ]
    }
   ],
   "source": [
    "print('Before')\n",
    "for i in train_num.columns.difference(['MarkDown1','MarkDown2','MarkDown3','MarkDown4','MarkDown5']):\n",
    "    c = train_num[train_num[i] <= 0][i].count()\n",
    "    print(i, c)\n",
    "\n",
    "train_num.loc[(train_num.Temperature <=0),'Temperature'] = np.nan\n",
    "train_num.loc[(train_num.Weekly_Sales <=0),'Weekly_Sales'] = np.nan\n",
    "\n",
    "print('\\nAfter')\n",
    "for i in train_num.columns.difference(['MarkDown1','MarkDown2','MarkDown3','MarkDown4','MarkDown5']):\n",
    "    d = train_num[train_num[i] <= 0][i].count()\n",
    "    print(i, d)\n",
    "\n",
    "train_num.apply(lambda x: var_summary(x)).T"
   ]
  },
  {
   "cell_type": "code",
   "execution_count": 61,
   "metadata": {
    "colab": {
     "base_uri": "https://localhost:8080/",
     "height": 566
    },
    "colab_type": "code",
    "id": "izTufuxbF-YV",
    "outputId": "c9196f60-2a0c-44ce-d81d-e8fa1850a9bf"
   },
   "outputs": [
    {
     "name": "stdout",
     "output_type": "stream",
     "text": [
      "Before\n",
      "CPI 0\n",
      "Fuel_Price 0\n",
      "Size 0\n",
      "Temperature 208\n",
      "Unemployment 0\n",
      "\n",
      "After\n",
      "CPI 0\n",
      "Fuel_Price 0\n",
      "Size 0\n",
      "Temperature 0\n",
      "Unemployment 0\n"
     ]
    },
    {
     "data": {
      "text/html": [
       "<div>\n",
       "<style scoped>\n",
       "    .dataframe tbody tr th:only-of-type {\n",
       "        vertical-align: middle;\n",
       "    }\n",
       "\n",
       "    .dataframe tbody tr th {\n",
       "        vertical-align: top;\n",
       "    }\n",
       "\n",
       "    .dataframe thead th {\n",
       "        text-align: right;\n",
       "    }\n",
       "</style>\n",
       "<table border=\"1\" class=\"dataframe\">\n",
       "  <thead>\n",
       "    <tr style=\"text-align: right;\">\n",
       "      <th></th>\n",
       "      <th>N</th>\n",
       "      <th>NMISS</th>\n",
       "      <th>SUM</th>\n",
       "      <th>MEAN</th>\n",
       "      <th>MEDIAN</th>\n",
       "      <th>STD</th>\n",
       "      <th>VAR</th>\n",
       "      <th>MIN</th>\n",
       "      <th>P1</th>\n",
       "      <th>P5</th>\n",
       "      <th>P10</th>\n",
       "      <th>P25</th>\n",
       "      <th>P50</th>\n",
       "      <th>P75</th>\n",
       "      <th>P90</th>\n",
       "      <th>P95</th>\n",
       "      <th>P99</th>\n",
       "      <th>MAX</th>\n",
       "    </tr>\n",
       "  </thead>\n",
       "  <tbody>\n",
       "    <tr>\n",
       "      <th>CPI</th>\n",
       "      <td>115064.0</td>\n",
       "      <td>0.0</td>\n",
       "      <td>2.036046e+07</td>\n",
       "      <td>176.948975</td>\n",
       "      <td>192.358548</td>\n",
       "      <td>41.240627</td>\n",
       "      <td>1.700789e+03</td>\n",
       "      <td>131.236226</td>\n",
       "      <td>131.279355</td>\n",
       "      <td>131.747000</td>\n",
       "      <td>132.042912</td>\n",
       "      <td>138.424667</td>\n",
       "      <td>192.358548</td>\n",
       "      <td>223.244532</td>\n",
       "      <td>225.910250</td>\n",
       "      <td>227.832373</td>\n",
       "      <td>228.642888</td>\n",
       "      <td>228.976456</td>\n",
       "    </tr>\n",
       "    <tr>\n",
       "      <th>Fuel_Price</th>\n",
       "      <td>115064.0</td>\n",
       "      <td>0.0</td>\n",
       "      <td>4.121070e+05</td>\n",
       "      <td>3.581546</td>\n",
       "      <td>3.606000</td>\n",
       "      <td>0.239442</td>\n",
       "      <td>5.733244e-02</td>\n",
       "      <td>2.872000</td>\n",
       "      <td>2.957000</td>\n",
       "      <td>3.161000</td>\n",
       "      <td>3.227000</td>\n",
       "      <td>3.431000</td>\n",
       "      <td>3.606000</td>\n",
       "      <td>3.766000</td>\n",
       "      <td>3.866000</td>\n",
       "      <td>3.951000</td>\n",
       "      <td>4.079000</td>\n",
       "      <td>4.125000</td>\n",
       "    </tr>\n",
       "    <tr>\n",
       "      <th>Size</th>\n",
       "      <td>115064.0</td>\n",
       "      <td>0.0</td>\n",
       "      <td>1.570597e+10</td>\n",
       "      <td>136497.688921</td>\n",
       "      <td>140167.000000</td>\n",
       "      <td>61106.926438</td>\n",
       "      <td>3.734056e+09</td>\n",
       "      <td>34875.000000</td>\n",
       "      <td>34875.000000</td>\n",
       "      <td>39690.000000</td>\n",
       "      <td>39910.000000</td>\n",
       "      <td>93638.000000</td>\n",
       "      <td>140167.000000</td>\n",
       "      <td>202505.000000</td>\n",
       "      <td>204184.000000</td>\n",
       "      <td>206302.000000</td>\n",
       "      <td>219622.000000</td>\n",
       "      <td>219622.000000</td>\n",
       "    </tr>\n",
       "    <tr>\n",
       "      <th>Temperature</th>\n",
       "      <td>114856.0</td>\n",
       "      <td>208.0</td>\n",
       "      <td>6.208144e+06</td>\n",
       "      <td>54.051546</td>\n",
       "      <td>54.510000</td>\n",
       "      <td>18.562489</td>\n",
       "      <td>3.445660e+02</td>\n",
       "      <td>0.250000</td>\n",
       "      <td>12.140000</td>\n",
       "      <td>24.590000</td>\n",
       "      <td>30.070000</td>\n",
       "      <td>39.870000</td>\n",
       "      <td>54.510000</td>\n",
       "      <td>67.430000</td>\n",
       "      <td>79.480000</td>\n",
       "      <td>83.820000</td>\n",
       "      <td>92.140000</td>\n",
       "      <td>101.950000</td>\n",
       "    </tr>\n",
       "    <tr>\n",
       "      <th>Unemployment</th>\n",
       "      <td>115064.0</td>\n",
       "      <td>0.0</td>\n",
       "      <td>7.904467e+05</td>\n",
       "      <td>6.869627</td>\n",
       "      <td>6.820192</td>\n",
       "      <td>1.581820</td>\n",
       "      <td>2.502155e+00</td>\n",
       "      <td>3.684000</td>\n",
       "      <td>3.879000</td>\n",
       "      <td>3.967577</td>\n",
       "      <td>5.046923</td>\n",
       "      <td>5.771000</td>\n",
       "      <td>6.820192</td>\n",
       "      <td>8.000000</td>\n",
       "      <td>8.879885</td>\n",
       "      <td>9.910000</td>\n",
       "      <td>10.199000</td>\n",
       "      <td>10.199000</td>\n",
       "    </tr>\n",
       "  </tbody>\n",
       "</table>\n",
       "</div>"
      ],
      "text/plain": [
       "                     N  NMISS           SUM           MEAN         MEDIAN  \\\n",
       "CPI           115064.0    0.0  2.036046e+07     176.948975     192.358548   \n",
       "Fuel_Price    115064.0    0.0  4.121070e+05       3.581546       3.606000   \n",
       "Size          115064.0    0.0  1.570597e+10  136497.688921  140167.000000   \n",
       "Temperature   114856.0  208.0  6.208144e+06      54.051546      54.510000   \n",
       "Unemployment  115064.0    0.0  7.904467e+05       6.869627       6.820192   \n",
       "\n",
       "                       STD           VAR           MIN            P1  \\\n",
       "CPI              41.240627  1.700789e+03    131.236226    131.279355   \n",
       "Fuel_Price        0.239442  5.733244e-02      2.872000      2.957000   \n",
       "Size          61106.926438  3.734056e+09  34875.000000  34875.000000   \n",
       "Temperature      18.562489  3.445660e+02      0.250000     12.140000   \n",
       "Unemployment      1.581820  2.502155e+00      3.684000      3.879000   \n",
       "\n",
       "                        P5           P10           P25            P50  \\\n",
       "CPI             131.747000    132.042912    138.424667     192.358548   \n",
       "Fuel_Price        3.161000      3.227000      3.431000       3.606000   \n",
       "Size          39690.000000  39910.000000  93638.000000  140167.000000   \n",
       "Temperature      24.590000     30.070000     39.870000      54.510000   \n",
       "Unemployment      3.967577      5.046923      5.771000       6.820192   \n",
       "\n",
       "                        P75            P90            P95            P99  \\\n",
       "CPI              223.244532     225.910250     227.832373     228.642888   \n",
       "Fuel_Price         3.766000       3.866000       3.951000       4.079000   \n",
       "Size          202505.000000  204184.000000  206302.000000  219622.000000   \n",
       "Temperature       67.430000      79.480000      83.820000      92.140000   \n",
       "Unemployment       8.000000       8.879885       9.910000      10.199000   \n",
       "\n",
       "                        MAX  \n",
       "CPI              228.976456  \n",
       "Fuel_Price         4.125000  \n",
       "Size          219622.000000  \n",
       "Temperature      101.950000  \n",
       "Unemployment      10.199000  "
      ]
     },
     "execution_count": 61,
     "metadata": {},
     "output_type": "execute_result"
    },
    {
     "name": "stdout",
     "output_type": "stream",
     "text": [
      "time: 245 ms\n"
     ]
    }
   ],
   "source": [
    "print('Before')\n",
    "for i in test_num.columns.difference(['MarkDown1','MarkDown2','MarkDown3','MarkDown4','MarkDown5']):\n",
    "    e = test_num[test[i] <= 0][i].count()\n",
    "    print(i, e)\n",
    "\n",
    "test_num.loc[test_num.Temperature <=0,'Temperature'] = np.nan\n",
    "\n",
    "print('\\nAfter')\n",
    "for i in test_num.columns.difference(['MarkDown1','MarkDown2','MarkDown3','MarkDown4','MarkDown5']):\n",
    "    f = test_num[test[i] <= 0][i].count()\n",
    "    print(i, f)\n",
    "    \n",
    "test_num.apply(lambda x: var_summary(x)).T"
   ]
  },
  {
   "cell_type": "markdown",
   "metadata": {
    "colab_type": "text",
    "id": "4vGwBqRLF-YX"
   },
   "source": [
    "##### Fixing missing values"
   ]
  },
  {
   "cell_type": "markdown",
   "metadata": {
    "colab_type": "text",
    "id": "3b50uTTGPtVO"
   },
   "source": [
    "###### Train"
   ]
  },
  {
   "cell_type": "code",
   "execution_count": 62,
   "metadata": {
    "colab": {
     "base_uri": "https://localhost:8080/",
     "height": 34
    },
    "colab_type": "code",
    "id": "VOa3IbJTF-Yf",
    "outputId": "a4ed4969-4e8e-4233-935d-f11c5bae4ac4"
   },
   "outputs": [
    {
     "name": "stdout",
     "output_type": "stream",
     "text": [
      "time: 21.9 ms\n"
     ]
    }
   ],
   "source": [
    "train_num = pd.concat([train_num,train[['Store','Dept']]],axis=1)"
   ]
  },
  {
   "cell_type": "code",
   "execution_count": 63,
   "metadata": {
    "colab": {
     "base_uri": "https://localhost:8080/",
     "height": 171
    },
    "colab_type": "code",
    "id": "ByMmjiuLF-Yi",
    "outputId": "892b3d82-6a0a-43aa-de4c-85779ba94a87"
   },
   "outputs": [
    {
     "data": {
      "text/plain": [
       "CPI                0\n",
       "Fuel_Price         0\n",
       "Size               0\n",
       "Temperature       69\n",
       "Unemployment       0\n",
       "Weekly_Sales    1358\n",
       "Store              0\n",
       "Dept               0\n",
       "dtype: int64"
      ]
     },
     "execution_count": 63,
     "metadata": {},
     "output_type": "execute_result"
    },
    {
     "name": "stdout",
     "output_type": "stream",
     "text": [
      "time: 70.8 ms\n"
     ]
    }
   ],
   "source": [
    "train_num.isna().sum()"
   ]
  },
  {
   "cell_type": "code",
   "execution_count": 64,
   "metadata": {
    "colab": {
     "base_uri": "https://localhost:8080/",
     "height": 34
    },
    "colab_type": "code",
    "id": "zqnItiKoF-Yq",
    "outputId": "cfd9dce8-4560-445e-de47-a827d591431d"
   },
   "outputs": [
    {
     "name": "stdout",
     "output_type": "stream",
     "text": [
      "time: 2.62 s\n"
     ]
    }
   ],
   "source": [
    "train_num['Temperature']=train_num.groupby(by=['Store','Dept']).Temperature.transform(lambda x: x.fillna(x.mean()))\n",
    "train_num['Weekly_Sales']=train_num.groupby(by=['Store','Dept']).Weekly_Sales.transform(lambda x: x.fillna(x.mean()))"
   ]
  },
  {
   "cell_type": "code",
   "execution_count": 65,
   "metadata": {
    "colab": {
     "base_uri": "https://localhost:8080/",
     "height": 171
    },
    "colab_type": "code",
    "id": "loMqPesmF-Yt",
    "outputId": "5052bb1e-3b7e-4290-9c19-b8c08f65db10"
   },
   "outputs": [
    {
     "data": {
      "text/plain": [
       "CPI              0\n",
       "Fuel_Price       0\n",
       "Size             0\n",
       "Temperature      0\n",
       "Unemployment     0\n",
       "Weekly_Sales    19\n",
       "Store            0\n",
       "Dept             0\n",
       "dtype: int64"
      ]
     },
     "execution_count": 65,
     "metadata": {},
     "output_type": "execute_result"
    },
    {
     "name": "stdout",
     "output_type": "stream",
     "text": [
      "time: 16 ms\n"
     ]
    }
   ],
   "source": [
    "train_num.isna().sum()"
   ]
  },
  {
   "cell_type": "code",
   "execution_count": 66,
   "metadata": {
    "colab": {
     "base_uri": "https://localhost:8080/",
     "height": 34
    },
    "colab_type": "code",
    "id": "i56-kny5ni3N",
    "outputId": "4b214a90-d5c3-4da6-966a-f4c912a3ae67"
   },
   "outputs": [
    {
     "name": "stdout",
     "output_type": "stream",
     "text": [
      "time: 69.8 ms\n"
     ]
    }
   ],
   "source": [
    "# train_num-> Weekly_Sales still has 19 values with NaN, Hence, taking mean at store level\n",
    "train_num['Weekly_Sales']=train_num.groupby(by=['Store']).Weekly_Sales.transform(lambda x: x.fillna(x.mean()))"
   ]
  },
  {
   "cell_type": "code",
   "execution_count": 67,
   "metadata": {
    "colab": {
     "base_uri": "https://localhost:8080/",
     "height": 171
    },
    "colab_type": "code",
    "id": "WeNzdXKYnn3x",
    "outputId": "aeb20db5-5c8f-44cf-ac1c-13de14d15011"
   },
   "outputs": [
    {
     "data": {
      "text/plain": [
       "CPI             0\n",
       "Fuel_Price      0\n",
       "Size            0\n",
       "Temperature     0\n",
       "Unemployment    0\n",
       "Weekly_Sales    0\n",
       "Store           0\n",
       "Dept            0\n",
       "dtype: int64"
      ]
     },
     "execution_count": 67,
     "metadata": {},
     "output_type": "execute_result"
    },
    {
     "name": "stdout",
     "output_type": "stream",
     "text": [
      "time: 17 ms\n"
     ]
    }
   ],
   "source": [
    "train_num.isna().sum()"
   ]
  },
  {
   "cell_type": "markdown",
   "metadata": {
    "colab_type": "text",
    "id": "8V_nZhY3P44i"
   },
   "source": [
    "###### Test"
   ]
  },
  {
   "cell_type": "code",
   "execution_count": 68,
   "metadata": {
    "colab": {
     "base_uri": "https://localhost:8080/",
     "height": 34
    },
    "colab_type": "code",
    "id": "RiJC_KyeF-Yy",
    "outputId": "045e269c-1c71-4d41-99cb-7e48e7dcdcb6"
   },
   "outputs": [
    {
     "name": "stdout",
     "output_type": "stream",
     "text": [
      "time: 6.98 ms\n"
     ]
    }
   ],
   "source": [
    "test_num = pd.concat([test_num,test[['Store','Dept']]],axis=1)"
   ]
  },
  {
   "cell_type": "code",
   "execution_count": 69,
   "metadata": {
    "colab": {
     "base_uri": "https://localhost:8080/",
     "height": 154
    },
    "colab_type": "code",
    "id": "wQxeEjxkF-Y1",
    "outputId": "74cc2946-cd0a-41a5-95f0-bbc93124c88e"
   },
   "outputs": [
    {
     "data": {
      "text/plain": [
       "CPI               0\n",
       "Fuel_Price        0\n",
       "Size              0\n",
       "Temperature     208\n",
       "Unemployment      0\n",
       "Store             0\n",
       "Dept              0\n",
       "dtype: int64"
      ]
     },
     "execution_count": 69,
     "metadata": {},
     "output_type": "execute_result"
    },
    {
     "name": "stdout",
     "output_type": "stream",
     "text": [
      "time: 14 ms\n"
     ]
    }
   ],
   "source": [
    "test_num.isna().sum()"
   ]
  },
  {
   "cell_type": "code",
   "execution_count": 70,
   "metadata": {
    "colab": {
     "base_uri": "https://localhost:8080/",
     "height": 34
    },
    "colab_type": "code",
    "id": "jwZMujplF-Y4",
    "outputId": "1f38bba5-1025-4ec4-9229-9ea5b56b865b"
   },
   "outputs": [
    {
     "name": "stdout",
     "output_type": "stream",
     "text": [
      "time: 1.26 s\n"
     ]
    }
   ],
   "source": [
    "test_num['Temperature']=test_num.groupby(by=['Store','Dept']).Temperature.transform(lambda x: x.fillna(x.mean()))"
   ]
  },
  {
   "cell_type": "code",
   "execution_count": 71,
   "metadata": {
    "colab": {
     "base_uri": "https://localhost:8080/",
     "height": 154
    },
    "colab_type": "code",
    "id": "ZVkDqA8JF-Y8",
    "outputId": "d6956b9e-2b33-4be0-da36-6e73d3269352"
   },
   "outputs": [
    {
     "data": {
      "text/plain": [
       "CPI             0\n",
       "Fuel_Price      0\n",
       "Size            0\n",
       "Temperature     0\n",
       "Unemployment    0\n",
       "Store           0\n",
       "Dept            0\n",
       "dtype: int64"
      ]
     },
     "execution_count": 71,
     "metadata": {},
     "output_type": "execute_result"
    },
    {
     "name": "stdout",
     "output_type": "stream",
     "text": [
      "time: 6.98 ms\n"
     ]
    }
   ],
   "source": [
    "test_num.isna().sum()"
   ]
  },
  {
   "cell_type": "code",
   "execution_count": 72,
   "metadata": {
    "colab": {
     "base_uri": "https://localhost:8080/",
     "height": 34
    },
    "colab_type": "code",
    "id": "viS3FrE_3E5z",
    "outputId": "31b7e9ad-c016-44a0-bd93-f8228f157dd3"
   },
   "outputs": [
    {
     "name": "stdout",
     "output_type": "stream",
     "text": [
      "time: 17 ms\n"
     ]
    }
   ],
   "source": [
    "#store and dept not needed now hence dropping them from both train_num and test_num.\n",
    "train_num.drop(columns=['Store','Dept'],axis=1,inplace=True)\n",
    "test_num.drop(columns=['Store','Dept'],axis=1,inplace=True)"
   ]
  },
  {
   "cell_type": "markdown",
   "metadata": {
    "colab_type": "text",
    "id": "6pceK6-FF-ZR"
   },
   "source": [
    "#### Visualizing outliers and distribution"
   ]
  },
  {
   "cell_type": "code",
   "execution_count": 73,
   "metadata": {
    "colab": {
     "base_uri": "https://localhost:8080/",
     "height": 1000
    },
    "colab_type": "code",
    "id": "vfyPI6gaF-ZR",
    "outputId": "2a506328-6309-49f9-8714-9773ce7a7823"
   },
   "outputs": [
    {
     "data": {
      "image/png": "[encoded data removed]",
      "text/plain": [
       "<Figure size 576x432 with 2 Axes>"
      ]
     },
     "metadata": {
      "needs_background": "light"
     },
     "output_type": "display_data"
    },
    {
     "data": {
      "image/png": "[encoded data removed]",
      "text/plain": [
       "<Figure size 576x432 with 2 Axes>"
      ]
     },
     "metadata": {
      "needs_background": "light"
     },
     "output_type": "display_data"
    },
    {
     "data": {
      "image/png": "[encoded data removed]",
      "text/plain": [
       "<Figure size 576x432 with 2 Axes>"
      ]
     },
     "metadata": {
      "needs_background": "light"
     },
     "output_type": "display_data"
    },
    {
     "data": {
      "image/png": "[encoded data removed]",
      "text/plain": [
       "<Figure size 576x432 with 2 Axes>"
      ]
     },
     "metadata": {
      "needs_background": "light"
     },
     "output_type": "display_data"
    },
    {
     "data": {
      "image/png": "[encoded data removed]",
      "text/plain": [
       "<Figure size 576x432 with 2 Axes>"
      ]
     },
     "metadata": {
      "needs_background": "light"
     },
     "output_type": "display_data"
    },
    {
     "data": {
      "image/png": "[encoded data removed]",
      "text/plain": [
       "<Figure size 576x432 with 2 Axes>"
      ]
     },
     "metadata": {
      "needs_background": "light"
     },
     "output_type": "display_data"
    },
    {
     "name": "stdout",
     "output_type": "stream",
     "text": [
      "time: 2.23 s\n"
     ]
    }
   ],
   "source": [
    "# Train_num\n",
    "for i in train_num.columns:\n",
    "    plt.figure(figsize=(8,6))\n",
    "    plt.subplot(2,2,1)\n",
    "    sb.distplot(train_num[i])\n",
    "    plt.title(str('Subplot for train:- ') + str(i))\n",
    "    plt.subplot(2,2,2)\n",
    "    plt.boxplot(train_num[i])\n",
    "    plt.title(str('Boxplot for train:- ') + str(i))"
   ]
  },
  {
   "cell_type": "code",
   "execution_count": 74,
   "metadata": {
    "colab": {
     "base_uri": "https://localhost:8080/",
     "height": 1000
    },
    "colab_type": "code",
    "id": "Obf9otp-6wnG",
    "outputId": "28adfbda-becb-4b60-f921-579dc173d4bf"
   },
   "outputs": [
    {
     "data": {
      "image/png": "[encoded data removed]",
      "text/plain": [
       "<Figure size 576x432 with 2 Axes>"
      ]
     },
     "metadata": {
      "needs_background": "light"
     },
     "output_type": "display_data"
    },
    {
     "data": {
      "image/png": "[encoded data removed]",
      "text/plain": [
       "<Figure size 576x432 with 2 Axes>"
      ]
     },
     "metadata": {
      "needs_background": "light"
     },
     "output_type": "display_data"
    },
    {
     "data": {
      "image/png": "[encoded data removed]",
      "text/plain": [
       "<Figure size 576x432 with 2 Axes>"
      ]
     },
     "metadata": {
      "needs_background": "light"
     },
     "output_type": "display_data"
    },
    {
     "data": {
      "image/png": "[encoded data removed]",
      "text/plain": [
       "<Figure size 576x432 with 2 Axes>"
      ]
     },
     "metadata": {
      "needs_background": "light"
     },
     "output_type": "display_data"
    },
    {
     "data": {
      "image/png": "[encoded data removed]",
      "text/plain": [
       "<Figure size 576x432 with 2 Axes>"
      ]
     },
     "metadata": {
      "needs_background": "light"
     },
     "output_type": "display_data"
    },
    {
     "name": "stdout",
     "output_type": "stream",
     "text": [
      "time: 1.49 s\n"
     ]
    }
   ],
   "source": [
    "#Test_num\n",
    "for i in test_num.columns:\n",
    "    plt.figure(figsize=(8,6))\n",
    "    plt.subplot(2,2,1)\n",
    "    sb.distplot(test_num[i])\n",
    "    plt.title(str('Subplot for test:- ') + str(i))\n",
    "    plt.subplot(2,2,2)\n",
    "    plt.boxplot(test_num[i])\n",
    "    plt.title(str('Boxplot for test:- ') + str(i))"
   ]
  },
  {
   "cell_type": "markdown",
   "metadata": {
    "colab_type": "text",
    "id": "L0oyDajRF-ZS"
   },
   "source": [
    "##### Outlier treatment clipping at 10% and 90%"
   ]
  },
  {
   "cell_type": "code",
   "execution_count": 75,
   "metadata": {
    "colab": {
     "base_uri": "https://localhost:8080/",
     "height": 34
    },
    "colab_type": "code",
    "id": "lf5frgvBF-ZU",
    "outputId": "1b2b6fd0-45bd-4758-f7f4-3047205086e9"
   },
   "outputs": [
    {
     "name": "stdout",
     "output_type": "stream",
     "text": [
      "time: 997 µs\n"
     ]
    }
   ],
   "source": [
    "def outlier_capping(x):\n",
    "    x = x.clip(upper = x.quantile(0.90))\n",
    "    x = x.clip(lower = x.quantile(0.10))\n",
    "    return x"
   ]
  },
  {
   "cell_type": "code",
   "execution_count": 76,
   "metadata": {
    "colab": {
     "base_uri": "https://localhost:8080/",
     "height": 34
    },
    "colab_type": "code",
    "id": "CAVa6-ne2W5B",
    "outputId": "a11c298c-b9e7-4578-e884-c56a5311ed81"
   },
   "outputs": [
    {
     "name": "stdout",
     "output_type": "stream",
     "text": [
      "time: 349 ms\n"
     ]
    }
   ],
   "source": [
    "train_num = train_num.apply(lambda x : outlier_capping(x))\n",
    "test_num = test_num.apply(lambda x : outlier_capping(x))"
   ]
  },
  {
   "cell_type": "code",
   "execution_count": 77,
   "metadata": {
    "colab": {
     "base_uri": "https://localhost:8080/",
     "height": 1000
    },
    "colab_type": "code",
    "id": "bO4a6LVj2mdA",
    "outputId": "6f9f73a7-def7-4715-f68b-a1ec8cdbd79a"
   },
   "outputs": [
    {
     "data": {
      "image/png": "[encoded data removed]",
      "text/plain": [
       "<Figure size 576x432 with 2 Axes>"
      ]
     },
     "metadata": {
      "needs_background": "light"
     },
     "output_type": "display_data"
    },
    {
     "data": {
      "image/png": "[encoded data removed]",
      "text/plain": [
       "<Figure size 576x432 with 2 Axes>"
      ]
     },
     "metadata": {
      "needs_background": "light"
     },
     "output_type": "display_data"
    },
    {
     "data": {
      "image/png": "[encoded data removed]",
      "text/plain": [
       "<Figure size 576x432 with 2 Axes>"
      ]
     },
     "metadata": {
      "needs_background": "light"
     },
     "output_type": "display_data"
    },
    {
     "data": {
      "image/png": "[encoded data removed]",
      "text/plain": [
       "<Figure size 576x432 with 2 Axes>"
      ]
     },
     "metadata": {
      "needs_background": "light"
     },
     "output_type": "display_data"
    },
    {
     "data": {
      "image/png": "[encoded data removed]",
      "text/plain": [
       "<Figure size 576x432 with 2 Axes>"
      ]
     },
     "metadata": {
      "needs_background": "light"
     },
     "output_type": "display_data"
    },
    {
     "data": {
      "image/png": "[encoded data removed]",
      "text/plain": [
       "<Figure size 576x432 with 2 Axes>"
      ]
     },
     "metadata": {
      "needs_background": "light"
     },
     "output_type": "display_data"
    },
    {
     "name": "stdout",
     "output_type": "stream",
     "text": [
      "time: 2.14 s\n"
     ]
    }
   ],
   "source": [
    "#Train_num\n",
    "for i in train_num.columns:\n",
    "    plt.figure(figsize=(8,6))\n",
    "    plt.subplot(2,2,1)\n",
    "    sb.distplot(train_num[i])\n",
    "    plt.title(str('Subplot for train:- ') + str(i))\n",
    "    plt.subplot(2,2,2)\n",
    "    plt.boxplot(train_num[i])\n",
    "    plt.title(str('Boxplot for train:- ') + str(i))"
   ]
  },
  {
   "cell_type": "code",
   "execution_count": 78,
   "metadata": {
    "colab": {
     "base_uri": "https://localhost:8080/",
     "height": 1000
    },
    "colab_type": "code",
    "id": "vayKVo952jtB",
    "outputId": "bfd89c17-234d-418f-9844-8f74ab39e1c7"
   },
   "outputs": [
    {
     "data": {
      "image/png": "[encoded data removed]",
      "text/plain": [
       "<Figure size 576x432 with 2 Axes>"
      ]
     },
     "metadata": {
      "needs_background": "light"
     },
     "output_type": "display_data"
    },
    {
     "data": {
      "image/png": "[encoded data removed]",
      "text/plain": [
       "<Figure size 576x432 with 2 Axes>"
      ]
     },
     "metadata": {
      "needs_background": "light"
     },
     "output_type": "display_data"
    },
    {
     "data": {
      "image/png": "[encoded data removed]",
      "text/plain": [
       "<Figure size 576x432 with 2 Axes>"
      ]
     },
     "metadata": {
      "needs_background": "light"
     },
     "output_type": "display_data"
    },
    {
     "data": {
      "image/png": "[encoded data removed]",
      "text/plain": [
       "<Figure size 576x432 with 2 Axes>"
      ]
     },
     "metadata": {
      "needs_background": "light"
     },
     "output_type": "display_data"
    },
    {
     "data": {
      "image/png": "[encoded data removed]",
      "text/plain": [
       "<Figure size 576x432 with 2 Axes>"
      ]
     },
     "metadata": {
      "needs_background": "light"
     },
     "output_type": "display_data"
    },
    {
     "name": "stdout",
     "output_type": "stream",
     "text": [
      "time: 1.35 s\n"
     ]
    }
   ],
   "source": [
    "#Test_num\n",
    "for i in test_num.columns:\n",
    "    plt.figure(figsize=(8,6))\n",
    "    plt.subplot(2,2,1)\n",
    "    sb.distplot(test_num[i])\n",
    "    plt.title(str('Subplot for test:- ') + str(i))\n",
    "    plt.subplot(2,2,2)\n",
    "    plt.boxplot(test_num[i])\n",
    "    plt.title(str('Boxplot for test:- ') + str(i))"
   ]
  },
  {
   "cell_type": "markdown",
   "metadata": {
    "colab_type": "text",
    "id": "wCp3o1-4F-ZC"
   },
   "source": [
    "### Categorical"
   ]
  },
  {
   "cell_type": "code",
   "execution_count": 79,
   "metadata": {
    "colab": {
     "base_uri": "https://localhost:8080/",
     "height": 34
    },
    "colab_type": "code",
    "id": "AUiMl_8pF-ZD",
    "outputId": "b67eee7d-122e-4ea8-c334-3269b4a2305f"
   },
   "outputs": [
    {
     "name": "stdout",
     "output_type": "stream",
     "text": [
      "time: 954 µs\n"
     ]
    }
   ],
   "source": [
    "def cat_summary(x):\n",
    "    return pd.Series([x.count(), x.isnull().sum(), x.value_counts()], \n",
    "                  index=['N', 'NMISS', 'ColumnsNames'])"
   ]
  },
  {
   "cell_type": "code",
   "execution_count": 80,
   "metadata": {
    "colab": {
     "base_uri": "https://localhost:8080/",
     "height": 210
    },
    "colab_type": "code",
    "id": "7qAvVTuvF-ZE",
    "outputId": "8456dc50-a632-483f-8121-9d98a5981f13"
   },
   "outputs": [
    {
     "data": {
      "text/html": [
       "<div>\n",
       "<style scoped>\n",
       "    .dataframe tbody tr th:only-of-type {\n",
       "        vertical-align: middle;\n",
       "    }\n",
       "\n",
       "    .dataframe tbody tr th {\n",
       "        vertical-align: top;\n",
       "    }\n",
       "\n",
       "    .dataframe thead th {\n",
       "        text-align: right;\n",
       "    }\n",
       "</style>\n",
       "<table border=\"1\" class=\"dataframe\">\n",
       "  <thead>\n",
       "    <tr style=\"text-align: right;\">\n",
       "      <th></th>\n",
       "      <th>Type</th>\n",
       "      <th>Store</th>\n",
       "      <th>Dept</th>\n",
       "      <th>month</th>\n",
       "      <th>week</th>\n",
       "      <th>quarter</th>\n",
       "      <th>year</th>\n",
       "      <th>IsHoliday</th>\n",
       "    </tr>\n",
       "  </thead>\n",
       "  <tbody>\n",
       "    <tr>\n",
       "      <th>N</th>\n",
       "      <td>421570</td>\n",
       "      <td>421570</td>\n",
       "      <td>421570</td>\n",
       "      <td>421570</td>\n",
       "      <td>421570</td>\n",
       "      <td>421570</td>\n",
       "      <td>421570</td>\n",
       "      <td>421570</td>\n",
       "    </tr>\n",
       "    <tr>\n",
       "      <th>NMISS</th>\n",
       "      <td>0</td>\n",
       "      <td>0</td>\n",
       "      <td>0</td>\n",
       "      <td>0</td>\n",
       "      <td>0</td>\n",
       "      <td>0</td>\n",
       "      <td>0</td>\n",
       "      <td>0</td>\n",
       "    </tr>\n",
       "    <tr>\n",
       "      <th>ColumnsNames</th>\n",
       "      <td>A    215478\n",
       "B    163495\n",
       "C     42597\n",
       "Name: Type...</td>\n",
       "      <td>13    10474\n",
       "10    10315\n",
       "4     10272\n",
       "1     1024...</td>\n",
       "      <td>1     6435\n",
       "10    6435\n",
       "38    6435\n",
       "21    6435\n",
       "67...</td>\n",
       "      <td>4     41332\n",
       "7     40980\n",
       "3     38451\n",
       "10    3836...</td>\n",
       "      <td>7     8929\n",
       "6     8895\n",
       "10    8892\n",
       "9     8892\n",
       "15...</td>\n",
       "      <td>3    117488\n",
       "2    114783\n",
       "1     97522\n",
       "4     9177...</td>\n",
       "      <td>2011    153453\n",
       "2010    140679\n",
       "2012    127438\n",
       "N...</td>\n",
       "      <td>0    383022\n",
       "1     38548\n",
       "Name: IsHoliday, dtype...</td>\n",
       "    </tr>\n",
       "  </tbody>\n",
       "</table>\n",
       "</div>"
      ],
      "text/plain": [
       "                                                           Type  \\\n",
       "N                                                        421570   \n",
       "NMISS                                                         0   \n",
       "ColumnsNames  A    215478\n",
       "B    163495\n",
       "C     42597\n",
       "Name: Type...   \n",
       "\n",
       "                                                          Store  \\\n",
       "N                                                        421570   \n",
       "NMISS                                                         0   \n",
       "ColumnsNames  13    10474\n",
       "10    10315\n",
       "4     10272\n",
       "1     1024...   \n",
       "\n",
       "                                                           Dept  \\\n",
       "N                                                        421570   \n",
       "NMISS                                                         0   \n",
       "ColumnsNames  1     6435\n",
       "10    6435\n",
       "38    6435\n",
       "21    6435\n",
       "67...   \n",
       "\n",
       "                                                          month  \\\n",
       "N                                                        421570   \n",
       "NMISS                                                         0   \n",
       "ColumnsNames  4     41332\n",
       "7     40980\n",
       "3     38451\n",
       "10    3836...   \n",
       "\n",
       "                                                           week  \\\n",
       "N                                                        421570   \n",
       "NMISS                                                         0   \n",
       "ColumnsNames  7     8929\n",
       "6     8895\n",
       "10    8892\n",
       "9     8892\n",
       "15...   \n",
       "\n",
       "                                                        quarter  \\\n",
       "N                                                        421570   \n",
       "NMISS                                                         0   \n",
       "ColumnsNames  3    117488\n",
       "2    114783\n",
       "1     97522\n",
       "4     9177...   \n",
       "\n",
       "                                                           year  \\\n",
       "N                                                        421570   \n",
       "NMISS                                                         0   \n",
       "ColumnsNames  2011    153453\n",
       "2010    140679\n",
       "2012    127438\n",
       "N...   \n",
       "\n",
       "                                                      IsHoliday  \n",
       "N                                                        421570  \n",
       "NMISS                                                         0  \n",
       "ColumnsNames  0    383022\n",
       "1     38548\n",
       "Name: IsHoliday, dtype...  "
      ]
     },
     "execution_count": 80,
     "metadata": {},
     "output_type": "execute_result"
    },
    {
     "name": "stdout",
     "output_type": "stream",
     "text": [
      "time: 266 ms\n"
     ]
    }
   ],
   "source": [
    "train_cat.apply(lambda x: cat_summary(x))"
   ]
  },
  {
   "cell_type": "code",
   "execution_count": 81,
   "metadata": {
    "colab": {
     "base_uri": "https://localhost:8080/",
     "height": 210
    },
    "colab_type": "code",
    "id": "fozuOZe6F-ZI",
    "outputId": "864eb69e-786e-477c-9ad6-0cd144d30c0b"
   },
   "outputs": [
    {
     "data": {
      "text/html": [
       "<div>\n",
       "<style scoped>\n",
       "    .dataframe tbody tr th:only-of-type {\n",
       "        vertical-align: middle;\n",
       "    }\n",
       "\n",
       "    .dataframe tbody tr th {\n",
       "        vertical-align: top;\n",
       "    }\n",
       "\n",
       "    .dataframe thead th {\n",
       "        text-align: right;\n",
       "    }\n",
       "</style>\n",
       "<table border=\"1\" class=\"dataframe\">\n",
       "  <thead>\n",
       "    <tr style=\"text-align: right;\">\n",
       "      <th></th>\n",
       "      <th>Type</th>\n",
       "      <th>Store</th>\n",
       "      <th>Dept</th>\n",
       "      <th>month</th>\n",
       "      <th>week</th>\n",
       "      <th>quarter</th>\n",
       "      <th>year</th>\n",
       "      <th>IsHoliday</th>\n",
       "    </tr>\n",
       "  </thead>\n",
       "  <tbody>\n",
       "    <tr>\n",
       "      <th>N</th>\n",
       "      <td>115064</td>\n",
       "      <td>115064</td>\n",
       "      <td>115064</td>\n",
       "      <td>115064</td>\n",
       "      <td>115064</td>\n",
       "      <td>115064</td>\n",
       "      <td>115064</td>\n",
       "      <td>115064</td>\n",
       "    </tr>\n",
       "    <tr>\n",
       "      <th>NMISS</th>\n",
       "      <td>0</td>\n",
       "      <td>0</td>\n",
       "      <td>0</td>\n",
       "      <td>0</td>\n",
       "      <td>0</td>\n",
       "      <td>0</td>\n",
       "      <td>0</td>\n",
       "      <td>0</td>\n",
       "    </tr>\n",
       "    <tr>\n",
       "      <th>ColumnsNames</th>\n",
       "      <td>A    58713\n",
       "B    44500\n",
       "C    11851\n",
       "Name: Type, d...</td>\n",
       "      <td>13    2836\n",
       "4     2803\n",
       "19    2799\n",
       "2     2797\n",
       "27...</td>\n",
       "      <td>1     1755\n",
       "13    1755\n",
       "91    1755\n",
       "90    1755\n",
       "21...</td>\n",
       "      <td>11    14824\n",
       "5     14726\n",
       "3     14677\n",
       "12    1196...</td>\n",
       "      <td>51    3002\n",
       "49    2989\n",
       "52    2988\n",
       "50    2986\n",
       "7 ...</td>\n",
       "      <td>1    38326\n",
       "2    38217\n",
       "4    26789\n",
       "3    11732\n",
       "Na...</td>\n",
       "      <td>2013    88275\n",
       "2012    26789\n",
       "Name: year, dtype:...</td>\n",
       "      <td>0    103196\n",
       "1     11868\n",
       "Name: IsHoliday, dtype...</td>\n",
       "    </tr>\n",
       "  </tbody>\n",
       "</table>\n",
       "</div>"
      ],
      "text/plain": [
       "                                                           Type  \\\n",
       "N                                                        115064   \n",
       "NMISS                                                         0   \n",
       "ColumnsNames  A    58713\n",
       "B    44500\n",
       "C    11851\n",
       "Name: Type, d...   \n",
       "\n",
       "                                                          Store  \\\n",
       "N                                                        115064   \n",
       "NMISS                                                         0   \n",
       "ColumnsNames  13    2836\n",
       "4     2803\n",
       "19    2799\n",
       "2     2797\n",
       "27...   \n",
       "\n",
       "                                                           Dept  \\\n",
       "N                                                        115064   \n",
       "NMISS                                                         0   \n",
       "ColumnsNames  1     1755\n",
       "13    1755\n",
       "91    1755\n",
       "90    1755\n",
       "21...   \n",
       "\n",
       "                                                          month  \\\n",
       "N                                                        115064   \n",
       "NMISS                                                         0   \n",
       "ColumnsNames  11    14824\n",
       "5     14726\n",
       "3     14677\n",
       "12    1196...   \n",
       "\n",
       "                                                           week  \\\n",
       "N                                                        115064   \n",
       "NMISS                                                         0   \n",
       "ColumnsNames  51    3002\n",
       "49    2989\n",
       "52    2988\n",
       "50    2986\n",
       "7 ...   \n",
       "\n",
       "                                                        quarter  \\\n",
       "N                                                        115064   \n",
       "NMISS                                                         0   \n",
       "ColumnsNames  1    38326\n",
       "2    38217\n",
       "4    26789\n",
       "3    11732\n",
       "Na...   \n",
       "\n",
       "                                                           year  \\\n",
       "N                                                        115064   \n",
       "NMISS                                                         0   \n",
       "ColumnsNames  2013    88275\n",
       "2012    26789\n",
       "Name: year, dtype:...   \n",
       "\n",
       "                                                      IsHoliday  \n",
       "N                                                        115064  \n",
       "NMISS                                                         0  \n",
       "ColumnsNames  0    103196\n",
       "1     11868\n",
       "Name: IsHoliday, dtype...  "
      ]
     },
     "execution_count": 81,
     "metadata": {},
     "output_type": "execute_result"
    },
    {
     "name": "stdout",
     "output_type": "stream",
     "text": [
      "time: 120 ms\n"
     ]
    }
   ],
   "source": [
    "test_cat.apply(lambda x: cat_summary(x))"
   ]
  },
  {
   "cell_type": "markdown",
   "metadata": {
    "colab_type": "text",
    "id": "lRVAELZeF-ZK"
   },
   "source": [
    "    Missing values are not present in train and test set for category"
   ]
  },
  {
   "cell_type": "markdown",
   "metadata": {
    "colab_type": "text",
    "id": "nAVy_1rrF-ZK"
   },
   "source": [
    "#### Creating dummy variables"
   ]
  },
  {
   "cell_type": "code",
   "execution_count": 82,
   "metadata": {
    "colab": {
     "base_uri": "https://localhost:8080/",
     "height": 291
    },
    "colab_type": "code",
    "id": "Ew0CowOU7RVs",
    "outputId": "5264a1df-f0eb-4cfd-aceb-43bce1c18278"
   },
   "outputs": [
    {
     "name": "stdout",
     "output_type": "stream",
     "text": [
      "<class 'pandas.core.frame.DataFrame'>\n",
      "Int64Index: 421570 entries, 0 to 421569\n",
      "Data columns (total 8 columns):\n",
      "Type         421570 non-null object\n",
      "Store        421570 non-null int64\n",
      "Dept         421570 non-null int64\n",
      "month        421570 non-null int64\n",
      "week         421570 non-null int64\n",
      "quarter      421570 non-null int64\n",
      "year         421570 non-null int64\n",
      "IsHoliday    421570 non-null int32\n",
      "dtypes: int32(1), int64(6), object(1)\n",
      "memory usage: 47.3+ MB\n",
      "time: 27.9 ms\n"
     ]
    }
   ],
   "source": [
    "train_cat.info()"
   ]
  },
  {
   "cell_type": "code",
   "execution_count": 83,
   "metadata": {
    "colab": {
     "base_uri": "https://localhost:8080/",
     "height": 34
    },
    "colab_type": "code",
    "id": "04SexDdpT2eU",
    "outputId": "cf60fbae-c993-4d70-ffdd-e233e5e09538"
   },
   "outputs": [
    {
     "name": "stdout",
     "output_type": "stream",
     "text": [
      "time: 563 ms\n"
     ]
    }
   ],
   "source": [
    "train_cat_dum = pd.get_dummies(train_cat,prefix = train_cat.columns, prefix_sep='_', columns = train_cat.columns)"
   ]
  },
  {
   "cell_type": "code",
   "execution_count": 84,
   "metadata": {
    "colab": {
     "base_uri": "https://localhost:8080/",
     "height": 120
    },
    "colab_type": "code",
    "id": "E6Y1I6bo73hX",
    "outputId": "5b8b0577-5448-4678-a96b-b113670ef009"
   },
   "outputs": [
    {
     "name": "stdout",
     "output_type": "stream",
     "text": [
      "<class 'pandas.core.frame.DataFrame'>\n",
      "Int64Index: 421570 entries, 0 to 421569\n",
      "Columns: 202 entries, Type_A to IsHoliday_1\n",
      "dtypes: uint8(202)\n",
      "memory usage: 104.4 MB\n",
      "time: 131 ms\n"
     ]
    }
   ],
   "source": [
    "train_cat_dum.info()"
   ]
  },
  {
   "cell_type": "code",
   "execution_count": 85,
   "metadata": {
    "colab": {
     "base_uri": "https://localhost:8080/",
     "height": 34
    },
    "colab_type": "code",
    "id": "PeVbSU_OT3N9",
    "outputId": "f86ec851-8a15-40e7-ad43-2f07263ae0df"
   },
   "outputs": [
    {
     "name": "stdout",
     "output_type": "stream",
     "text": [
      "time: 183 ms\n"
     ]
    }
   ],
   "source": [
    "test_cat_dum = pd.get_dummies(test_cat, prefix = test_cat.columns, prefix_sep='_', columns = test_cat.columns)"
   ]
  },
  {
   "cell_type": "code",
   "execution_count": 86,
   "metadata": {
    "colab": {
     "base_uri": "https://localhost:8080/",
     "height": 120
    },
    "colab_type": "code",
    "id": "N-6TzpW4F-ZP",
    "outputId": "a6d899e6-385b-4682-c31d-07399db9907b"
   },
   "outputs": [
    {
     "name": "stdout",
     "output_type": "stream",
     "text": [
      "<class 'pandas.core.frame.DataFrame'>\n",
      "Int64Index: 115064 entries, 0 to 115063\n",
      "Columns: 185 entries, Type_A to IsHoliday_1\n",
      "dtypes: uint8(185)\n",
      "memory usage: 21.2 MB\n",
      "time: 37.9 ms\n"
     ]
    }
   ],
   "source": [
    "test_cat_dum.info()"
   ]
  },
  {
   "cell_type": "code",
   "execution_count": 87,
   "metadata": {
    "colab": {
     "base_uri": "https://localhost:8080/",
     "height": 86
    },
    "colab_type": "code",
    "id": "Qogpqkvkm59q",
    "outputId": "c90dc3ef-fa98-420f-ae4b-a682079c4861"
   },
   "outputs": [
    {
     "data": {
      "text/plain": [
       "array(['month_10', 'month_8', 'month_9', 'week_31', 'week_32', 'week_33',\n",
       "       'week_34', 'week_35', 'week_36', 'week_37', 'week_38', 'week_39',\n",
       "       'week_40', 'week_41', 'week_42', 'week_43', 'year_2010',\n",
       "       'year_2011'], dtype=object)"
      ]
     },
     "execution_count": 87,
     "metadata": {},
     "output_type": "execute_result"
    },
    {
     "name": "stdout",
     "output_type": "stream",
     "text": [
      "time: 1.99 ms\n"
     ]
    }
   ],
   "source": [
    "train_cat_dum.columns.difference(test_cat_dum.columns.values).values"
   ]
  },
  {
   "cell_type": "code",
   "execution_count": 88,
   "metadata": {
    "colab": {
     "base_uri": "https://localhost:8080/",
     "height": 34
    },
    "colab_type": "code",
    "id": "_16Wf_K5pJH3",
    "outputId": "84be3d87-d5be-4dcd-ae18-045e36ef8094"
   },
   "outputs": [
    {
     "data": {
      "text/plain": [
       "array(['year_2013'], dtype=object)"
      ]
     },
     "execution_count": 88,
     "metadata": {},
     "output_type": "execute_result"
    },
    {
     "name": "stdout",
     "output_type": "stream",
     "text": [
      "time: 3.99 ms\n"
     ]
    }
   ],
   "source": [
    "test_cat_dum.columns.difference(train_cat_dum.columns.values).values"
   ]
  },
  {
   "cell_type": "code",
   "execution_count": 89,
   "metadata": {
    "colab": {
     "base_uri": "https://localhost:8080/",
     "height": 34
    },
    "colab_type": "code",
    "id": "Zumo7wkTjyvB",
    "outputId": "d0315e7a-16e0-4a8c-aca2-4bd15c48ac94"
   },
   "outputs": [
    {
     "name": "stdout",
     "output_type": "stream",
     "text": [
      "time: 14 ms\n"
     ]
    }
   ],
   "source": [
    "del train_cat_dum\n",
    "del test_cat_dum"
   ]
  },
  {
   "cell_type": "code",
   "execution_count": 90,
   "metadata": {
    "colab": {
     "base_uri": "https://localhost:8080/",
     "height": 34
    },
    "colab_type": "code",
    "id": "E-6Qmjq7UqoU",
    "outputId": "07856962-87d9-4072-a8c6-5dd23438b92a"
   },
   "outputs": [
    {
     "name": "stdout",
     "output_type": "stream",
     "text": [
      "time: 433 ms\n"
     ]
    }
   ],
   "source": [
    "train_cat_dum = pd.get_dummies(train_cat,prefix = train_cat.columns.difference(['IsHoliday','year','week','month']),prefix_sep='_', columns = train_cat.columns.difference(['IsHoliday','year','week','month']))"
   ]
  },
  {
   "cell_type": "code",
   "execution_count": 91,
   "metadata": {
    "colab": {
     "base_uri": "https://localhost:8080/",
     "height": 34
    },
    "colab_type": "code",
    "id": "jU8I8UJqUt4T",
    "outputId": "a0904356-5d70-4cb5-bf01-d484d21fa369"
   },
   "outputs": [
    {
     "name": "stdout",
     "output_type": "stream",
     "text": [
      "time: 118 ms\n"
     ]
    }
   ],
   "source": [
    "test_cat_dum = pd.get_dummies(test_cat,prefix = test_cat.columns.difference(['IsHoliday','year','week','month']),prefix_sep='_', columns = test_cat.columns.difference(['IsHoliday','year','week','month']))"
   ]
  },
  {
   "cell_type": "code",
   "execution_count": 92,
   "metadata": {
    "colab": {
     "base_uri": "https://localhost:8080/",
     "height": 34
    },
    "colab_type": "code",
    "id": "q-5i7GwWUv97",
    "outputId": "593761d1-e2fc-4dd0-972a-9e7ccd50b31d"
   },
   "outputs": [
    {
     "data": {
      "text/plain": [
       "array([], dtype=object)"
      ]
     },
     "execution_count": 92,
     "metadata": {},
     "output_type": "execute_result"
    },
    {
     "name": "stdout",
     "output_type": "stream",
     "text": [
      "time: 4.99 ms\n"
     ]
    }
   ],
   "source": [
    "train_cat_dum.columns.difference(test_cat_dum.columns.values).values"
   ]
  },
  {
   "cell_type": "code",
   "execution_count": 93,
   "metadata": {
    "colab": {
     "base_uri": "https://localhost:8080/",
     "height": 34
    },
    "colab_type": "code",
    "id": "MtnfRGlOUxTv",
    "outputId": "5d107fd9-849c-4b0e-bdda-fecc60317d58"
   },
   "outputs": [
    {
     "data": {
      "text/plain": [
       "array([], dtype=object)"
      ]
     },
     "execution_count": 93,
     "metadata": {},
     "output_type": "execute_result"
    },
    {
     "name": "stdout",
     "output_type": "stream",
     "text": [
      "time: 2.99 ms\n"
     ]
    }
   ],
   "source": [
    "test_cat_dum.columns.difference(train_cat_dum.columns.values).values"
   ]
  },
  {
   "cell_type": "markdown",
   "metadata": {
    "colab_type": "text",
    "id": "fn1RkFM0F-Za"
   },
   "source": [
    "### Combining datasets "
   ]
  },
  {
   "cell_type": "code",
   "execution_count": 94,
   "metadata": {
    "colab": {
     "base_uri": "https://localhost:8080/",
     "height": 34
    },
    "colab_type": "code",
    "id": "luEHL4LXF-Zf",
    "outputId": "46f51285-f556-4ca4-afcc-adfb766b943c"
   },
   "outputs": [
    {
     "name": "stdout",
     "output_type": "stream",
     "text": [
      "time: 164 ms\n"
     ]
    }
   ],
   "source": [
    "#Combining _num and _cat_dum\n",
    "train_combo_dum = pd.concat([train_num,train_cat_dum],axis=1,join='inner')\n",
    "test_combo_dum = pd.concat([test_num,test_cat_dum],axis=1,join='inner')"
   ]
  },
  {
   "cell_type": "code",
   "execution_count": 95,
   "metadata": {
    "colab": {
     "base_uri": "https://localhost:8080/",
     "height": 120
    },
    "colab_type": "code",
    "id": "1wIe8nC6F-Zh",
    "outputId": "b39c5696-8df3-4aef-ad15-7b2651d32038"
   },
   "outputs": [
    {
     "name": "stdout",
     "output_type": "stream",
     "text": [
      "<class 'pandas.core.frame.DataFrame'>\n",
      "Int64Index: 421570 entries, 0 to 421569\n",
      "Columns: 143 entries, CPI to quarter_4\n",
      "dtypes: float64(5), int32(1), int64(4), uint8(133)\n",
      "memory usage: 107.2 MB\n",
      "time: 49.9 ms\n"
     ]
    }
   ],
   "source": [
    "train_combo_dum.info()"
   ]
  },
  {
   "cell_type": "code",
   "execution_count": 96,
   "metadata": {
    "colab": {
     "base_uri": "https://localhost:8080/",
     "height": 120
    },
    "colab_type": "code",
    "id": "HLtprVFuF-Zi",
    "outputId": "4b086b94-fd53-4129-81ee-08ff1870643c"
   },
   "outputs": [
    {
     "name": "stdout",
     "output_type": "stream",
     "text": [
      "<class 'pandas.core.frame.DataFrame'>\n",
      "Int64Index: 115064 entries, 0 to 115063\n",
      "Columns: 142 entries, CPI to quarter_4\n",
      "dtypes: float64(4), int32(1), int64(4), uint8(133)\n",
      "memory usage: 22.9 MB\n",
      "time: 21.9 ms\n"
     ]
    }
   ],
   "source": [
    "test_combo_dum.info()"
   ]
  },
  {
   "cell_type": "code",
   "execution_count": 97,
   "metadata": {
    "colab": {
     "base_uri": "https://localhost:8080/",
     "height": 34
    },
    "colab_type": "code",
    "id": "RtijtoSWEv2a",
    "outputId": "51e2e07c-d858-41ca-b0b9-1ee026b65cbc"
   },
   "outputs": [
    {
     "data": {
      "text/plain": [
       "Index(['Weekly_Sales'], dtype='object')"
      ]
     },
     "execution_count": 97,
     "metadata": {},
     "output_type": "execute_result"
    },
    {
     "name": "stdout",
     "output_type": "stream",
     "text": [
      "time: 3.97 ms\n"
     ]
    }
   ],
   "source": [
    "train_combo_dum.columns.difference(test_combo_dum.columns)"
   ]
  },
  {
   "cell_type": "code",
   "execution_count": 98,
   "metadata": {
    "colab": {
     "base_uri": "https://localhost:8080/",
     "height": 34
    },
    "colab_type": "code",
    "id": "ypReoaJvE5z0",
    "outputId": "9d8199e9-3bfb-4e3b-feda-c9127ad0dea9"
   },
   "outputs": [
    {
     "data": {
      "text/plain": [
       "Index([], dtype='object')"
      ]
     },
     "execution_count": 98,
     "metadata": {},
     "output_type": "execute_result"
    },
    {
     "name": "stdout",
     "output_type": "stream",
     "text": [
      "time: 3.99 ms\n"
     ]
    }
   ],
   "source": [
    "test_combo_dum.columns.difference(train_combo_dum.columns)"
   ]
  },
  {
   "cell_type": "markdown",
   "metadata": {
    "colab_type": "text",
    "id": "maq6tgjEAlTs"
   },
   "source": [
    "### Correlation with target variable"
   ]
  },
  {
   "cell_type": "code",
   "execution_count": 99,
   "metadata": {
    "colab": {
     "base_uri": "https://localhost:8080/",
     "height": 454
    },
    "colab_type": "code",
    "id": "1D6bJbzPAsNb",
    "outputId": "f4cffb34-a677-44d7-c36b-25d43bdd421c"
   },
   "outputs": [
    {
     "data": {
      "text/html": [
       "<div>\n",
       "<style scoped>\n",
       "    .dataframe tbody tr th:only-of-type {\n",
       "        vertical-align: middle;\n",
       "    }\n",
       "\n",
       "    .dataframe tbody tr th {\n",
       "        vertical-align: top;\n",
       "    }\n",
       "\n",
       "    .dataframe thead th {\n",
       "        text-align: right;\n",
       "    }\n",
       "</style>\n",
       "<table border=\"1\" class=\"dataframe\">\n",
       "  <thead>\n",
       "    <tr style=\"text-align: right;\">\n",
       "      <th></th>\n",
       "      <th>Size</th>\n",
       "      <th>Weekly_Sales</th>\n",
       "      <th>Dept_2</th>\n",
       "      <th>Dept_4</th>\n",
       "      <th>Dept_5</th>\n",
       "      <th>Dept_7</th>\n",
       "      <th>Dept_8</th>\n",
       "      <th>Dept_13</th>\n",
       "      <th>Dept_23</th>\n",
       "      <th>Dept_38</th>\n",
       "      <th>...</th>\n",
       "      <th>Store_7</th>\n",
       "      <th>Store_9</th>\n",
       "      <th>Store_15</th>\n",
       "      <th>Store_16</th>\n",
       "      <th>Store_29</th>\n",
       "      <th>Store_33</th>\n",
       "      <th>Store_38</th>\n",
       "      <th>Store_44</th>\n",
       "      <th>Type_B</th>\n",
       "      <th>Type_C</th>\n",
       "    </tr>\n",
       "  </thead>\n",
       "  <tbody>\n",
       "    <tr>\n",
       "      <th>0</th>\n",
       "      <td>151315</td>\n",
       "      <td>24924.500</td>\n",
       "      <td>0</td>\n",
       "      <td>0</td>\n",
       "      <td>0</td>\n",
       "      <td>0</td>\n",
       "      <td>0</td>\n",
       "      <td>0</td>\n",
       "      <td>0</td>\n",
       "      <td>0</td>\n",
       "      <td>...</td>\n",
       "      <td>0</td>\n",
       "      <td>0</td>\n",
       "      <td>0</td>\n",
       "      <td>0</td>\n",
       "      <td>0</td>\n",
       "      <td>0</td>\n",
       "      <td>0</td>\n",
       "      <td>0</td>\n",
       "      <td>0</td>\n",
       "      <td>0</td>\n",
       "    </tr>\n",
       "    <tr>\n",
       "      <th>1</th>\n",
       "      <td>151315</td>\n",
       "      <td>42845.673</td>\n",
       "      <td>1</td>\n",
       "      <td>0</td>\n",
       "      <td>0</td>\n",
       "      <td>0</td>\n",
       "      <td>0</td>\n",
       "      <td>0</td>\n",
       "      <td>0</td>\n",
       "      <td>0</td>\n",
       "      <td>...</td>\n",
       "      <td>0</td>\n",
       "      <td>0</td>\n",
       "      <td>0</td>\n",
       "      <td>0</td>\n",
       "      <td>0</td>\n",
       "      <td>0</td>\n",
       "      <td>0</td>\n",
       "      <td>0</td>\n",
       "      <td>0</td>\n",
       "      <td>0</td>\n",
       "    </tr>\n",
       "    <tr>\n",
       "      <th>2</th>\n",
       "      <td>151315</td>\n",
       "      <td>13740.120</td>\n",
       "      <td>0</td>\n",
       "      <td>0</td>\n",
       "      <td>0</td>\n",
       "      <td>0</td>\n",
       "      <td>0</td>\n",
       "      <td>0</td>\n",
       "      <td>0</td>\n",
       "      <td>0</td>\n",
       "      <td>...</td>\n",
       "      <td>0</td>\n",
       "      <td>0</td>\n",
       "      <td>0</td>\n",
       "      <td>0</td>\n",
       "      <td>0</td>\n",
       "      <td>0</td>\n",
       "      <td>0</td>\n",
       "      <td>0</td>\n",
       "      <td>0</td>\n",
       "      <td>0</td>\n",
       "    </tr>\n",
       "    <tr>\n",
       "      <th>3</th>\n",
       "      <td>151315</td>\n",
       "      <td>39954.040</td>\n",
       "      <td>0</td>\n",
       "      <td>1</td>\n",
       "      <td>0</td>\n",
       "      <td>0</td>\n",
       "      <td>0</td>\n",
       "      <td>0</td>\n",
       "      <td>0</td>\n",
       "      <td>0</td>\n",
       "      <td>...</td>\n",
       "      <td>0</td>\n",
       "      <td>0</td>\n",
       "      <td>0</td>\n",
       "      <td>0</td>\n",
       "      <td>0</td>\n",
       "      <td>0</td>\n",
       "      <td>0</td>\n",
       "      <td>0</td>\n",
       "      <td>0</td>\n",
       "      <td>0</td>\n",
       "    </tr>\n",
       "    <tr>\n",
       "      <th>4</th>\n",
       "      <td>151315</td>\n",
       "      <td>32229.380</td>\n",
       "      <td>0</td>\n",
       "      <td>0</td>\n",
       "      <td>1</td>\n",
       "      <td>0</td>\n",
       "      <td>0</td>\n",
       "      <td>0</td>\n",
       "      <td>0</td>\n",
       "      <td>0</td>\n",
       "      <td>...</td>\n",
       "      <td>0</td>\n",
       "      <td>0</td>\n",
       "      <td>0</td>\n",
       "      <td>0</td>\n",
       "      <td>0</td>\n",
       "      <td>0</td>\n",
       "      <td>0</td>\n",
       "      <td>0</td>\n",
       "      <td>0</td>\n",
       "      <td>0</td>\n",
       "    </tr>\n",
       "    <tr>\n",
       "      <th>...</th>\n",
       "      <td>...</td>\n",
       "      <td>...</td>\n",
       "      <td>...</td>\n",
       "      <td>...</td>\n",
       "      <td>...</td>\n",
       "      <td>...</td>\n",
       "      <td>...</td>\n",
       "      <td>...</td>\n",
       "      <td>...</td>\n",
       "      <td>...</td>\n",
       "      <td>...</td>\n",
       "      <td>...</td>\n",
       "      <td>...</td>\n",
       "      <td>...</td>\n",
       "      <td>...</td>\n",
       "      <td>...</td>\n",
       "      <td>...</td>\n",
       "      <td>...</td>\n",
       "      <td>...</td>\n",
       "      <td>...</td>\n",
       "      <td>...</td>\n",
       "    </tr>\n",
       "    <tr>\n",
       "      <th>421565</th>\n",
       "      <td>118221</td>\n",
       "      <td>2487.800</td>\n",
       "      <td>0</td>\n",
       "      <td>0</td>\n",
       "      <td>0</td>\n",
       "      <td>0</td>\n",
       "      <td>0</td>\n",
       "      <td>0</td>\n",
       "      <td>0</td>\n",
       "      <td>0</td>\n",
       "      <td>...</td>\n",
       "      <td>0</td>\n",
       "      <td>0</td>\n",
       "      <td>0</td>\n",
       "      <td>0</td>\n",
       "      <td>0</td>\n",
       "      <td>0</td>\n",
       "      <td>0</td>\n",
       "      <td>0</td>\n",
       "      <td>1</td>\n",
       "      <td>0</td>\n",
       "    </tr>\n",
       "    <tr>\n",
       "      <th>421566</th>\n",
       "      <td>118221</td>\n",
       "      <td>5203.310</td>\n",
       "      <td>0</td>\n",
       "      <td>0</td>\n",
       "      <td>0</td>\n",
       "      <td>0</td>\n",
       "      <td>0</td>\n",
       "      <td>0</td>\n",
       "      <td>0</td>\n",
       "      <td>0</td>\n",
       "      <td>...</td>\n",
       "      <td>0</td>\n",
       "      <td>0</td>\n",
       "      <td>0</td>\n",
       "      <td>0</td>\n",
       "      <td>0</td>\n",
       "      <td>0</td>\n",
       "      <td>0</td>\n",
       "      <td>0</td>\n",
       "      <td>1</td>\n",
       "      <td>0</td>\n",
       "    </tr>\n",
       "    <tr>\n",
       "      <th>421567</th>\n",
       "      <td>118221</td>\n",
       "      <td>42845.673</td>\n",
       "      <td>0</td>\n",
       "      <td>0</td>\n",
       "      <td>0</td>\n",
       "      <td>0</td>\n",
       "      <td>0</td>\n",
       "      <td>0</td>\n",
       "      <td>0</td>\n",
       "      <td>0</td>\n",
       "      <td>...</td>\n",
       "      <td>0</td>\n",
       "      <td>0</td>\n",
       "      <td>0</td>\n",
       "      <td>0</td>\n",
       "      <td>0</td>\n",
       "      <td>0</td>\n",
       "      <td>0</td>\n",
       "      <td>0</td>\n",
       "      <td>1</td>\n",
       "      <td>0</td>\n",
       "    </tr>\n",
       "    <tr>\n",
       "      <th>421568</th>\n",
       "      <td>118221</td>\n",
       "      <td>6817.480</td>\n",
       "      <td>0</td>\n",
       "      <td>0</td>\n",
       "      <td>0</td>\n",
       "      <td>0</td>\n",
       "      <td>0</td>\n",
       "      <td>0</td>\n",
       "      <td>0</td>\n",
       "      <td>0</td>\n",
       "      <td>...</td>\n",
       "      <td>0</td>\n",
       "      <td>0</td>\n",
       "      <td>0</td>\n",
       "      <td>0</td>\n",
       "      <td>0</td>\n",
       "      <td>0</td>\n",
       "      <td>0</td>\n",
       "      <td>0</td>\n",
       "      <td>1</td>\n",
       "      <td>0</td>\n",
       "    </tr>\n",
       "    <tr>\n",
       "      <th>421569</th>\n",
       "      <td>118221</td>\n",
       "      <td>1076.800</td>\n",
       "      <td>0</td>\n",
       "      <td>0</td>\n",
       "      <td>0</td>\n",
       "      <td>0</td>\n",
       "      <td>0</td>\n",
       "      <td>0</td>\n",
       "      <td>0</td>\n",
       "      <td>0</td>\n",
       "      <td>...</td>\n",
       "      <td>0</td>\n",
       "      <td>0</td>\n",
       "      <td>0</td>\n",
       "      <td>0</td>\n",
       "      <td>0</td>\n",
       "      <td>0</td>\n",
       "      <td>0</td>\n",
       "      <td>0</td>\n",
       "      <td>1</td>\n",
       "      <td>0</td>\n",
       "    </tr>\n",
       "  </tbody>\n",
       "</table>\n",
       "<p>421570 rows × 74 columns</p>\n",
       "</div>"
      ],
      "text/plain": [
       "          Size  Weekly_Sales  Dept_2  Dept_4  Dept_5  Dept_7  Dept_8  Dept_13  \\\n",
       "0       151315     24924.500       0       0       0       0       0        0   \n",
       "1       151315     42845.673       1       0       0       0       0        0   \n",
       "2       151315     13740.120       0       0       0       0       0        0   \n",
       "3       151315     39954.040       0       1       0       0       0        0   \n",
       "4       151315     32229.380       0       0       1       0       0        0   \n",
       "...        ...           ...     ...     ...     ...     ...     ...      ...   \n",
       "421565  118221      2487.800       0       0       0       0       0        0   \n",
       "421566  118221      5203.310       0       0       0       0       0        0   \n",
       "421567  118221     42845.673       0       0       0       0       0        0   \n",
       "421568  118221      6817.480       0       0       0       0       0        0   \n",
       "421569  118221      1076.800       0       0       0       0       0        0   \n",
       "\n",
       "        Dept_23  Dept_38  ...  Store_7  Store_9  Store_15  Store_16  Store_29  \\\n",
       "0             0        0  ...        0        0         0         0         0   \n",
       "1             0        0  ...        0        0         0         0         0   \n",
       "2             0        0  ...        0        0         0         0         0   \n",
       "3             0        0  ...        0        0         0         0         0   \n",
       "4             0        0  ...        0        0         0         0         0   \n",
       "...         ...      ...  ...      ...      ...       ...       ...       ...   \n",
       "421565        0        0  ...        0        0         0         0         0   \n",
       "421566        0        0  ...        0        0         0         0         0   \n",
       "421567        0        0  ...        0        0         0         0         0   \n",
       "421568        0        0  ...        0        0         0         0         0   \n",
       "421569        0        0  ...        0        0         0         0         0   \n",
       "\n",
       "        Store_33  Store_38  Store_44  Type_B  Type_C  \n",
       "0              0         0         0       0       0  \n",
       "1              0         0         0       0       0  \n",
       "2              0         0         0       0       0  \n",
       "3              0         0         0       0       0  \n",
       "4              0         0         0       0       0  \n",
       "...          ...       ...       ...     ...     ...  \n",
       "421565         0         0         0       1       0  \n",
       "421566         0         0         0       1       0  \n",
       "421567         0         0         0       1       0  \n",
       "421568         0         0         0       1       0  \n",
       "421569         0         0         0       1       0  \n",
       "\n",
       "[421570 rows x 74 columns]"
      ]
     },
     "execution_count": 99,
     "metadata": {},
     "output_type": "execute_result"
    },
    {
     "name": "stdout",
     "output_type": "stream",
     "text": [
      "time: 21.9 s\n"
     ]
    }
   ],
   "source": [
    "#Columns having corr value with respect to target variable greater then 0.1 or less than -0.1 have been saved, rest were removed.\n",
    "cor = train_combo_dum.corr()\n",
    "cor = pd.DataFrame(cor['Weekly_Sales'])\n",
    "c1 = cor[cor['Weekly_Sales'] > 0.05]\n",
    "c2 = cor[cor['Weekly_Sales'] < -0.05]\n",
    "c3 = pd.concat([c1,c2],axis=0)\n",
    "c3.reset_index(inplace=True)\n",
    "c3.columns = ['col','value']\n",
    "cor_df = train_combo_dum[c3.col]\n",
    "cor_df"
   ]
  },
  {
   "cell_type": "code",
   "execution_count": 100,
   "metadata": {
    "colab": {
     "base_uri": "https://localhost:8080/",
     "height": 257
    },
    "colab_type": "code",
    "id": "oAHhasgTBFwn",
    "outputId": "a84fb881-1ee1-43f6-8519-f6a1aff9e8cd"
   },
   "outputs": [
    {
     "data": {
      "text/plain": [
       "Index(['Size', 'Weekly_Sales', 'Dept_2', 'Dept_4', 'Dept_5', 'Dept_7',\n",
       "       'Dept_8', 'Dept_13', 'Dept_23', 'Dept_38', 'Dept_40', 'Dept_46',\n",
       "       'Dept_72', 'Dept_79', 'Dept_90', 'Dept_91', 'Dept_92', 'Dept_93',\n",
       "       'Dept_94', 'Dept_95', 'Store_2', 'Store_4', 'Store_6', 'Store_10',\n",
       "       'Store_13', 'Store_14', 'Store_20', 'Store_27', 'Type_A', 'Dept_6',\n",
       "       'Dept_12', 'Dept_19', 'Dept_20', 'Dept_21', 'Dept_24', 'Dept_27',\n",
       "       'Dept_28', 'Dept_29', 'Dept_30', 'Dept_31', 'Dept_32', 'Dept_33',\n",
       "       'Dept_35', 'Dept_36', 'Dept_37', 'Dept_41', 'Dept_42', 'Dept_44',\n",
       "       'Dept_45', 'Dept_48', 'Dept_51', 'Dept_52', 'Dept_54', 'Dept_56',\n",
       "       'Dept_58', 'Dept_59', 'Dept_60', 'Dept_67', 'Dept_71', 'Dept_83',\n",
       "       'Dept_85', 'Dept_98', 'Store_3', 'Store_5', 'Store_7', 'Store_9',\n",
       "       'Store_15', 'Store_16', 'Store_29', 'Store_33', 'Store_38', 'Store_44',\n",
       "       'Type_B', 'Type_C'],\n",
       "      dtype='object')"
      ]
     },
     "execution_count": 100,
     "metadata": {},
     "output_type": "execute_result"
    },
    {
     "name": "stdout",
     "output_type": "stream",
     "text": [
      "time: 2.99 ms\n"
     ]
    }
   ],
   "source": [
    "cor_df.columns"
   ]
  },
  {
   "cell_type": "code",
   "execution_count": 101,
   "metadata": {
    "colab": {
     "base_uri": "https://localhost:8080/",
     "height": 34
    },
    "colab_type": "code",
    "id": "gLRwaktgAskV",
    "outputId": "c756bf2c-606b-4e5d-c44d-cac40083c676"
   },
   "outputs": [
    {
     "name": "stdout",
     "output_type": "stream",
     "text": [
      "time: 62.9 ms\n"
     ]
    }
   ],
   "source": [
    "train_combo_dum = train_combo_dum[cor_df.columns]"
   ]
  },
  {
   "cell_type": "code",
   "execution_count": 102,
   "metadata": {
    "colab": {
     "base_uri": "https://localhost:8080/",
     "height": 34
    },
    "colab_type": "code",
    "id": "1QV6thzJAsx8",
    "outputId": "85d14927-a94f-4d7f-c2eb-df0c3906f0b2"
   },
   "outputs": [
    {
     "name": "stdout",
     "output_type": "stream",
     "text": [
      "time: 28.9 ms\n"
     ]
    }
   ],
   "source": [
    "test_combo_dum = test_combo_dum[cor_df.columns.difference(['Weekly_Sales'])]"
   ]
  },
  {
   "cell_type": "markdown",
   "metadata": {
    "colab_type": "text",
    "id": "PdireEcVF-Zq"
   },
   "source": [
    "## Multicollinearty"
   ]
  },
  {
   "cell_type": "code",
   "execution_count": 103,
   "metadata": {
    "colab": {
     "base_uri": "https://localhost:8080/",
     "height": 434
    },
    "colab_type": "code",
    "id": "KOQDS-R06W7b",
    "outputId": "c43d0b1f-3856-4193-8bec-3ece051d659d"
   },
   "outputs": [
    {
     "data": {
      "text/html": [
       "<div>\n",
       "<style scoped>\n",
       "    .dataframe tbody tr th:only-of-type {\n",
       "        vertical-align: middle;\n",
       "    }\n",
       "\n",
       "    .dataframe tbody tr th {\n",
       "        vertical-align: top;\n",
       "    }\n",
       "\n",
       "    .dataframe thead th {\n",
       "        text-align: right;\n",
       "    }\n",
       "</style>\n",
       "<table border=\"1\" class=\"dataframe\">\n",
       "  <thead>\n",
       "    <tr style=\"text-align: right;\">\n",
       "      <th></th>\n",
       "      <th>VIF Factor</th>\n",
       "      <th>features</th>\n",
       "    </tr>\n",
       "  </thead>\n",
       "  <tbody>\n",
       "    <tr>\n",
       "      <th>0</th>\n",
       "      <td>20.372746</td>\n",
       "      <td>Intercept</td>\n",
       "    </tr>\n",
       "    <tr>\n",
       "      <th>52</th>\n",
       "      <td>2.444199</td>\n",
       "      <td>Size</td>\n",
       "    </tr>\n",
       "    <tr>\n",
       "      <th>71</th>\n",
       "      <td>1.974413</td>\n",
       "      <td>Type_B</td>\n",
       "    </tr>\n",
       "    <tr>\n",
       "      <th>64</th>\n",
       "      <td>1.174012</td>\n",
       "      <td>Store_38</td>\n",
       "    </tr>\n",
       "    <tr>\n",
       "      <th>66</th>\n",
       "      <td>1.169565</td>\n",
       "      <td>Store_44</td>\n",
       "    </tr>\n",
       "    <tr>\n",
       "      <th>...</th>\n",
       "      <td>...</td>\n",
       "      <td>...</td>\n",
       "    </tr>\n",
       "    <tr>\n",
       "      <th>3</th>\n",
       "      <td>1.022556</td>\n",
       "      <td>Dept_19</td>\n",
       "    </tr>\n",
       "    <tr>\n",
       "      <th>18</th>\n",
       "      <td>1.018457</td>\n",
       "      <td>Dept_37</td>\n",
       "    </tr>\n",
       "    <tr>\n",
       "      <th>27</th>\n",
       "      <td>1.013107</td>\n",
       "      <td>Dept_48</td>\n",
       "    </tr>\n",
       "    <tr>\n",
       "      <th>25</th>\n",
       "      <td>1.011027</td>\n",
       "      <td>Dept_45</td>\n",
       "    </tr>\n",
       "    <tr>\n",
       "      <th>29</th>\n",
       "      <td>1.008412</td>\n",
       "      <td>Dept_51</td>\n",
       "    </tr>\n",
       "  </tbody>\n",
       "</table>\n",
       "<p>72 rows × 2 columns</p>\n",
       "</div>"
      ],
      "text/plain": [
       "    VIF Factor   features\n",
       "0    20.372746  Intercept\n",
       "52    2.444199       Size\n",
       "71    1.974413     Type_B\n",
       "64    1.174012   Store_38\n",
       "66    1.169565   Store_44\n",
       "..         ...        ...\n",
       "3     1.022556    Dept_19\n",
       "18    1.018457    Dept_37\n",
       "27    1.013107    Dept_48\n",
       "25    1.011027    Dept_45\n",
       "29    1.008412    Dept_51\n",
       "\n",
       "[72 rows x 2 columns]"
      ]
     },
     "execution_count": 103,
     "metadata": {},
     "output_type": "execute_result"
    },
    {
     "name": "stdout",
     "output_type": "stream",
     "text": [
      "time: 3min 22s\n"
     ]
    }
   ],
   "source": [
    "from patsy import dmatrices\n",
    "features = \"+\".join(train_combo_dum.columns.difference(['Type_C','Type_A','Weekly_Sales']))\n",
    "# get y and X dataframes based on this regression:\n",
    "y, X = dmatrices('Weekly_Sales ~' + features, train_combo_dum, return_type='dataframe')\n",
    "vif = pd.DataFrame()\n",
    "vif[\"VIF Factor\"] = [variance_inflation_factor(X.values, i) for i in range(X.shape[1])]\n",
    "vif[\"features\"] = X.columns\n",
    "vif.sort_values(by='VIF Factor',ascending=False)"
   ]
  },
  {
   "cell_type": "code",
   "execution_count": 104,
   "metadata": {
    "colab": {
     "base_uri": "https://localhost:8080/",
     "height": 34
    },
    "colab_type": "code",
    "id": "xnkuwswlq8O0",
    "outputId": "fdd6f350-2e16-445a-d687-edef8a97fcda"
   },
   "outputs": [
    {
     "name": "stdout",
     "output_type": "stream",
     "text": [
      "time: 76.8 ms\n"
     ]
    }
   ],
   "source": [
    "train_combo_dum_vif = train_combo_dum[train_combo_dum.columns.difference(['Type_C','Type_A'])] "
   ]
  },
  {
   "cell_type": "code",
   "execution_count": 105,
   "metadata": {
    "colab": {
     "base_uri": "https://localhost:8080/",
     "height": 34
    },
    "colab_type": "code",
    "id": "PHvpDb30q8xF",
    "outputId": "6458529c-7f13-4e57-8ba9-e6ce3807118a"
   },
   "outputs": [
    {
     "name": "stdout",
     "output_type": "stream",
     "text": [
      "time: 20.9 ms\n"
     ]
    }
   ],
   "source": [
    "test_combo_dum_vif = test_combo_dum[test_combo_dum.columns.difference(['Type_C','Type_A'])]"
   ]
  },
  {
   "cell_type": "markdown",
   "metadata": {
    "colab_type": "text",
    "id": "M4AunxvnF-Zj"
   },
   "source": [
    "## Splitting data into train and test "
   ]
  },
  {
   "cell_type": "code",
   "execution_count": 106,
   "metadata": {
    "colab": {
     "base_uri": "https://localhost:8080/",
     "height": 34
    },
    "colab_type": "code",
    "id": "nhBsTcotF-Zk",
    "outputId": "14a0fec8-ed7e-4610-abca-b9425cd48ba4"
   },
   "outputs": [
    {
     "name": "stdout",
     "output_type": "stream",
     "text": [
      "time: 1e+03 µs\n"
     ]
    }
   ],
   "source": [
    "def split(data):\n",
    "    features_log = data.columns.difference(['Weekly_Sales'])\n",
    "    feat_log = data[features_log]\n",
    "    pre_log = data['Weekly_Sales']\n",
    "    return feat_log, pre_log"
   ]
  },
  {
   "cell_type": "code",
   "execution_count": 107,
   "metadata": {
    "colab": {
     "base_uri": "https://localhost:8080/",
     "height": 34
    },
    "colab_type": "code",
    "id": "rOqmktLwrgXp",
    "outputId": "eb4aae9c-b5f8-40cd-8a3c-35fdcf72c9c1"
   },
   "outputs": [
    {
     "name": "stdout",
     "output_type": "stream",
     "text": [
      "time: 64.8 ms\n"
     ]
    }
   ],
   "source": [
    "train_x_dum,train_y_dum = split(train_combo_dum_vif)\n",
    "test_x_dum = test_combo_dum_vif"
   ]
  },
  {
   "cell_type": "code",
   "execution_count": 108,
   "metadata": {
    "colab": {
     "base_uri": "https://localhost:8080/",
     "height": 1000
    },
    "colab_type": "code",
    "id": "MgOnXi9lrgmA",
    "outputId": "24a11823-8d64-4e3a-a2fd-a9841a0ba39c"
   },
   "outputs": [
    {
     "name": "stdout",
     "output_type": "stream",
     "text": [
      "<class 'pandas.core.frame.DataFrame'>\n",
      "Int64Index: 421570 entries, 0 to 421569\n",
      "Data columns (total 71 columns):\n",
      "Dept_12     421570 non-null uint8\n",
      "Dept_13     421570 non-null uint8\n",
      "Dept_19     421570 non-null uint8\n",
      "Dept_2      421570 non-null uint8\n",
      "Dept_20     421570 non-null uint8\n",
      "Dept_21     421570 non-null uint8\n",
      "Dept_23     421570 non-null uint8\n",
      "Dept_24     421570 non-null uint8\n",
      "Dept_27     421570 non-null uint8\n",
      "Dept_28     421570 non-null uint8\n",
      "Dept_29     421570 non-null uint8\n",
      "Dept_30     421570 non-null uint8\n",
      "Dept_31     421570 non-null uint8\n",
      "Dept_32     421570 non-null uint8\n",
      "Dept_33     421570 non-null uint8\n",
      "Dept_35     421570 non-null uint8\n",
      "Dept_36     421570 non-null uint8\n",
      "Dept_37     421570 non-null uint8\n",
      "Dept_38     421570 non-null uint8\n",
      "Dept_4      421570 non-null uint8\n",
      "Dept_40     421570 non-null uint8\n",
      "Dept_41     421570 non-null uint8\n",
      "Dept_42     421570 non-null uint8\n",
      "Dept_44     421570 non-null uint8\n",
      "Dept_45     421570 non-null uint8\n",
      "Dept_46     421570 non-null uint8\n",
      "Dept_48     421570 non-null uint8\n",
      "Dept_5      421570 non-null uint8\n",
      "Dept_51     421570 non-null uint8\n",
      "Dept_52     421570 non-null uint8\n",
      "Dept_54     421570 non-null uint8\n",
      "Dept_56     421570 non-null uint8\n",
      "Dept_58     421570 non-null uint8\n",
      "Dept_59     421570 non-null uint8\n",
      "Dept_6      421570 non-null uint8\n",
      "Dept_60     421570 non-null uint8\n",
      "Dept_67     421570 non-null uint8\n",
      "Dept_7      421570 non-null uint8\n",
      "Dept_71     421570 non-null uint8\n",
      "Dept_72     421570 non-null uint8\n",
      "Dept_79     421570 non-null uint8\n",
      "Dept_8      421570 non-null uint8\n",
      "Dept_83     421570 non-null uint8\n",
      "Dept_85     421570 non-null uint8\n",
      "Dept_90     421570 non-null uint8\n",
      "Dept_91     421570 non-null uint8\n",
      "Dept_92     421570 non-null uint8\n",
      "Dept_93     421570 non-null uint8\n",
      "Dept_94     421570 non-null uint8\n",
      "Dept_95     421570 non-null uint8\n",
      "Dept_98     421570 non-null uint8\n",
      "Size        421570 non-null int64\n",
      "Store_10    421570 non-null uint8\n",
      "Store_13    421570 non-null uint8\n",
      "Store_14    421570 non-null uint8\n",
      "Store_15    421570 non-null uint8\n",
      "Store_16    421570 non-null uint8\n",
      "Store_2     421570 non-null uint8\n",
      "Store_20    421570 non-null uint8\n",
      "Store_27    421570 non-null uint8\n",
      "Store_29    421570 non-null uint8\n",
      "Store_3     421570 non-null uint8\n",
      "Store_33    421570 non-null uint8\n",
      "Store_38    421570 non-null uint8\n",
      "Store_4     421570 non-null uint8\n",
      "Store_44    421570 non-null uint8\n",
      "Store_5     421570 non-null uint8\n",
      "Store_6     421570 non-null uint8\n",
      "Store_7     421570 non-null uint8\n",
      "Store_9     421570 non-null uint8\n",
      "Type_B      421570 non-null uint8\n",
      "dtypes: int64(1), uint8(70)\n",
      "memory usage: 54.6 MB\n",
      "time: 143 ms\n"
     ]
    }
   ],
   "source": [
    "train_x_dum.info()"
   ]
  },
  {
   "cell_type": "code",
   "execution_count": 109,
   "metadata": {
    "colab": {
     "base_uri": "https://localhost:8080/",
     "height": 223
    },
    "colab_type": "code",
    "id": "e99Vscm9csb2",
    "outputId": "3721ea37-1de8-4dac-f72e-336e646d9a2b"
   },
   "outputs": [
    {
     "data": {
      "text/plain": [
       "0         24924.500\n",
       "1         42845.673\n",
       "2         13740.120\n",
       "3         39954.040\n",
       "4         32229.380\n",
       "            ...    \n",
       "421565     2487.800\n",
       "421566     5203.310\n",
       "421567    42845.673\n",
       "421568     6817.480\n",
       "421569     1076.800\n",
       "Name: Weekly_Sales, Length: 421570, dtype: float64"
      ]
     },
     "execution_count": 109,
     "metadata": {},
     "output_type": "execute_result"
    },
    {
     "name": "stdout",
     "output_type": "stream",
     "text": [
      "time: 4.98 ms\n"
     ]
    }
   ],
   "source": [
    "train_y_dum"
   ]
  },
  {
   "cell_type": "code",
   "execution_count": 110,
   "metadata": {
    "colab": {
     "base_uri": "https://localhost:8080/",
     "height": 1000
    },
    "colab_type": "code",
    "id": "ADBmwbpnrjE8",
    "outputId": "38ac8b44-c31f-4190-e08c-21b74198f59c"
   },
   "outputs": [
    {
     "name": "stdout",
     "output_type": "stream",
     "text": [
      "<class 'pandas.core.frame.DataFrame'>\n",
      "Int64Index: 115064 entries, 0 to 115063\n",
      "Data columns (total 71 columns):\n",
      "Dept_12     115064 non-null uint8\n",
      "Dept_13     115064 non-null uint8\n",
      "Dept_19     115064 non-null uint8\n",
      "Dept_2      115064 non-null uint8\n",
      "Dept_20     115064 non-null uint8\n",
      "Dept_21     115064 non-null uint8\n",
      "Dept_23     115064 non-null uint8\n",
      "Dept_24     115064 non-null uint8\n",
      "Dept_27     115064 non-null uint8\n",
      "Dept_28     115064 non-null uint8\n",
      "Dept_29     115064 non-null uint8\n",
      "Dept_30     115064 non-null uint8\n",
      "Dept_31     115064 non-null uint8\n",
      "Dept_32     115064 non-null uint8\n",
      "Dept_33     115064 non-null uint8\n",
      "Dept_35     115064 non-null uint8\n",
      "Dept_36     115064 non-null uint8\n",
      "Dept_37     115064 non-null uint8\n",
      "Dept_38     115064 non-null uint8\n",
      "Dept_4      115064 non-null uint8\n",
      "Dept_40     115064 non-null uint8\n",
      "Dept_41     115064 non-null uint8\n",
      "Dept_42     115064 non-null uint8\n",
      "Dept_44     115064 non-null uint8\n",
      "Dept_45     115064 non-null uint8\n",
      "Dept_46     115064 non-null uint8\n",
      "Dept_48     115064 non-null uint8\n",
      "Dept_5      115064 non-null uint8\n",
      "Dept_51     115064 non-null uint8\n",
      "Dept_52     115064 non-null uint8\n",
      "Dept_54     115064 non-null uint8\n",
      "Dept_56     115064 non-null uint8\n",
      "Dept_58     115064 non-null uint8\n",
      "Dept_59     115064 non-null uint8\n",
      "Dept_6      115064 non-null uint8\n",
      "Dept_60     115064 non-null uint8\n",
      "Dept_67     115064 non-null uint8\n",
      "Dept_7      115064 non-null uint8\n",
      "Dept_71     115064 non-null uint8\n",
      "Dept_72     115064 non-null uint8\n",
      "Dept_79     115064 non-null uint8\n",
      "Dept_8      115064 non-null uint8\n",
      "Dept_83     115064 non-null uint8\n",
      "Dept_85     115064 non-null uint8\n",
      "Dept_90     115064 non-null uint8\n",
      "Dept_91     115064 non-null uint8\n",
      "Dept_92     115064 non-null uint8\n",
      "Dept_93     115064 non-null uint8\n",
      "Dept_94     115064 non-null uint8\n",
      "Dept_95     115064 non-null uint8\n",
      "Dept_98     115064 non-null uint8\n",
      "Size        115064 non-null int64\n",
      "Store_10    115064 non-null uint8\n",
      "Store_13    115064 non-null uint8\n",
      "Store_14    115064 non-null uint8\n",
      "Store_15    115064 non-null uint8\n",
      "Store_16    115064 non-null uint8\n",
      "Store_2     115064 non-null uint8\n",
      "Store_20    115064 non-null uint8\n",
      "Store_27    115064 non-null uint8\n",
      "Store_29    115064 non-null uint8\n",
      "Store_3     115064 non-null uint8\n",
      "Store_33    115064 non-null uint8\n",
      "Store_38    115064 non-null uint8\n",
      "Store_4     115064 non-null uint8\n",
      "Store_44    115064 non-null uint8\n",
      "Store_5     115064 non-null uint8\n",
      "Store_6     115064 non-null uint8\n",
      "Store_7     115064 non-null uint8\n",
      "Store_9     115064 non-null uint8\n",
      "Type_B      115064 non-null uint8\n",
      "dtypes: int64(1), uint8(70)\n",
      "memory usage: 9.4 MB\n",
      "time: 39.9 ms\n"
     ]
    }
   ],
   "source": [
    "test_x_dum.info()"
   ]
  },
  {
   "cell_type": "markdown",
   "metadata": {
    "colab_type": "text",
    "id": "elZRT7a1F-Z0"
   },
   "source": [
    "## Model build and evaluation"
   ]
  },
  {
   "cell_type": "code",
   "execution_count": 111,
   "metadata": {
    "colab": {
     "base_uri": "https://localhost:8080/",
     "height": 34
    },
    "colab_type": "code",
    "id": "iQKFBWV_F-Z1",
    "outputId": "c45210e4-5d50-4e3a-fa2f-833d664dfd09"
   },
   "outputs": [
    {
     "name": "stdout",
     "output_type": "stream",
     "text": [
      "time: 4.99 ms\n"
     ]
    }
   ],
   "source": [
    "# Function to build OLS, check summary and visualize any residual outliers using Cooks's distance\n",
    "# def model_ols(model,x,y):\n",
    "#     #splitting data in to train and test\n",
    "#     train_x, test_x, train_y, test_y = train_test_split(x, y, test_size = 0.3, random_state = 123)\n",
    "#     #adding constant to independent train and test sets\n",
    "#     train_x=sm.add_constant(train_x)\n",
    "#     test_x=sm.add_constant(test_x)\n",
    "#     #Fitting model\n",
    "#     mod = ols(train_y,train_x).fit()\n",
    "#     print(mod.summary())\n",
    "#     #Storing summary frame\n",
    "#     o = (mod.get_influence()).summary_frame()\n",
    "#     #Plotting a scatter plot for standardized residuals and Cooks distance\n",
    "#     plt.figure(figsize=(8,5))\n",
    "#     plt.scatter(o.standard_resid,o.cooks_d)\n",
    "#     print(plt.show())\n",
    "#     return o\n",
    "\n",
    "# Function to build and evaluate other models\n",
    "def model_build_cum_evaluation(model,x,y):\n",
    "    #Splitting data in to train and test\n",
    "    train_x, test_x, train_y , test_y = train_test_split(x, y, test_size = 0.3, random_state = 123)\n",
    "    #Fitting model\n",
    "    model.fit(train_x,train_y)\n",
    "    #Predicting values for train_x and test_x\n",
    "    model_check = model.predict(train_x)\n",
    "    model_pred = model.predict(test_x)\n",
    "    \n",
    "    #Printing error metrices, r2 score and also cross validating the model.\n",
    "    print ('MAE train:', metrics.mean_absolute_error(train_y, model_check))\n",
    "    print ('MAE test:', metrics.mean_absolute_error(test_y, model_pred))\n",
    "    print ('MSE train:', metrics.mean_squared_error(train_y, model_check))\n",
    "    print ('MSE test:', metrics.mean_squared_error(test_y, model_pred))\n",
    "    print ('R2 train: ', metrics.r2_score(train_y, model_check))\n",
    "    print ('R2 test: ', metrics.r2_score(test_y, model_pred))\n",
    "    print ('Cross_val R2:',cross_val_score(model, x, y,n_jobs=-1,cv=None,scoring='r2').mean()*100)\n",
    "    \n",
    "def eval(model):\n",
    "    print('Score')\n",
    "    model_build_cum_evaluation(model,train_x_dum, train_y_dum)"
   ]
  },
  {
   "cell_type": "markdown",
   "metadata": {
    "colab_type": "text",
    "id": "6szavlbf87_Z"
   },
   "source": [
    "#### Linear Regression"
   ]
  },
  {
   "cell_type": "code",
   "execution_count": 112,
   "metadata": {
    "colab": {
     "base_uri": "https://localhost:8080/",
     "height": 171
    },
    "colab_type": "code",
    "id": "eTr6HtZJTLvh",
    "outputId": "b953606b-fa36-417c-9ce1-84e1db72b6a7"
   },
   "outputs": [
    {
     "name": "stdout",
     "output_type": "stream",
     "text": [
      "Score\n",
      "MAE train: 5699.703494225493\n",
      "MAE test: 5709.292703076251\n",
      "MSE train: 60062204.89609171\n",
      "MSE test: 60110059.62222774\n",
      "R2 train:  0.6922240659549401\n",
      "R2 test:  0.6923231897110596\n",
      "Cross_val R2: 63.817802552438195\n",
      "time: 10.5 s\n"
     ]
    }
   ],
   "source": [
    "lr = LinearRegression(n_jobs=-1)\n",
    "\n",
    "eval(lr)"
   ]
  },
  {
   "cell_type": "markdown",
   "metadata": {
    "colab_type": "text",
    "id": "qmQJF73E9If8"
   },
   "source": [
    "#### Random_Forest"
   ]
  },
  {
   "cell_type": "code",
   "execution_count": 113,
   "metadata": {
    "colab": {
     "base_uri": "https://localhost:8080/",
     "height": 171
    },
    "colab_type": "code",
    "id": "Jk4YLkqRTLoB",
    "outputId": "6e2be362-7bf4-4216-f501-4da485dc83e7"
   },
   "outputs": [
    {
     "name": "stdout",
     "output_type": "stream",
     "text": [
      "Score\n",
      "MAE train: 2969.043555694718\n",
      "MAE test: 2979.593765054047\n",
      "MSE train: 28287050.43709757\n",
      "MSE test: 28372151.25598137\n",
      "R2 train:  0.8550490548137714\n",
      "R2 test:  0.8547755058914017\n",
      "Cross_val R2: 69.15021380907267\n",
      "time: 11min 9s\n"
     ]
    }
   ],
   "source": [
    "random_forest = RandomForestRegressor(n_jobs=-1)\n",
    "\n",
    "eval(random_forest)"
   ]
  },
  {
   "cell_type": "markdown",
   "metadata": {
    "colab_type": "text",
    "id": "ABmYi-CY9O8L"
   },
   "source": [
    "#### Gradient Boosting Regressor"
   ]
  },
  {
   "cell_type": "code",
   "execution_count": 114,
   "metadata": {
    "colab": {
     "base_uri": "https://localhost:8080/",
     "height": 171
    },
    "colab_type": "code",
    "id": "ehIFo34KTLlA",
    "outputId": "2119e83a-b5ef-45da-db2d-d008307ca361"
   },
   "outputs": [
    {
     "name": "stdout",
     "output_type": "stream",
     "text": [
      "Score\n",
      "MAE train: 6620.5285574408\n",
      "MAE test: 6612.049775145528\n",
      "MSE train: 69443158.04855715\n",
      "MSE test: 69039164.03780134\n",
      "R2 train:  0.6441533761804316\n",
      "R2 test:  0.6466190532888645\n",
      "Cross_val R2: 60.09750312144023\n",
      "time: 4min 11s\n"
     ]
    }
   ],
   "source": [
    "gradient_boosted = GradientBoostingRegressor()\n",
    "\n",
    "eval(gradient_boosted)"
   ]
  },
  {
   "cell_type": "markdown",
   "metadata": {
    "colab_type": "text",
    "id": "HTSf1_TW9T8q"
   },
   "source": [
    "#### Lasso Regressor"
   ]
  },
  {
   "cell_type": "code",
   "execution_count": 115,
   "metadata": {
    "colab": {
     "base_uri": "https://localhost:8080/",
     "height": 226
    },
    "colab_type": "code",
    "id": "fTJ23UtoTLi_",
    "outputId": "35f6dea7-0eb4-4923-fc87-711ec98a8fca"
   },
   "outputs": [
    {
     "name": "stdout",
     "output_type": "stream",
     "text": [
      "Score\n",
      "MAE train: 5701.053855939147\n",
      "MAE test: 5710.559328217237\n",
      "MSE train: 60068941.72567479\n",
      "MSE test: 60116349.312445804\n",
      "R2 train:  0.692189544511363\n",
      "R2 test:  0.692290995568579\n",
      "Cross_val R2: 63.867115869803506\n",
      "time: 27.4 s\n"
     ]
    }
   ],
   "source": [
    "ls = Lasso()\n",
    "\n",
    "eval(ls)"
   ]
  },
  {
   "cell_type": "markdown",
   "metadata": {
    "colab_type": "text",
    "id": "le8palRf9XaN"
   },
   "source": [
    "#### K-Neighbors Regressor"
   ]
  },
  {
   "cell_type": "code",
   "execution_count": 116,
   "metadata": {
    "colab": {
     "base_uri": "https://localhost:8080/",
     "height": 171
    },
    "colab_type": "code",
    "id": "UepylQWDTLf_",
    "outputId": "0b57d5c7-49b9-413c-eb07-20d2a311f29c"
   },
   "outputs": [
    {
     "name": "stdout",
     "output_type": "stream",
     "text": [
      "Score\n",
      "MAE train: 3232.3108524068666\n",
      "MAE test: 3244.130206241304\n",
      "MSE train: 33220221.82240863\n",
      "MSE test: 33476937.662645828\n",
      "R2 train:  0.8297700722398687\n",
      "R2 test:  0.8286463619730672\n",
      "Cross_val R2: 62.107750475639776\n",
      "time: 12min 46s\n"
     ]
    }
   ],
   "source": [
    "knn = KNeighborsRegressor(n_jobs=-1)\n",
    "\n",
    "eval(knn)"
   ]
  },
  {
   "cell_type": "markdown",
   "metadata": {
    "colab_type": "text",
    "id": "RnmWwYoT9fDf"
   },
   "source": [
    "#### XGB Regressor"
   ]
  },
  {
   "cell_type": "code",
   "execution_count": 117,
   "metadata": {
    "colab": {
     "base_uri": "https://localhost:8080/",
     "height": 243
    },
    "colab_type": "code",
    "id": "5HWN3ap0TLc7",
    "outputId": "580a3dcd-7ad8-4ed3-dcbc-53b94c3209c9"
   },
   "outputs": [
    {
     "name": "stdout",
     "output_type": "stream",
     "text": [
      "Score\n"
     ]
    },
    {
     "name": "stderr",
     "output_type": "stream",
     "text": [
      "C:\\Users\\chord\\Anaconda3\\lib\\site-packages\\xgboost\\core.py:587: FutureWarning: Series.base is deprecated and will be removed in a future version\n",
      "  if getattr(data, 'base', None) is not None and \\\n"
     ]
    },
    {
     "name": "stdout",
     "output_type": "stream",
     "text": [
      "[18:17:36] WARNING: src/objective/regression_obj.cu:152: reg:linear is now deprecated in favor of reg:squarederror.\n",
      "MAE train: 6632.719136394964\n",
      "MAE test: 6624.714602316513\n",
      "MSE train: 69440305.46203558\n",
      "MSE test: 69035240.95369339\n",
      "R2 train:  0.64416799365048\n",
      "R2 test:  0.646639133821348\n",
      "Cross_val R2: 59.98362728433718\n",
      "time: 2min 21s\n"
     ]
    }
   ],
   "source": [
    "xg = XGBRegressor(n_jobs=-1)\n",
    "\n",
    "eval(xg)"
   ]
  },
  {
   "cell_type": "markdown",
   "metadata": {
    "colab_type": "text",
    "id": "PDinIw8V3IOx"
   },
   "source": [
    "#### ExtraTreeRegressor"
   ]
  },
  {
   "cell_type": "code",
   "execution_count": 118,
   "metadata": {
    "colab": {
     "base_uri": "https://localhost:8080/",
     "height": 171
    },
    "colab_type": "code",
    "id": "a1Dw55ty3Kpb",
    "outputId": "ea404c05-2687-46e2-ae89-e3d06c16a2bb"
   },
   "outputs": [
    {
     "name": "stdout",
     "output_type": "stream",
     "text": [
      "Score\n",
      "MAE train: 2969.0284694610145\n",
      "MAE test: 2979.376400340365\n",
      "MSE train: 28286299.81193322\n",
      "MSE test: 28370850.82073093\n",
      "R2 train:  0.8550529012320218\n",
      "R2 test:  0.8547821622443044\n",
      "Cross_val R2: 69.9833425799091\n",
      "time: 21.8 s\n"
     ]
    }
   ],
   "source": [
    "et  = ExtraTreeRegressor()\n",
    "\n",
    "eval(et)"
   ]
  },
  {
   "cell_type": "markdown",
   "metadata": {
    "colab_type": "text",
    "id": "Jy6MVm0em9yf"
   },
   "source": [
    "    Overall score by extra tree regressor is little better then random forest regressor and execution time is alo low.\n",
    "    MAE train: 2969.0284694610136\n",
    "    MAE test: 2979.5051910180746\n",
    "    MSE train: 28286299.811933223\n",
    "    MSE test: 28371377.66526057\n",
    "    R2 train:  0.8550529012320218\n",
    "    R2 test:  0.854779465560165\n",
    "    Cross_val R2: 70.41115590847554\n",
    "\n",
    "    Time taken - time: 12.6 s"
   ]
  },
  {
   "cell_type": "markdown",
   "metadata": {
    "colab_type": "text",
    "id": "DN_WBcAjF-Z3"
   },
   "source": [
    "### Submission"
   ]
  },
  {
   "cell_type": "code",
   "execution_count": 119,
   "metadata": {
    "colab": {
     "base_uri": "https://localhost:8080/",
     "height": 137
    },
    "colab_type": "code",
    "id": "La3FZ2bH1qSm",
    "outputId": "a87d52cf-9a66-4de5-86d4-a559bc5ac56c"
   },
   "outputs": [
    {
     "name": "stdout",
     "output_type": "stream",
     "text": [
      "MAE train: 2969.028469461013\n",
      "MAE test: 2979.368527345116\n",
      "MSE train: 28286299.81193322\n",
      "MSE test: 28370848.25963053\n",
      "R2 train:  0.8550529012320218\n",
      "R2 test:  0.8547821753534446\n",
      "time: 8.01 s\n"
     ]
    }
   ],
   "source": [
    "#Extra Tree Regressor\n",
    "train_x, test_x, train_y , test_y = train_test_split(train_x_dum, train_y_dum, test_size = 0.3, random_state = 123)\n",
    "et.fit(train_x,train_y)\n",
    "model_check = et.predict(train_x)\n",
    "model_pred = et.predict(test_x)\n",
    "    \n",
    "print ('MAE train:', metrics.mean_absolute_error(train_y, model_check))\n",
    "print ('MAE test:', metrics.mean_absolute_error(test_y, model_pred))\n",
    "print ('MSE train:', metrics.mean_squared_error(train_y, model_check))\n",
    "print ('MSE test:', metrics.mean_squared_error(test_y, model_pred))\n",
    "print ('R2 train: ', metrics.r2_score(train_y, model_check))\n",
    "print ('R2 test: ', metrics.r2_score(test_y, model_pred))\n",
    "    \n",
    "final_pred = et.predict(test_x_dum)"
   ]
  },
  {
   "cell_type": "code",
   "execution_count": 120,
   "metadata": {
    "colab": {
     "base_uri": "https://localhost:8080/",
     "height": 360
    },
    "colab_type": "code",
    "id": "a-ewDciSFda8",
    "outputId": "dc27f2a6-a630-48f9-a707-2ebb38894c45"
   },
   "outputs": [
    {
     "name": "stdout",
     "output_type": "stream",
     "text": [
      "time: 3.37 s\n"
     ]
    }
   ],
   "source": [
    "# Prediction value using Random Forest model..\n",
    "submission = pd.DataFrame({\n",
    "        \"Store_Dept_Date\": test_org.Store.astype(str)+'_'+test_org.Dept.astype(str)+'_'+test_org.Date.astype(str),\n",
    "        \"Weekly_Sales\": final_pred\n",
    "    })\n",
    "\n",
    "submission.to_csv('weekly_sales_predicted.csv', index=False)"
   ]
  },
  {
   "cell_type": "code",
   "execution_count": 122,
   "metadata": {},
   "outputs": [
    {
     "data": {
      "text/html": [
       "<div>\n",
       "<style scoped>\n",
       "    .dataframe tbody tr th:only-of-type {\n",
       "        vertical-align: middle;\n",
       "    }\n",
       "\n",
       "    .dataframe tbody tr th {\n",
       "        vertical-align: top;\n",
       "    }\n",
       "\n",
       "    .dataframe thead th {\n",
       "        text-align: right;\n",
       "    }\n",
       "</style>\n",
       "<table border=\"1\" class=\"dataframe\">\n",
       "  <thead>\n",
       "    <tr style=\"text-align: right;\">\n",
       "      <th></th>\n",
       "      <th>Store_Dept_Date</th>\n",
       "      <th>Weekly_Sales</th>\n",
       "    </tr>\n",
       "  </thead>\n",
       "  <tbody>\n",
       "    <tr>\n",
       "      <th>0</th>\n",
       "      <td>1_1_2012-11-02</td>\n",
       "      <td>18838.180727</td>\n",
       "    </tr>\n",
       "    <tr>\n",
       "      <th>1</th>\n",
       "      <td>1_2_2012-11-02</td>\n",
       "      <td>42670.707896</td>\n",
       "    </tr>\n",
       "    <tr>\n",
       "      <th>2</th>\n",
       "      <td>1_3_2012-11-02</td>\n",
       "      <td>18838.180727</td>\n",
       "    </tr>\n",
       "    <tr>\n",
       "      <th>3</th>\n",
       "      <td>1_4_2012-11-02</td>\n",
       "      <td>36655.265221</td>\n",
       "    </tr>\n",
       "    <tr>\n",
       "      <th>4</th>\n",
       "      <td>1_5_2012-11-02</td>\n",
       "      <td>23903.670678</td>\n",
       "    </tr>\n",
       "    <tr>\n",
       "      <th>...</th>\n",
       "      <td>...</td>\n",
       "      <td>...</td>\n",
       "    </tr>\n",
       "    <tr>\n",
       "      <th>115059</th>\n",
       "      <td>45_93_2013-07-26</td>\n",
       "      <td>2770.692708</td>\n",
       "    </tr>\n",
       "    <tr>\n",
       "      <th>115060</th>\n",
       "      <td>45_94_2013-07-26</td>\n",
       "      <td>3661.517850</td>\n",
       "    </tr>\n",
       "    <tr>\n",
       "      <th>115061</th>\n",
       "      <td>45_95_2013-07-26</td>\n",
       "      <td>42829.800287</td>\n",
       "    </tr>\n",
       "    <tr>\n",
       "      <th>115062</th>\n",
       "      <td>45_97_2013-07-26</td>\n",
       "      <td>10296.186984</td>\n",
       "    </tr>\n",
       "    <tr>\n",
       "      <th>115063</th>\n",
       "      <td>45_98_2013-07-26</td>\n",
       "      <td>613.343758</td>\n",
       "    </tr>\n",
       "  </tbody>\n",
       "</table>\n",
       "<p>115064 rows × 2 columns</p>\n",
       "</div>"
      ],
      "text/plain": [
       "         Store_Dept_Date  Weekly_Sales\n",
       "0         1_1_2012-11-02  18838.180727\n",
       "1         1_2_2012-11-02  42670.707896\n",
       "2         1_3_2012-11-02  18838.180727\n",
       "3         1_4_2012-11-02  36655.265221\n",
       "4         1_5_2012-11-02  23903.670678\n",
       "...                  ...           ...\n",
       "115059  45_93_2013-07-26   2770.692708\n",
       "115060  45_94_2013-07-26   3661.517850\n",
       "115061  45_95_2013-07-26  42829.800287\n",
       "115062  45_97_2013-07-26  10296.186984\n",
       "115063  45_98_2013-07-26    613.343758\n",
       "\n",
       "[115064 rows x 2 columns]"
      ]
     },
     "execution_count": 122,
     "metadata": {},
     "output_type": "execute_result"
    },
    {
     "name": "stdout",
     "output_type": "stream",
     "text": [
      "time: 16 ms\n"
     ]
    }
   ],
   "source": [
    "submission"
   ]
  }
 ],
 "metadata": {
  "accelerator": "GPU",
  "colab": {
   "name": "Copy of Check point _contains combo and combo_dum Walmart Store Sales Forecasting.ipynb",
   "provenance": [],
   "toc_visible": true
  },
  "kernelspec": {
   "display_name": "Python 3",
   "language": "python",
   "name": "python3"
  },
  "language_info": {
   "codemirror_mode": {
    "name": "ipython",
    "version": 3
   },
   "file_extension": ".py",
   "mimetype": "text/x-python",
   "name": "python",
   "nbconvert_exporter": "python",
   "pygments_lexer": "ipython3",
   "version": "3.7.5"
  }
 },
 "nbformat": 4,
 "nbformat_minor": 4
}
